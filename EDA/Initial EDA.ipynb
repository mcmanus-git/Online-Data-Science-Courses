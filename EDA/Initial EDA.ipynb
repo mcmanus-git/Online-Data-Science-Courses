{
 "cells": [
  {
   "cell_type": "markdown",
   "source": [
    "# Online Data Science Courses\n",
    "\n",
    "In this notebook I'm exploring the [Online Data Science Courses](https://www.kaggle.com/antonkozyriev/online-data-science-courses) dataset from Kaggle."
   ],
   "metadata": {
    "collapsed": false,
    "pycharm": {
     "name": "#%% md\n"
    }
   }
  },
  {
   "cell_type": "code",
   "execution_count": 1,
   "outputs": [],
   "source": [
    "import pandas as pd\n",
    "from matplotlib import pyplot as plt"
   ],
   "metadata": {
    "collapsed": false,
    "pycharm": {
     "name": "#%%\n"
    }
   }
  },
  {
   "cell_type": "code",
   "execution_count": 2,
   "outputs": [
    {
     "data": {
      "text/plain": "      Unnamed: 0                                              title  \\\n0              0                  Машинное обучение и анализ данных   \n1              1  Introducción a la Especialización en Ciencia d...   \n2              2               Getting Started with SAS Programming   \n3              3        Introduction to Designing Data Lakes on AWS   \n4              4  Estatística não-paramétrica para a tomada de d...   \n...          ...                                                ...   \n4678        4678  Diploma in Neural Networks in Python - Deep Le...   \n4679        4679  Data Visualization In Power BI - Master The Vi...   \n4680        4680                    Learn Power BI DAX from scratch   \n4681        4681                               Python For Beginners   \n4682        4682  Artificial Intelligence for Healthcare: Opport...   \n\n                                          author  rating  votes_count  \\\n0     Moscow Institute of Physics and Technology     4.7       6382.0   \n1                                            IBM     4.6        116.0   \n2                                            SAS     4.8       2083.0   \n3                            Amazon Web Services     4.7         65.0   \n4                      Universidade de São Paulo     4.4        109.0   \n...                                          ...     ...          ...   \n4678                          Start-Tech Academy     NaN          NaN   \n4679                                 Ayush Kumar     0.0          0.0   \n4680                               Muhammad Asif     4.0          3.0   \n4681                                Sara Al-Arab     4.0         70.0   \n4682                   Taipei Medical University     4.6         22.0   \n\n      students_count         level    duration     platform   free  \n0           100000.0  Intermediate  224.000000     Coursera  False  \n1             3400.0      Beginner   48.000000     Coursera  False  \n2            67000.0      Beginner   22.000000     Coursera  False  \n3             6100.0  Intermediate   14.000000     Coursera  False  \n4             9300.0  Intermediate   13.000000     Coursera  False  \n...              ...           ...         ...          ...    ...  \n4678           690.0         Mixed    8.000000       Alison  False  \n4679           219.0         Mixed    2.639167   Skillshare   True  \n4680            93.0         Mixed    1.672778   Skillshare   True  \n4681            83.0      Beginner    2.963056   Skillshare   True  \n4682          7437.0         Mixed    4.000000  FutureLearn   True  \n\n[4683 rows x 10 columns]",
      "text/html": "<div>\n<style scoped>\n    .dataframe tbody tr th:only-of-type {\n        vertical-align: middle;\n    }\n\n    .dataframe tbody tr th {\n        vertical-align: top;\n    }\n\n    .dataframe thead th {\n        text-align: right;\n    }\n</style>\n<table border=\"1\" class=\"dataframe\">\n  <thead>\n    <tr style=\"text-align: right;\">\n      <th></th>\n      <th>Unnamed: 0</th>\n      <th>title</th>\n      <th>author</th>\n      <th>rating</th>\n      <th>votes_count</th>\n      <th>students_count</th>\n      <th>level</th>\n      <th>duration</th>\n      <th>platform</th>\n      <th>free</th>\n    </tr>\n  </thead>\n  <tbody>\n    <tr>\n      <th>0</th>\n      <td>0</td>\n      <td>Машинное обучение и анализ данных</td>\n      <td>Moscow Institute of Physics and Technology</td>\n      <td>4.7</td>\n      <td>6382.0</td>\n      <td>100000.0</td>\n      <td>Intermediate</td>\n      <td>224.000000</td>\n      <td>Coursera</td>\n      <td>False</td>\n    </tr>\n    <tr>\n      <th>1</th>\n      <td>1</td>\n      <td>Introducción a la Especialización en Ciencia d...</td>\n      <td>IBM</td>\n      <td>4.6</td>\n      <td>116.0</td>\n      <td>3400.0</td>\n      <td>Beginner</td>\n      <td>48.000000</td>\n      <td>Coursera</td>\n      <td>False</td>\n    </tr>\n    <tr>\n      <th>2</th>\n      <td>2</td>\n      <td>Getting Started with SAS Programming</td>\n      <td>SAS</td>\n      <td>4.8</td>\n      <td>2083.0</td>\n      <td>67000.0</td>\n      <td>Beginner</td>\n      <td>22.000000</td>\n      <td>Coursera</td>\n      <td>False</td>\n    </tr>\n    <tr>\n      <th>3</th>\n      <td>3</td>\n      <td>Introduction to Designing Data Lakes on AWS</td>\n      <td>Amazon Web Services</td>\n      <td>4.7</td>\n      <td>65.0</td>\n      <td>6100.0</td>\n      <td>Intermediate</td>\n      <td>14.000000</td>\n      <td>Coursera</td>\n      <td>False</td>\n    </tr>\n    <tr>\n      <th>4</th>\n      <td>4</td>\n      <td>Estatística não-paramétrica para a tomada de d...</td>\n      <td>Universidade de São Paulo</td>\n      <td>4.4</td>\n      <td>109.0</td>\n      <td>9300.0</td>\n      <td>Intermediate</td>\n      <td>13.000000</td>\n      <td>Coursera</td>\n      <td>False</td>\n    </tr>\n    <tr>\n      <th>...</th>\n      <td>...</td>\n      <td>...</td>\n      <td>...</td>\n      <td>...</td>\n      <td>...</td>\n      <td>...</td>\n      <td>...</td>\n      <td>...</td>\n      <td>...</td>\n      <td>...</td>\n    </tr>\n    <tr>\n      <th>4678</th>\n      <td>4678</td>\n      <td>Diploma in Neural Networks in Python - Deep Le...</td>\n      <td>Start-Tech Academy</td>\n      <td>NaN</td>\n      <td>NaN</td>\n      <td>690.0</td>\n      <td>Mixed</td>\n      <td>8.000000</td>\n      <td>Alison</td>\n      <td>False</td>\n    </tr>\n    <tr>\n      <th>4679</th>\n      <td>4679</td>\n      <td>Data Visualization In Power BI - Master The Vi...</td>\n      <td>Ayush Kumar</td>\n      <td>0.0</td>\n      <td>0.0</td>\n      <td>219.0</td>\n      <td>Mixed</td>\n      <td>2.639167</td>\n      <td>Skillshare</td>\n      <td>True</td>\n    </tr>\n    <tr>\n      <th>4680</th>\n      <td>4680</td>\n      <td>Learn Power BI DAX from scratch</td>\n      <td>Muhammad Asif</td>\n      <td>4.0</td>\n      <td>3.0</td>\n      <td>93.0</td>\n      <td>Mixed</td>\n      <td>1.672778</td>\n      <td>Skillshare</td>\n      <td>True</td>\n    </tr>\n    <tr>\n      <th>4681</th>\n      <td>4681</td>\n      <td>Python For Beginners</td>\n      <td>Sara Al-Arab</td>\n      <td>4.0</td>\n      <td>70.0</td>\n      <td>83.0</td>\n      <td>Beginner</td>\n      <td>2.963056</td>\n      <td>Skillshare</td>\n      <td>True</td>\n    </tr>\n    <tr>\n      <th>4682</th>\n      <td>4682</td>\n      <td>Artificial Intelligence for Healthcare: Opport...</td>\n      <td>Taipei Medical University</td>\n      <td>4.6</td>\n      <td>22.0</td>\n      <td>7437.0</td>\n      <td>Mixed</td>\n      <td>4.000000</td>\n      <td>FutureLearn</td>\n      <td>True</td>\n    </tr>\n  </tbody>\n</table>\n<p>4683 rows × 10 columns</p>\n</div>"
     },
     "execution_count": 2,
     "metadata": {},
     "output_type": "execute_result"
    }
   ],
   "source": [
    "df = pd.read_csv('../data/dataframe.csv')\n",
    "df"
   ],
   "metadata": {
    "collapsed": false,
    "pycharm": {
     "name": "#%%\n"
    }
   }
  },
  {
   "cell_type": "markdown",
   "source": [
    "Let's take a look at number of courses per platform."
   ],
   "metadata": {
    "collapsed": false,
    "pycharm": {
     "name": "#%% md\n"
    }
   }
  },
  {
   "cell_type": "code",
   "execution_count": 3,
   "outputs": [
    {
     "data": {
      "text/plain": "Udemy          2072\nSkillshare     1000\nCoursera        996\nedX             326\nPluralsight     174\nFutureLearn      75\nAlison           28\nStepik           12\nName: platform, dtype: int64"
     },
     "execution_count": 3,
     "metadata": {},
     "output_type": "execute_result"
    }
   ],
   "source": [
    "df['platform'].value_counts()"
   ],
   "metadata": {
    "collapsed": false,
    "pycharm": {
     "name": "#%%\n"
    }
   }
  },
  {
   "cell_type": "markdown",
   "source": [
    "Counts of rating by platform."
   ],
   "metadata": {
    "collapsed": false,
    "pycharm": {
     "name": "#%% md\n"
    }
   }
  },
  {
   "cell_type": "code",
   "execution_count": 3,
   "outputs": [
    {
     "data": {
      "text/plain": "platform     rating\nSkillshare   0.0       410\nUdemy        4.6       210\n             4.5       189\n             4.4       180\nCoursera     4.6       170\n                      ... \nStepik       4.6         1\nPluralsight  2.0         1\n             3.0         1\nSkillshare   1.4         1\nCoursera     1.9         1\nLength: 105, dtype: int64"
     },
     "execution_count": 3,
     "metadata": {},
     "output_type": "execute_result"
    }
   ],
   "source": [
    "df.value_counts(['platform', 'rating'])"
   ],
   "metadata": {
    "collapsed": false,
    "pycharm": {
     "name": "#%%\n"
    }
   }
  },
  {
   "cell_type": "markdown",
   "source": [
    "Woah! Skillshare needs to step up their game haha!"
   ],
   "metadata": {
    "collapsed": false,
    "pycharm": {
     "name": "#%% md\n"
    }
   }
  },
  {
   "cell_type": "code",
   "execution_count": 4,
   "outputs": [
    {
     "data": {
      "text/plain": "             mean_rating\nplatform                \nStepik          4.810000\nCoursera        4.490303\nFutureLearn     4.437143\nPluralsight     4.366279\nUdemy           3.968436\nSkillshare      1.913900\nedX                  NaN\nAlison               NaN",
      "text/html": "<div>\n<style scoped>\n    .dataframe tbody tr th:only-of-type {\n        vertical-align: middle;\n    }\n\n    .dataframe tbody tr th {\n        vertical-align: top;\n    }\n\n    .dataframe thead th {\n        text-align: right;\n    }\n</style>\n<table border=\"1\" class=\"dataframe\">\n  <thead>\n    <tr style=\"text-align: right;\">\n      <th></th>\n      <th>mean_rating</th>\n    </tr>\n    <tr>\n      <th>platform</th>\n      <th></th>\n    </tr>\n  </thead>\n  <tbody>\n    <tr>\n      <th>Stepik</th>\n      <td>4.810000</td>\n    </tr>\n    <tr>\n      <th>Coursera</th>\n      <td>4.490303</td>\n    </tr>\n    <tr>\n      <th>FutureLearn</th>\n      <td>4.437143</td>\n    </tr>\n    <tr>\n      <th>Pluralsight</th>\n      <td>4.366279</td>\n    </tr>\n    <tr>\n      <th>Udemy</th>\n      <td>3.968436</td>\n    </tr>\n    <tr>\n      <th>Skillshare</th>\n      <td>1.913900</td>\n    </tr>\n    <tr>\n      <th>edX</th>\n      <td>NaN</td>\n    </tr>\n    <tr>\n      <th>Alison</th>\n      <td>NaN</td>\n    </tr>\n  </tbody>\n</table>\n</div>"
     },
     "execution_count": 4,
     "metadata": {},
     "output_type": "execute_result"
    }
   ],
   "source": [
    "# df.groupby('platform').mean()['rating'].sort_values(ascending=False)\n",
    "df.groupby('platform', sort=False).agg(mean_rating=pd.NamedAgg(column='rating', aggfunc='mean')).sort_values('mean_rating', ascending=False)"
   ],
   "metadata": {
    "collapsed": false,
    "pycharm": {
     "name": "#%%\n"
    }
   }
  },
  {
   "cell_type": "code",
   "execution_count": 5,
   "outputs": [
    {
     "data": {
      "text/plain": "<BarContainer object of 8 artists>"
     },
     "execution_count": 5,
     "metadata": {},
     "output_type": "execute_result"
    },
    {
     "data": {
      "text/plain": "<Figure size 432x288 with 1 Axes>",
      "image/png": "[encoded data removed]"
     },
     "metadata": {
      "needs_background": "light"
     },
     "output_type": "display_data"
    }
   ],
   "source": [
    "avg_rating_by_platform = df.groupby('platform', sort=False).agg(mean_rating=pd.NamedAgg(column='rating', aggfunc='mean')).sort_values('mean_rating', ascending=False)\n",
    "\n",
    "plt.bar(avg_rating_by_platform.index, avg_rating_by_platform['mean_rating'])"
   ],
   "metadata": {
    "collapsed": false,
    "pycharm": {
     "name": "#%%\n"
    }
   }
  },
  {
   "cell_type": "code",
   "execution_count": 6,
   "outputs": [
    {
     "name": "stdout",
     "output_type": "stream",
     "text": [
      "Number of Authors: 1566\n"
     ]
    }
   ],
   "source": [
    "print(f\"Number of Authors: {len(df['author'].unique())}\")"
   ],
   "metadata": {
    "collapsed": false,
    "pycharm": {
     "name": "#%%\n"
    }
   }
  },
  {
   "cell_type": "code",
   "execution_count": 7,
   "outputs": [
    {
     "data": {
      "text/plain": "                               avg_rating_by_author\nauthor                                             \nStepik Academy                                  5.0\nAdith Sreeram                                   5.0\nCharles Santana                                 5.0\nMirco Baragiani                                 5.0\nSandro Servino                                  5.0\n...                                             ...\nWharton                                         NaN\nWitsX                                           NaN\nWorkforce Academy Partnership                   NaN\nYouAccel Training                               NaN\nlogycaX                                         NaN\n\n[1565 rows x 1 columns]",
      "text/html": "<div>\n<style scoped>\n    .dataframe tbody tr th:only-of-type {\n        vertical-align: middle;\n    }\n\n    .dataframe tbody tr th {\n        vertical-align: top;\n    }\n\n    .dataframe thead th {\n        text-align: right;\n    }\n</style>\n<table border=\"1\" class=\"dataframe\">\n  <thead>\n    <tr style=\"text-align: right;\">\n      <th></th>\n      <th>avg_rating_by_author</th>\n    </tr>\n    <tr>\n      <th>author</th>\n      <th></th>\n    </tr>\n  </thead>\n  <tbody>\n    <tr>\n      <th>Stepik Academy</th>\n      <td>5.0</td>\n    </tr>\n    <tr>\n      <th>Adith Sreeram</th>\n      <td>5.0</td>\n    </tr>\n    <tr>\n      <th>Charles Santana</th>\n      <td>5.0</td>\n    </tr>\n    <tr>\n      <th>Mirco Baragiani</th>\n      <td>5.0</td>\n    </tr>\n    <tr>\n      <th>Sandro Servino</th>\n      <td>5.0</td>\n    </tr>\n    <tr>\n      <th>...</th>\n      <td>...</td>\n    </tr>\n    <tr>\n      <th>Wharton</th>\n      <td>NaN</td>\n    </tr>\n    <tr>\n      <th>WitsX</th>\n      <td>NaN</td>\n    </tr>\n    <tr>\n      <th>Workforce Academy Partnership</th>\n      <td>NaN</td>\n    </tr>\n    <tr>\n      <th>YouAccel Training</th>\n      <td>NaN</td>\n    </tr>\n    <tr>\n      <th>logycaX</th>\n      <td>NaN</td>\n    </tr>\n  </tbody>\n</table>\n<p>1565 rows × 1 columns</p>\n</div>"
     },
     "execution_count": 7,
     "metadata": {},
     "output_type": "execute_result"
    }
   ],
   "source": [
    "df.groupby('author').agg(avg_rating_by_author=pd.NamedAgg(column='rating', aggfunc='mean')).sort_values('avg_rating_by_author', ascending=False)"
   ],
   "metadata": {
    "collapsed": false,
    "pycharm": {
     "name": "#%%\n"
    }
   }
  },
  {
   "cell_type": "code",
   "execution_count": 8,
   "outputs": [
    {
     "data": {
      "text/plain": "                                           avg_rating_by_author_platform\nauthor                        platform                                  \nMichael Bunting               Udemy                                  5.0\nVishwesh Singh                Udemy                                  5.0\nChris Achard                  Pluralsight                            5.0\nCharles Santana               Udemy                                  5.0\nMirco Baragiani               Udemy                                  5.0\n...                                                                  ...\nWharton                       edX                                    NaN\nWitsX                         edX                                    NaN\nWorkforce Academy Partnership Alison                                 NaN\nYouAccel Training             Alison                                 NaN\nlogycaX                       edX                                    NaN\n\n[1636 rows x 1 columns]",
      "text/html": "<div>\n<style scoped>\n    .dataframe tbody tr th:only-of-type {\n        vertical-align: middle;\n    }\n\n    .dataframe tbody tr th {\n        vertical-align: top;\n    }\n\n    .dataframe thead th {\n        text-align: right;\n    }\n</style>\n<table border=\"1\" class=\"dataframe\">\n  <thead>\n    <tr style=\"text-align: right;\">\n      <th></th>\n      <th></th>\n      <th>avg_rating_by_author_platform</th>\n    </tr>\n    <tr>\n      <th>author</th>\n      <th>platform</th>\n      <th></th>\n    </tr>\n  </thead>\n  <tbody>\n    <tr>\n      <th>Michael Bunting</th>\n      <th>Udemy</th>\n      <td>5.0</td>\n    </tr>\n    <tr>\n      <th>Vishwesh Singh</th>\n      <th>Udemy</th>\n      <td>5.0</td>\n    </tr>\n    <tr>\n      <th>Chris Achard</th>\n      <th>Pluralsight</th>\n      <td>5.0</td>\n    </tr>\n    <tr>\n      <th>Charles Santana</th>\n      <th>Udemy</th>\n      <td>5.0</td>\n    </tr>\n    <tr>\n      <th>Mirco Baragiani</th>\n      <th>Udemy</th>\n      <td>5.0</td>\n    </tr>\n    <tr>\n      <th>...</th>\n      <th>...</th>\n      <td>...</td>\n    </tr>\n    <tr>\n      <th>Wharton</th>\n      <th>edX</th>\n      <td>NaN</td>\n    </tr>\n    <tr>\n      <th>WitsX</th>\n      <th>edX</th>\n      <td>NaN</td>\n    </tr>\n    <tr>\n      <th>Workforce Academy Partnership</th>\n      <th>Alison</th>\n      <td>NaN</td>\n    </tr>\n    <tr>\n      <th>YouAccel Training</th>\n      <th>Alison</th>\n      <td>NaN</td>\n    </tr>\n    <tr>\n      <th>logycaX</th>\n      <th>edX</th>\n      <td>NaN</td>\n    </tr>\n  </tbody>\n</table>\n<p>1636 rows × 1 columns</p>\n</div>"
     },
     "execution_count": 8,
     "metadata": {},
     "output_type": "execute_result"
    }
   ],
   "source": [
    "df.groupby(['author', 'platform']).agg(avg_rating_by_author_platform=pd.NamedAgg(column='rating', aggfunc='mean')).sort_values('avg_rating_by_author_platform', ascending=False)"
   ],
   "metadata": {
    "collapsed": false,
    "pycharm": {
     "name": "#%%\n"
    }
   }
  },
  {
   "cell_type": "code",
   "execution_count": 9,
   "outputs": [
    {
     "data": {
      "text/plain": "              students_count\nlevel                       \nBeginner          26706424.0\nMixed             21729047.0\nIntermediate      16279662.0\nAdvanced           3926403.0",
      "text/html": "<div>\n<style scoped>\n    .dataframe tbody tr th:only-of-type {\n        vertical-align: middle;\n    }\n\n    .dataframe tbody tr th {\n        vertical-align: top;\n    }\n\n    .dataframe thead th {\n        text-align: right;\n    }\n</style>\n<table border=\"1\" class=\"dataframe\">\n  <thead>\n    <tr style=\"text-align: right;\">\n      <th></th>\n      <th>students_count</th>\n    </tr>\n    <tr>\n      <th>level</th>\n      <th></th>\n    </tr>\n  </thead>\n  <tbody>\n    <tr>\n      <th>Beginner</th>\n      <td>26706424.0</td>\n    </tr>\n    <tr>\n      <th>Mixed</th>\n      <td>21729047.0</td>\n    </tr>\n    <tr>\n      <th>Intermediate</th>\n      <td>16279662.0</td>\n    </tr>\n    <tr>\n      <th>Advanced</th>\n      <td>3926403.0</td>\n    </tr>\n  </tbody>\n</table>\n</div>"
     },
     "execution_count": 9,
     "metadata": {},
     "output_type": "execute_result"
    }
   ],
   "source": [
    "pd.pivot_table(df, values='students_count', index='level', aggfunc='sum').sort_values('students_count', ascending=False)"
   ],
   "metadata": {
    "collapsed": false,
    "pycharm": {
     "name": "#%%\n"
    }
   }
  },
  {
   "cell_type": "markdown",
   "source": [
    "While we can't know for sure that each student count is a unique student as one student may take several courses, we can approximate the proportion of students who have taken courses at each level.  It is unlikely that students have taken more than one course at a time. The aggregation would also be 'all of time' so it might not be very insightful.  If we had a time element, we could look at how number of students at the level over time. Alas, we'll do what we can with the data available."
   ],
   "metadata": {
    "collapsed": false,
    "pycharm": {
     "name": "#%% md\n"
    }
   }
  },
  {
   "cell_type": "code",
   "execution_count": 18,
   "outputs": [
    {
     "name": "stdout",
     "output_type": "stream",
     "text": [
      "There are 68,641,536 total students in the dataset\n"
     ]
    }
   ],
   "source": [
    "total_students = df['students_count'].sum()\n",
    "print(f\"There are {total_students:,.0f} total students in the dataset\")"
   ],
   "metadata": {
    "collapsed": false,
    "pycharm": {
     "name": "#%%\n"
    }
   }
  },
  {
   "cell_type": "code",
   "execution_count": 38,
   "outputs": [
    {
     "data": {
      "text/plain": "              proportion_students_level\nlevel                                  \nBeginner                       0.389071\nMixed                          0.316558\nIntermediate                   0.237169\nAdvanced                       0.057202",
      "text/html": "<div>\n<style scoped>\n    .dataframe tbody tr th:only-of-type {\n        vertical-align: middle;\n    }\n\n    .dataframe tbody tr th {\n        vertical-align: top;\n    }\n\n    .dataframe thead th {\n        text-align: right;\n    }\n</style>\n<table border=\"1\" class=\"dataframe\">\n  <thead>\n    <tr style=\"text-align: right;\">\n      <th></th>\n      <th>proportion_students_level</th>\n    </tr>\n    <tr>\n      <th>level</th>\n      <th></th>\n    </tr>\n  </thead>\n  <tbody>\n    <tr>\n      <th>Beginner</th>\n      <td>0.389071</td>\n    </tr>\n    <tr>\n      <th>Mixed</th>\n      <td>0.316558</td>\n    </tr>\n    <tr>\n      <th>Intermediate</th>\n      <td>0.237169</td>\n    </tr>\n    <tr>\n      <th>Advanced</th>\n      <td>0.057202</td>\n    </tr>\n  </tbody>\n</table>\n</div>"
     },
     "execution_count": 38,
     "metadata": {},
     "output_type": "execute_result"
    }
   ],
   "source": [
    "proportion_students_level = pd.pivot_table(df, values='students_count', index='level', aggfunc='sum').sort_values('students_count', ascending=False)/total_students\n",
    "proportion_students_level.rename({'students_count': 'proportion_students_level'}, axis=1, inplace=True)\n",
    "proportion_students_level"
   ],
   "metadata": {
    "collapsed": false,
    "pycharm": {
     "name": "#%%\n"
    }
   }
  },
  {
   "cell_type": "code",
   "execution_count": 10,
   "outputs": [
    {
     "data": {
      "text/plain": "<Figure size 720x504 with 1 Axes>",
      "image/png": "[encoded data removed]"
     },
     "metadata": {},
     "output_type": "display_data"
    }
   ],
   "source": [
    "pie_data = pd.pivot_table(df, values='students_count', index='level', aggfunc='sum').sort_values('students_count', ascending=False)\n",
    "fig = plt.figure(figsize =(10, 7))\n",
    "plt.pie(pie_data['students_count'], labels=pie_data.index);"
   ],
   "metadata": {
    "collapsed": false,
    "pycharm": {
     "name": "#%%\n"
    }
   }
  },
  {
   "cell_type": "code",
   "execution_count": 11,
   "outputs": [
    {
     "data": {
      "text/plain": "<Figure size 432x288 with 1 Axes>",
      "image/png": "[encoded data removed]"
     },
     "metadata": {
      "needs_background": "light"
     },
     "output_type": "display_data"
    }
   ],
   "source": [
    "plt.bar(pie_data.index, pie_data['students_count']);"
   ],
   "metadata": {
    "collapsed": false,
    "pycharm": {
     "name": "#%%\n"
    }
   }
  },
  {
   "cell_type": "markdown",
   "source": [
    "It's clear that there are more Beginner and Mixed level students.  But are there more Beginner and Mixed level courses?  Let's find out."
   ],
   "metadata": {
    "collapsed": false,
    "pycharm": {
     "name": "#%% md\n"
    }
   }
  },
  {
   "cell_type": "code",
   "execution_count": 23,
   "outputs": [
    {
     "data": {
      "text/plain": "level\nBeginner        1772\nMixed           1521\nIntermediate    1136\nAdvanced         254\ndtype: int64"
     },
     "execution_count": 23,
     "metadata": {},
     "output_type": "execute_result"
    }
   ],
   "source": [
    "df.groupby('level').size().sort_values(ascending=False)"
   ],
   "metadata": {
    "collapsed": false,
    "pycharm": {
     "name": "#%%\n"
    }
   }
  },
  {
   "cell_type": "markdown",
   "source": [
    "Yes, there are more Beginner and Mixed level classes as well.  Let's look at proportions and see if they're in line with the number of students enrolled."
   ],
   "metadata": {
    "collapsed": false,
    "pycharm": {
     "name": "#%% md\n"
    }
   }
  },
  {
   "cell_type": "code",
   "execution_count": 26,
   "outputs": [
    {
     "name": "stdout",
     "output_type": "stream",
     "text": [
      "There are 4,593 courses in this dataset.\n"
     ]
    }
   ],
   "source": [
    "total_classes = len(df['title'].unique())\n",
    "print(f\"There are {total_classes:,} courses in this dataset.\")"
   ],
   "metadata": {
    "collapsed": false,
    "pycharm": {
     "name": "#%%\n"
    }
   }
  },
  {
   "cell_type": "code",
   "execution_count": 42,
   "outputs": [
    {
     "data": {
      "text/plain": "level\nBeginner        0.385804\nMixed           0.331156\nIntermediate    0.247333\nAdvanced        0.055302\nName: proportion_classes, dtype: float64"
     },
     "execution_count": 42,
     "metadata": {},
     "output_type": "execute_result"
    }
   ],
   "source": [
    "proportion_classes = df.groupby('level').size().sort_values(ascending=False) / total_classes\n",
    "proportion_classes.rename('proportion_classes', axis=1, inplace=True)\n",
    "proportion_classes\n"
   ],
   "metadata": {
    "collapsed": false,
    "pycharm": {
     "name": "#%%\n"
    }
   }
  },
  {
   "cell_type": "code",
   "execution_count": 44,
   "outputs": [
    {
     "data": {
      "text/plain": "              proportion_classes  proportion_students_level\nlevel                                                      \nBeginner                0.385804                   0.389071\nMixed                   0.331156                   0.316558\nIntermediate            0.247333                   0.237169\nAdvanced                0.055302                   0.057202",
      "text/html": "<div>\n<style scoped>\n    .dataframe tbody tr th:only-of-type {\n        vertical-align: middle;\n    }\n\n    .dataframe tbody tr th {\n        vertical-align: top;\n    }\n\n    .dataframe thead th {\n        text-align: right;\n    }\n</style>\n<table border=\"1\" class=\"dataframe\">\n  <thead>\n    <tr style=\"text-align: right;\">\n      <th></th>\n      <th>proportion_classes</th>\n      <th>proportion_students_level</th>\n    </tr>\n    <tr>\n      <th>level</th>\n      <th></th>\n      <th></th>\n    </tr>\n  </thead>\n  <tbody>\n    <tr>\n      <th>Beginner</th>\n      <td>0.385804</td>\n      <td>0.389071</td>\n    </tr>\n    <tr>\n      <th>Mixed</th>\n      <td>0.331156</td>\n      <td>0.316558</td>\n    </tr>\n    <tr>\n      <th>Intermediate</th>\n      <td>0.247333</td>\n      <td>0.237169</td>\n    </tr>\n    <tr>\n      <th>Advanced</th>\n      <td>0.055302</td>\n      <td>0.057202</td>\n    </tr>\n  </tbody>\n</table>\n</div>"
     },
     "execution_count": 44,
     "metadata": {},
     "output_type": "execute_result"
    }
   ],
   "source": [
    "pd.merge(proportion_classes, proportion_students_level, left_index=True, right_index=True)"
   ],
   "metadata": {
    "collapsed": false,
    "pycharm": {
     "name": "#%%\n"
    }
   }
  },
  {
   "cell_type": "markdown",
   "source": [
    "So we can see the proportion of classes by level and proportion of students by level is nearly identical.  Not surprising then more students enroll in Beginner and Mixed level courses if there are more of those offered.  Likely these platforms cater to those starting out in data science than those who are already proficient and want to hone their skills."
   ],
   "metadata": {
    "collapsed": false,
    "pycharm": {
     "name": "#%% md\n"
    }
   }
  },
  {
   "cell_type": "code",
   "execution_count": 12,
   "outputs": [
    {
     "data": {
      "text/plain": "                rating  students_count\nlevel                                 \nBeginner      3.362943      26706424.0\nMixed         3.598960      21729047.0\nIntermediate  3.862683      16279662.0\nAdvanced      3.875000       3926403.0",
      "text/html": "<div>\n<style scoped>\n    .dataframe tbody tr th:only-of-type {\n        vertical-align: middle;\n    }\n\n    .dataframe tbody tr th {\n        vertical-align: top;\n    }\n\n    .dataframe thead th {\n        text-align: right;\n    }\n</style>\n<table border=\"1\" class=\"dataframe\">\n  <thead>\n    <tr style=\"text-align: right;\">\n      <th></th>\n      <th>rating</th>\n      <th>students_count</th>\n    </tr>\n    <tr>\n      <th>level</th>\n      <th></th>\n      <th></th>\n    </tr>\n  </thead>\n  <tbody>\n    <tr>\n      <th>Beginner</th>\n      <td>3.362943</td>\n      <td>26706424.0</td>\n    </tr>\n    <tr>\n      <th>Mixed</th>\n      <td>3.598960</td>\n      <td>21729047.0</td>\n    </tr>\n    <tr>\n      <th>Intermediate</th>\n      <td>3.862683</td>\n      <td>16279662.0</td>\n    </tr>\n    <tr>\n      <th>Advanced</th>\n      <td>3.875000</td>\n      <td>3926403.0</td>\n    </tr>\n  </tbody>\n</table>\n</div>"
     },
     "execution_count": 12,
     "metadata": {},
     "output_type": "execute_result"
    }
   ],
   "source": [
    "pd.pivot_table(df, values=['students_count', 'rating'], index='level', aggfunc={'students_count': 'sum', 'rating': 'mean'}).sort_values(['students_count', 'rating'], ascending=False)"
   ],
   "metadata": {
    "collapsed": false,
    "pycharm": {
     "name": "#%%\n"
    }
   }
  },
  {
   "cell_type": "code",
   "execution_count": 10,
   "outputs": [
    {
     "data": {
      "text/plain": "                                                            rating  \\\ntitle                                             platform           \nGenerate and visualize data in Python and MATLAB  Udemy        5.0   \nWant to be a Big Data Scientist?                  Udemy        5.0   \nPopulation Health: Predictive Analytics           Coursera     5.0   \nIntroduction to Predictive Modeling               Coursera     5.0   \nNetwork Analytics for Business                    Coursera     5.0   \n...                                                            ...   \nأساسيات تحليل البيانات باستخدام بايثون وباندا     Coursera     NaN   \nالتعلّم الآلي باستخدام لغة بايثون                 Coursera     NaN   \n人群与网络 | Networks and Crowds                       edX          NaN   \n数据结构与算法第一部分 | Data Structures and Algorithms Part edX          NaN   \n数据结构与算法第二部分 | Data Structures and Algorithms Part edX          NaN   \n\n                                                            students_count  \ntitle                                             platform                  \nGenerate and visualize data in Python and MATLAB  Udemy            19595.0  \nWant to be a Big Data Scientist?                  Udemy            12523.0  \nPopulation Health: Predictive Analytics           Coursera          2700.0  \nIntroduction to Predictive Modeling               Coursera          1700.0  \nNetwork Analytics for Business                    Coursera          1700.0  \n...                                                                    ...  \nأساسيات تحليل البيانات باستخدام بايثون وباندا     Coursera             0.0  \nالتعلّم الآلي باستخدام لغة بايثون                 Coursera             0.0  \n人群与网络 | Networks and Crowds                       edX                  0.0  \n数据结构与算法第一部分 | Data Structures and Algorithms Part edX                  0.0  \n数据结构与算法第二部分 | Data Structures and Algorithms Part edX                  0.0  \n\n[4648 rows x 2 columns]",
      "text/html": "<div>\n<style scoped>\n    .dataframe tbody tr th:only-of-type {\n        vertical-align: middle;\n    }\n\n    .dataframe tbody tr th {\n        vertical-align: top;\n    }\n\n    .dataframe thead th {\n        text-align: right;\n    }\n</style>\n<table border=\"1\" class=\"dataframe\">\n  <thead>\n    <tr style=\"text-align: right;\">\n      <th></th>\n      <th></th>\n      <th>rating</th>\n      <th>students_count</th>\n    </tr>\n    <tr>\n      <th>title</th>\n      <th>platform</th>\n      <th></th>\n      <th></th>\n    </tr>\n  </thead>\n  <tbody>\n    <tr>\n      <th>Generate and visualize data in Python and MATLAB</th>\n      <th>Udemy</th>\n      <td>5.0</td>\n      <td>19595.0</td>\n    </tr>\n    <tr>\n      <th>Want to be a Big Data Scientist?</th>\n      <th>Udemy</th>\n      <td>5.0</td>\n      <td>12523.0</td>\n    </tr>\n    <tr>\n      <th>Population Health: Predictive Analytics</th>\n      <th>Coursera</th>\n      <td>5.0</td>\n      <td>2700.0</td>\n    </tr>\n    <tr>\n      <th>Introduction to Predictive Modeling</th>\n      <th>Coursera</th>\n      <td>5.0</td>\n      <td>1700.0</td>\n    </tr>\n    <tr>\n      <th>Network Analytics for Business</th>\n      <th>Coursera</th>\n      <td>5.0</td>\n      <td>1700.0</td>\n    </tr>\n    <tr>\n      <th>...</th>\n      <th>...</th>\n      <td>...</td>\n      <td>...</td>\n    </tr>\n    <tr>\n      <th>أساسيات تحليل البيانات باستخدام بايثون وباندا</th>\n      <th>Coursera</th>\n      <td>NaN</td>\n      <td>0.0</td>\n    </tr>\n    <tr>\n      <th>التعلّم الآلي باستخدام لغة بايثون</th>\n      <th>Coursera</th>\n      <td>NaN</td>\n      <td>0.0</td>\n    </tr>\n    <tr>\n      <th>人群与网络 | Networks and Crowds</th>\n      <th>edX</th>\n      <td>NaN</td>\n      <td>0.0</td>\n    </tr>\n    <tr>\n      <th>数据结构与算法第一部分 | Data Structures and Algorithms Part</th>\n      <th>edX</th>\n      <td>NaN</td>\n      <td>0.0</td>\n    </tr>\n    <tr>\n      <th>数据结构与算法第二部分 | Data Structures and Algorithms Part</th>\n      <th>edX</th>\n      <td>NaN</td>\n      <td>0.0</td>\n    </tr>\n  </tbody>\n</table>\n<p>4648 rows × 2 columns</p>\n</div>"
     },
     "execution_count": 10,
     "metadata": {},
     "output_type": "execute_result"
    }
   ],
   "source": [
    "pd.pivot_table(df, index=['title', 'platform'], values=['rating', 'students_count'], aggfunc={'rating': 'mean', 'students_count': 'sum'}).sort_values(['rating', 'students_count'], ascending=False)"
   ],
   "metadata": {
    "collapsed": false,
    "pycharm": {
     "name": "#%%\n"
    }
   }
  },
  {
   "cell_type": "code",
   "execution_count": 11,
   "outputs": [
    {
     "data": {
      "text/plain": "                                                  title     platform  rating  \\\n345    Generate and visualize data in Python and MATLAB        Udemy     5.0   \n240                    Want to be a Big Data Scientist?        Udemy     5.0   \n3899            Population Health: Predictive Analytics     Coursera     5.0   \n2756                Introduction to Predictive Modeling     Coursera     5.0   \n3580                     Network Analytics for Business     Coursera     5.0   \n...                                                 ...          ...     ...   \n4611                   Design Data Models for Couchbase  Pluralsight     NaN   \n4620        K-Means Clustering : World Happiness Report     Coursera     NaN   \n4640   Take Your Medicine: Developing New Drug Products          edX     NaN   \n4652  Build Your First Data Visualization with CanvasJS  Pluralsight     NaN   \n4667                              Analyzing Data with R          edX     NaN   \n\n      students_count  \n345          19595.0  \n240          12523.0  \n3899          2700.0  \n2756          1700.0  \n3580          1700.0  \n...              ...  \n4611             NaN  \n4620             NaN  \n4640             NaN  \n4652             NaN  \n4667             NaN  \n\n[4683 rows x 4 columns]",
      "text/html": "<div>\n<style scoped>\n    .dataframe tbody tr th:only-of-type {\n        vertical-align: middle;\n    }\n\n    .dataframe tbody tr th {\n        vertical-align: top;\n    }\n\n    .dataframe thead th {\n        text-align: right;\n    }\n</style>\n<table border=\"1\" class=\"dataframe\">\n  <thead>\n    <tr style=\"text-align: right;\">\n      <th></th>\n      <th>title</th>\n      <th>platform</th>\n      <th>rating</th>\n      <th>students_count</th>\n    </tr>\n  </thead>\n  <tbody>\n    <tr>\n      <th>345</th>\n      <td>Generate and visualize data in Python and MATLAB</td>\n      <td>Udemy</td>\n      <td>5.0</td>\n      <td>19595.0</td>\n    </tr>\n    <tr>\n      <th>240</th>\n      <td>Want to be a Big Data Scientist?</td>\n      <td>Udemy</td>\n      <td>5.0</td>\n      <td>12523.0</td>\n    </tr>\n    <tr>\n      <th>3899</th>\n      <td>Population Health: Predictive Analytics</td>\n      <td>Coursera</td>\n      <td>5.0</td>\n      <td>2700.0</td>\n    </tr>\n    <tr>\n      <th>2756</th>\n      <td>Introduction to Predictive Modeling</td>\n      <td>Coursera</td>\n      <td>5.0</td>\n      <td>1700.0</td>\n    </tr>\n    <tr>\n      <th>3580</th>\n      <td>Network Analytics for Business</td>\n      <td>Coursera</td>\n      <td>5.0</td>\n      <td>1700.0</td>\n    </tr>\n    <tr>\n      <th>...</th>\n      <td>...</td>\n      <td>...</td>\n      <td>...</td>\n      <td>...</td>\n    </tr>\n    <tr>\n      <th>4611</th>\n      <td>Design Data Models for Couchbase</td>\n      <td>Pluralsight</td>\n      <td>NaN</td>\n      <td>NaN</td>\n    </tr>\n    <tr>\n      <th>4620</th>\n      <td>K-Means Clustering : World Happiness Report</td>\n      <td>Coursera</td>\n      <td>NaN</td>\n      <td>NaN</td>\n    </tr>\n    <tr>\n      <th>4640</th>\n      <td>Take Your Medicine: Developing New Drug Products</td>\n      <td>edX</td>\n      <td>NaN</td>\n      <td>NaN</td>\n    </tr>\n    <tr>\n      <th>4652</th>\n      <td>Build Your First Data Visualization with CanvasJS</td>\n      <td>Pluralsight</td>\n      <td>NaN</td>\n      <td>NaN</td>\n    </tr>\n    <tr>\n      <th>4667</th>\n      <td>Analyzing Data with R</td>\n      <td>edX</td>\n      <td>NaN</td>\n      <td>NaN</td>\n    </tr>\n  </tbody>\n</table>\n<p>4683 rows × 4 columns</p>\n</div>"
     },
     "execution_count": 11,
     "metadata": {},
     "output_type": "execute_result"
    }
   ],
   "source": [
    "df[['title', 'platform', 'rating', 'students_count']].sort_values(['rating', 'students_count'], ascending=False)"
   ],
   "metadata": {
    "collapsed": false,
    "pycharm": {
     "name": "#%%\n"
    }
   }
  },
  {
   "cell_type": "code",
   "execution_count": 18,
   "outputs": [
    {
     "data": {
      "text/plain": "<BarContainer object of 39 artists>"
     },
     "execution_count": 18,
     "metadata": {},
     "output_type": "execute_result"
    },
    {
     "data": {
      "text/plain": "<Figure size 432x288 with 1 Axes>",
      "image/png": "[encoded data removed]"
     },
     "metadata": {
      "needs_background": "light"
     },
     "output_type": "display_data"
    }
   ],
   "source": [
    "plt.bar(df.value_counts('rating').index, df.value_counts('rating'))"
   ],
   "metadata": {
    "collapsed": false,
    "pycharm": {
     "name": "#%%\n"
    }
   }
  },
  {
   "cell_type": "markdown",
   "source": [
    "The only other real question I can think to ask of this data is what types of topics are represented in the dataset.  To find the answer to that question, we'll need to do some NLP which isn't exactly what I set out for on this particular exploration.  Alas, all roads lead to NLP.  The first major issue is going to be splitting out those course titles that are in English as I won't be able to properly gauge model performance on titles I can't read. Lucky for us, SpaCy has a language detector.  Let's try that out.\n",
    "\n",
    "Reference: https://towardsdatascience.com/4-python-libraries-to-detect-english-and-non-english-language-c82ad3efd430\n",
    "\n",
    "conda install -c conda-forge spacy\n",
    "pip install spacy-langdetect\n",
    "conda install -c conda-forge langdetect # not this!"
   ],
   "metadata": {
    "collapsed": false,
    "pycharm": {
     "name": "#%% md\n"
    }
   }
  },
  {
   "cell_type": "code",
   "execution_count": 47,
   "outputs": [],
   "source": [
    "from spacy_langdetect import LanguageDetector\n",
    "import spacy"
   ],
   "metadata": {
    "collapsed": false,
    "pycharm": {
     "name": "#%%\n"
    }
   }
  },
  {
   "cell_type": "code",
   "execution_count": 53,
   "outputs": [
    {
     "name": "stdout",
     "output_type": "stream",
     "text": [
      "Collecting en-core-web-sm==3.2.0\r\n",
      "  Downloading https://github.com/explosion/spacy-models/releases/download/en_core_web_sm-3.2.0/en_core_web_sm-3.2.0-py3-none-any.whl (13.9 MB)\r\n",
      "\u001B[K     |████████████████████████████████| 13.9 MB 3.9 MB/s eta 0:00:01\r\n",
      "\u001B[?25hRequirement already satisfied: spacy<3.3.0,>=3.2.0 in /opt/anaconda3/lib/python3.9/site-packages (from en-core-web-sm==3.2.0) (3.2.1)\r\n",
      "Requirement already satisfied: blis<0.8.0,>=0.4.0 in /opt/anaconda3/lib/python3.9/site-packages (from spacy<3.3.0,>=3.2.0->en-core-web-sm==3.2.0) (0.7.5)\r\n",
      "Requirement already satisfied: typer<0.5.0,>=0.3.0 in /opt/anaconda3/lib/python3.9/site-packages (from spacy<3.3.0,>=3.2.0->en-core-web-sm==3.2.0) (0.4.0)\r\n",
      "Requirement already satisfied: preshed<3.1.0,>=3.0.2 in /opt/anaconda3/lib/python3.9/site-packages (from spacy<3.3.0,>=3.2.0->en-core-web-sm==3.2.0) (3.0.6)\r\n",
      "Requirement already satisfied: catalogue<2.1.0,>=2.0.6 in /opt/anaconda3/lib/python3.9/site-packages (from spacy<3.3.0,>=3.2.0->en-core-web-sm==3.2.0) (2.0.6)\r\n",
      "Requirement already satisfied: pydantic!=1.8,!=1.8.1,<1.9.0,>=1.7.4 in /opt/anaconda3/lib/python3.9/site-packages (from spacy<3.3.0,>=3.2.0->en-core-web-sm==3.2.0) (1.8.2)\r\n",
      "Requirement already satisfied: cymem<2.1.0,>=2.0.2 in /opt/anaconda3/lib/python3.9/site-packages (from spacy<3.3.0,>=3.2.0->en-core-web-sm==3.2.0) (2.0.6)\r\n",
      "Requirement already satisfied: thinc<8.1.0,>=8.0.12 in /opt/anaconda3/lib/python3.9/site-packages (from spacy<3.3.0,>=3.2.0->en-core-web-sm==3.2.0) (8.0.13)\r\n",
      "Requirement already satisfied: pathy>=0.3.5 in /opt/anaconda3/lib/python3.9/site-packages (from spacy<3.3.0,>=3.2.0->en-core-web-sm==3.2.0) (0.6.1)\r\n",
      "Requirement already satisfied: tqdm<5.0.0,>=4.38.0 in /opt/anaconda3/lib/python3.9/site-packages (from spacy<3.3.0,>=3.2.0->en-core-web-sm==3.2.0) (4.62.3)\r\n",
      "Requirement already satisfied: murmurhash<1.1.0,>=0.28.0 in /opt/anaconda3/lib/python3.9/site-packages (from spacy<3.3.0,>=3.2.0->en-core-web-sm==3.2.0) (1.0.6)\r\n",
      "Requirement already satisfied: setuptools in /opt/anaconda3/lib/python3.9/site-packages (from spacy<3.3.0,>=3.2.0->en-core-web-sm==3.2.0) (58.0.4)\r\n",
      "Requirement already satisfied: spacy-legacy<3.1.0,>=3.0.8 in /opt/anaconda3/lib/python3.9/site-packages (from spacy<3.3.0,>=3.2.0->en-core-web-sm==3.2.0) (3.0.8)\r\n",
      "Requirement already satisfied: spacy-loggers<2.0.0,>=1.0.0 in /opt/anaconda3/lib/python3.9/site-packages (from spacy<3.3.0,>=3.2.0->en-core-web-sm==3.2.0) (1.0.1)\r\n",
      "Requirement already satisfied: langcodes<4.0.0,>=3.2.0 in /opt/anaconda3/lib/python3.9/site-packages (from spacy<3.3.0,>=3.2.0->en-core-web-sm==3.2.0) (3.3.0)\r\n",
      "Requirement already satisfied: packaging>=20.0 in /opt/anaconda3/lib/python3.9/site-packages (from spacy<3.3.0,>=3.2.0->en-core-web-sm==3.2.0) (21.0)\r\n",
      "Requirement already satisfied: wasabi<1.1.0,>=0.8.1 in /opt/anaconda3/lib/python3.9/site-packages (from spacy<3.3.0,>=3.2.0->en-core-web-sm==3.2.0) (0.9.0)\r\n",
      "Requirement already satisfied: numpy>=1.15.0 in /opt/anaconda3/lib/python3.9/site-packages (from spacy<3.3.0,>=3.2.0->en-core-web-sm==3.2.0) (1.20.3)\r\n",
      "Requirement already satisfied: requests<3.0.0,>=2.13.0 in /opt/anaconda3/lib/python3.9/site-packages (from spacy<3.3.0,>=3.2.0->en-core-web-sm==3.2.0) (2.26.0)\r\n",
      "Requirement already satisfied: srsly<3.0.0,>=2.4.1 in /opt/anaconda3/lib/python3.9/site-packages (from spacy<3.3.0,>=3.2.0->en-core-web-sm==3.2.0) (2.4.2)\r\n",
      "Requirement already satisfied: jinja2 in /opt/anaconda3/lib/python3.9/site-packages (from spacy<3.3.0,>=3.2.0->en-core-web-sm==3.2.0) (2.11.3)\r\n",
      "Requirement already satisfied: pyparsing>=2.0.2 in /opt/anaconda3/lib/python3.9/site-packages (from packaging>=20.0->spacy<3.3.0,>=3.2.0->en-core-web-sm==3.2.0) (3.0.4)\r\n",
      "Requirement already satisfied: smart-open<6.0.0,>=5.0.0 in /opt/anaconda3/lib/python3.9/site-packages (from pathy>=0.3.5->spacy<3.3.0,>=3.2.0->en-core-web-sm==3.2.0) (5.2.1)\r\n",
      "Requirement already satisfied: typing-extensions>=3.7.4.3 in /opt/anaconda3/lib/python3.9/site-packages (from pydantic!=1.8,!=1.8.1,<1.9.0,>=1.7.4->spacy<3.3.0,>=3.2.0->en-core-web-sm==3.2.0) (3.10.0.2)\r\n",
      "Requirement already satisfied: certifi>=2017.4.17 in /opt/anaconda3/lib/python3.9/site-packages (from requests<3.0.0,>=2.13.0->spacy<3.3.0,>=3.2.0->en-core-web-sm==3.2.0) (2021.10.8)\r\n",
      "Requirement already satisfied: idna<4,>=2.5 in /opt/anaconda3/lib/python3.9/site-packages (from requests<3.0.0,>=2.13.0->spacy<3.3.0,>=3.2.0->en-core-web-sm==3.2.0) (3.2)\r\n",
      "Requirement already satisfied: charset-normalizer~=2.0.0 in /opt/anaconda3/lib/python3.9/site-packages (from requests<3.0.0,>=2.13.0->spacy<3.3.0,>=3.2.0->en-core-web-sm==3.2.0) (2.0.4)\r\n",
      "Requirement already satisfied: urllib3<1.27,>=1.21.1 in /opt/anaconda3/lib/python3.9/site-packages (from requests<3.0.0,>=2.13.0->spacy<3.3.0,>=3.2.0->en-core-web-sm==3.2.0) (1.26.7)\r\n",
      "Requirement already satisfied: click<9.0.0,>=7.1.1 in /opt/anaconda3/lib/python3.9/site-packages (from typer<0.5.0,>=0.3.0->spacy<3.3.0,>=3.2.0->en-core-web-sm==3.2.0) (8.0.3)\r\n",
      "Requirement already satisfied: MarkupSafe>=0.23 in /opt/anaconda3/lib/python3.9/site-packages (from jinja2->spacy<3.3.0,>=3.2.0->en-core-web-sm==3.2.0) (1.1.1)\r\n",
      "Installing collected packages: en-core-web-sm\r\n",
      "Successfully installed en-core-web-sm-3.2.0\r\n",
      "\u001B[38;5;2m✔ Download and installation successful\u001B[0m\r\n",
      "You can now load the package via spacy.load('en_core_web_sm')\r\n"
     ]
    }
   ],
   "source": [
    "# https://spacy.io/usage/models\n",
    "!python -m spacy download en_core_web_sm"
   ],
   "metadata": {
    "collapsed": false,
    "pycharm": {
     "name": "#%%\n"
    }
   }
  },
  {
   "cell_type": "code",
   "execution_count": 54,
   "outputs": [
    {
     "ename": "ValueError",
     "evalue": "[E966] `nlp.add_pipe` now takes the string name of the registered component factory, not a callable component. Expected string, but got <spacy_langdetect.spacy_langdetect.LanguageDetector object at 0x7facba060460> (name: 'language_detector').\n\n- If you created your component with `nlp.create_pipe('name')`: remove nlp.create_pipe and call `nlp.add_pipe('name')` instead.\n\n- If you passed in a component like `TextCategorizer()`: call `nlp.add_pipe` with the string name instead, e.g. `nlp.add_pipe('textcat')`.\n\n- If you're using a custom component: Add the decorator `@Language.component` (for function components) or `@Language.factory` (for class components / factories) to your custom component and assign it a name, e.g. `@Language.component('your_name')`. You can then run `nlp.add_pipe('your_name')` to add it to the pipeline.",
     "output_type": "error",
     "traceback": [
      "\u001B[0;31m---------------------------------------------------------------------------\u001B[0m",
      "\u001B[0;31mValueError\u001B[0m                                Traceback (most recent call last)",
      "\u001B[0;32m/var/folders/x5/8jbl553d391f5ks09z57vch40000gn/T/ipykernel_53832/1151604580.py\u001B[0m in \u001B[0;36m<module>\u001B[0;34m\u001B[0m\n\u001B[1;32m      1\u001B[0m \u001B[0mnlp\u001B[0m \u001B[0;34m=\u001B[0m \u001B[0mspacy\u001B[0m\u001B[0;34m.\u001B[0m\u001B[0mload\u001B[0m\u001B[0;34m(\u001B[0m\u001B[0;34m'en_core_web_sm'\u001B[0m\u001B[0;34m)\u001B[0m \u001B[0;31m# spacy.load('en_core_web_sm')  # 1\u001B[0m\u001B[0;34m\u001B[0m\u001B[0;34m\u001B[0m\u001B[0m\n\u001B[0;32m----> 2\u001B[0;31m \u001B[0mnlp\u001B[0m\u001B[0;34m.\u001B[0m\u001B[0madd_pipe\u001B[0m\u001B[0;34m(\u001B[0m\u001B[0mLanguageDetector\u001B[0m\u001B[0;34m(\u001B[0m\u001B[0;34m)\u001B[0m\u001B[0;34m,\u001B[0m \u001B[0mname\u001B[0m\u001B[0;34m=\u001B[0m\u001B[0;34m'language_detector'\u001B[0m\u001B[0;34m,\u001B[0m \u001B[0mlast\u001B[0m\u001B[0;34m=\u001B[0m\u001B[0;32mTrue\u001B[0m\u001B[0;34m)\u001B[0m \u001B[0;31m#2\u001B[0m\u001B[0;34m\u001B[0m\u001B[0;34m\u001B[0m\u001B[0m\n\u001B[0m\u001B[1;32m      3\u001B[0m \u001B[0mtext_content\u001B[0m \u001B[0;34m=\u001B[0m \u001B[0mdf\u001B[0m\u001B[0;34m.\u001B[0m\u001B[0miloc\u001B[0m\u001B[0;34m[\u001B[0m\u001B[0;36m0\u001B[0m\u001B[0;34m,\u001B[0m \u001B[0;36m1\u001B[0m\u001B[0;34m]\u001B[0m\u001B[0;34m\u001B[0m\u001B[0;34m\u001B[0m\u001B[0m\n\u001B[1;32m      4\u001B[0m \u001B[0mdoc\u001B[0m \u001B[0;34m=\u001B[0m \u001B[0mnlp\u001B[0m\u001B[0;34m(\u001B[0m\u001B[0mtext_content\u001B[0m\u001B[0;34m)\u001B[0m \u001B[0;31m#3\u001B[0m\u001B[0;34m\u001B[0m\u001B[0;34m\u001B[0m\u001B[0m\n\u001B[1;32m      5\u001B[0m \u001B[0mdetect_language\u001B[0m \u001B[0;34m=\u001B[0m \u001B[0mdoc\u001B[0m\u001B[0;34m.\u001B[0m\u001B[0m_\u001B[0m\u001B[0;34m.\u001B[0m\u001B[0mlanguage\u001B[0m \u001B[0;31m#4\u001B[0m\u001B[0;34m\u001B[0m\u001B[0;34m\u001B[0m\u001B[0m\n",
      "\u001B[0;32m/opt/anaconda3/lib/python3.9/site-packages/spacy/language.py\u001B[0m in \u001B[0;36madd_pipe\u001B[0;34m(self, factory_name, name, before, after, first, last, source, config, raw_config, validate)\u001B[0m\n\u001B[1;32m    768\u001B[0m             \u001B[0mbad_val\u001B[0m \u001B[0;34m=\u001B[0m \u001B[0mrepr\u001B[0m\u001B[0;34m(\u001B[0m\u001B[0mfactory_name\u001B[0m\u001B[0;34m)\u001B[0m\u001B[0;34m\u001B[0m\u001B[0;34m\u001B[0m\u001B[0m\n\u001B[1;32m    769\u001B[0m             \u001B[0merr\u001B[0m \u001B[0;34m=\u001B[0m \u001B[0mErrors\u001B[0m\u001B[0;34m.\u001B[0m\u001B[0mE966\u001B[0m\u001B[0;34m.\u001B[0m\u001B[0mformat\u001B[0m\u001B[0;34m(\u001B[0m\u001B[0mcomponent\u001B[0m\u001B[0;34m=\u001B[0m\u001B[0mbad_val\u001B[0m\u001B[0;34m,\u001B[0m \u001B[0mname\u001B[0m\u001B[0;34m=\u001B[0m\u001B[0mname\u001B[0m\u001B[0;34m)\u001B[0m\u001B[0;34m\u001B[0m\u001B[0;34m\u001B[0m\u001B[0m\n\u001B[0;32m--> 770\u001B[0;31m             \u001B[0;32mraise\u001B[0m \u001B[0mValueError\u001B[0m\u001B[0;34m(\u001B[0m\u001B[0merr\u001B[0m\u001B[0;34m)\u001B[0m\u001B[0;34m\u001B[0m\u001B[0;34m\u001B[0m\u001B[0m\n\u001B[0m\u001B[1;32m    771\u001B[0m         \u001B[0mname\u001B[0m \u001B[0;34m=\u001B[0m \u001B[0mname\u001B[0m \u001B[0;32mif\u001B[0m \u001B[0mname\u001B[0m \u001B[0;32mis\u001B[0m \u001B[0;32mnot\u001B[0m \u001B[0;32mNone\u001B[0m \u001B[0;32melse\u001B[0m \u001B[0mfactory_name\u001B[0m\u001B[0;34m\u001B[0m\u001B[0;34m\u001B[0m\u001B[0m\n\u001B[1;32m    772\u001B[0m         \u001B[0;32mif\u001B[0m \u001B[0mname\u001B[0m \u001B[0;32min\u001B[0m \u001B[0mself\u001B[0m\u001B[0;34m.\u001B[0m\u001B[0mcomponent_names\u001B[0m\u001B[0;34m:\u001B[0m\u001B[0;34m\u001B[0m\u001B[0;34m\u001B[0m\u001B[0m\n",
      "\u001B[0;31mValueError\u001B[0m: [E966] `nlp.add_pipe` now takes the string name of the registered component factory, not a callable component. Expected string, but got <spacy_langdetect.spacy_langdetect.LanguageDetector object at 0x7facba060460> (name: 'language_detector').\n\n- If you created your component with `nlp.create_pipe('name')`: remove nlp.create_pipe and call `nlp.add_pipe('name')` instead.\n\n- If you passed in a component like `TextCategorizer()`: call `nlp.add_pipe` with the string name instead, e.g. `nlp.add_pipe('textcat')`.\n\n- If you're using a custom component: Add the decorator `@Language.component` (for function components) or `@Language.factory` (for class components / factories) to your custom component and assign it a name, e.g. `@Language.component('your_name')`. You can then run `nlp.add_pipe('your_name')` to add it to the pipeline."
     ]
    }
   ],
   "source": [
    "nlp = spacy.load('en_core_web_sm') # spacy.load('en_core_web_sm')  # 1\n",
    "nlp.add_pipe(LanguageDetector(), name='language_detector', last=True) #2\n",
    "text_content = df.iloc[0, 1]\n",
    "doc = nlp(text_content) #3\n",
    "detect_language = doc._.language #4\n",
    "print(detect_language)"
   ],
   "metadata": {
    "collapsed": false,
    "pycharm": {
     "name": "#%%\n"
    }
   }
  },
  {
   "cell_type": "code",
   "execution_count": 49,
   "outputs": [
    {
     "data": {
      "text/plain": "'Машинное обучение и анализ данных'"
     },
     "execution_count": 49,
     "metadata": {},
     "output_type": "execute_result"
    }
   ],
   "source": [
    "df.iloc[0, 1]"
   ],
   "metadata": {
    "collapsed": false,
    "pycharm": {
     "name": "#%%\n"
    }
   }
  },
  {
   "cell_type": "code",
   "execution_count": null,
   "outputs": [],
   "source": [
    "import en_core_web_sm\n",
    "nlp = en_core_web_sm.load()"
   ],
   "metadata": {
    "collapsed": false,
    "pycharm": {
     "name": "#%%\n"
    }
   }
  },
  {
   "cell_type": "code",
   "execution_count": 59,
   "outputs": [
    {
     "ename": "ValueError",
     "evalue": "[E004] Can't set up pipeline component: a factory for 'language_detector' already exists. Existing factory: <function get_lang_detector at 0x7fac985edc10>. New factory: <function get_lang_detector at 0x7facba3cd4c0>",
     "output_type": "error",
     "traceback": [
      "\u001B[0;31m---------------------------------------------------------------------------\u001B[0m",
      "\u001B[0;31mValueError\u001B[0m                                Traceback (most recent call last)",
      "\u001B[0;32m/var/folders/x5/8jbl553d391f5ks09z57vch40000gn/T/ipykernel_53832/3507743847.py\u001B[0m in \u001B[0;36m<module>\u001B[0;34m\u001B[0m\n\u001B[1;32m      8\u001B[0m \u001B[0;34m\u001B[0m\u001B[0m\n\u001B[1;32m      9\u001B[0m \u001B[0mnlp\u001B[0m \u001B[0;34m=\u001B[0m \u001B[0mspacy\u001B[0m\u001B[0;34m.\u001B[0m\u001B[0mload\u001B[0m\u001B[0;34m(\u001B[0m\u001B[0;34m\"en_core_web_sm\"\u001B[0m\u001B[0;34m)\u001B[0m\u001B[0;34m\u001B[0m\u001B[0;34m\u001B[0m\u001B[0m\n\u001B[0;32m---> 10\u001B[0;31m \u001B[0mLanguage\u001B[0m\u001B[0;34m.\u001B[0m\u001B[0mfactory\u001B[0m\u001B[0;34m(\u001B[0m\u001B[0;34m\"language_detector\"\u001B[0m\u001B[0;34m,\u001B[0m \u001B[0mfunc\u001B[0m\u001B[0;34m=\u001B[0m\u001B[0mget_lang_detector\u001B[0m\u001B[0;34m)\u001B[0m\u001B[0;34m\u001B[0m\u001B[0;34m\u001B[0m\u001B[0m\n\u001B[0m\u001B[1;32m     11\u001B[0m \u001B[0mnlp\u001B[0m\u001B[0;34m.\u001B[0m\u001B[0madd_pipe\u001B[0m\u001B[0;34m(\u001B[0m\u001B[0;34m'language_detector'\u001B[0m\u001B[0;34m,\u001B[0m \u001B[0mlast\u001B[0m\u001B[0;34m=\u001B[0m\u001B[0;32mTrue\u001B[0m\u001B[0;34m)\u001B[0m\u001B[0;34m\u001B[0m\u001B[0;34m\u001B[0m\u001B[0m\n\u001B[1;32m     12\u001B[0m \u001B[0mtext\u001B[0m \u001B[0;34m=\u001B[0m \u001B[0;34m'This is an english text.'\u001B[0m\u001B[0;34m\u001B[0m\u001B[0;34m\u001B[0m\u001B[0m\n",
      "\u001B[0;32m/opt/anaconda3/lib/python3.9/site-packages/spacy/language.py\u001B[0m in \u001B[0;36mfactory\u001B[0;34m(cls, name, default_config, assigns, requires, retokenizes, default_score_weights, func)\u001B[0m\n\u001B[1;32m    511\u001B[0m \u001B[0;34m\u001B[0m\u001B[0m\n\u001B[1;32m    512\u001B[0m         \u001B[0;32mif\u001B[0m \u001B[0mfunc\u001B[0m \u001B[0;32mis\u001B[0m \u001B[0;32mnot\u001B[0m \u001B[0;32mNone\u001B[0m\u001B[0;34m:\u001B[0m  \u001B[0;31m# Support non-decorator use cases\u001B[0m\u001B[0;34m\u001B[0m\u001B[0;34m\u001B[0m\u001B[0m\n\u001B[0;32m--> 513\u001B[0;31m             \u001B[0;32mreturn\u001B[0m \u001B[0madd_factory\u001B[0m\u001B[0;34m(\u001B[0m\u001B[0mfunc\u001B[0m\u001B[0;34m)\u001B[0m\u001B[0;34m\u001B[0m\u001B[0;34m\u001B[0m\u001B[0m\n\u001B[0m\u001B[1;32m    514\u001B[0m         \u001B[0;32mreturn\u001B[0m \u001B[0madd_factory\u001B[0m\u001B[0;34m\u001B[0m\u001B[0;34m\u001B[0m\u001B[0m\n\u001B[1;32m    515\u001B[0m \u001B[0;34m\u001B[0m\u001B[0m\n",
      "\u001B[0;32m/opt/anaconda3/lib/python3.9/site-packages/spacy/language.py\u001B[0m in \u001B[0;36madd_factory\u001B[0;34m(factory_func)\u001B[0m\n\u001B[1;32m    481\u001B[0m                         \u001B[0mname\u001B[0m\u001B[0;34m=\u001B[0m\u001B[0mname\u001B[0m\u001B[0;34m,\u001B[0m \u001B[0mfunc\u001B[0m\u001B[0;34m=\u001B[0m\u001B[0mexisting_func\u001B[0m\u001B[0;34m,\u001B[0m \u001B[0mnew_func\u001B[0m\u001B[0;34m=\u001B[0m\u001B[0mfactory_func\u001B[0m\u001B[0;34m\u001B[0m\u001B[0;34m\u001B[0m\u001B[0m\n\u001B[1;32m    482\u001B[0m                     )\n\u001B[0;32m--> 483\u001B[0;31m                     \u001B[0;32mraise\u001B[0m \u001B[0mValueError\u001B[0m\u001B[0;34m(\u001B[0m\u001B[0merr\u001B[0m\u001B[0;34m)\u001B[0m\u001B[0;34m\u001B[0m\u001B[0;34m\u001B[0m\u001B[0m\n\u001B[0m\u001B[1;32m    484\u001B[0m \u001B[0;34m\u001B[0m\u001B[0m\n\u001B[1;32m    485\u001B[0m             \u001B[0marg_names\u001B[0m \u001B[0;34m=\u001B[0m \u001B[0mutil\u001B[0m\u001B[0;34m.\u001B[0m\u001B[0mget_arg_names\u001B[0m\u001B[0;34m(\u001B[0m\u001B[0mfactory_func\u001B[0m\u001B[0;34m)\u001B[0m\u001B[0;34m\u001B[0m\u001B[0;34m\u001B[0m\u001B[0m\n",
      "\u001B[0;31mValueError\u001B[0m: [E004] Can't set up pipeline component: a factory for 'language_detector' already exists. Existing factory: <function get_lang_detector at 0x7fac985edc10>. New factory: <function get_lang_detector at 0x7facba3cd4c0>"
     ]
    }
   ],
   "source": [
    "# Reference: https://stackoverflow.com/questions/66712753/how-to-use-languagedetector-from-spacy-langdetect-package\n",
    "import spacy\n",
    "from spacy.language import Language\n",
    "from spacy_langdetect import LanguageDetector\n",
    "\n",
    "def get_lang_detector(nlp, name):\n",
    "    return LanguageDetector()\n",
    "\n",
    "nlp = spacy.load(\"en_core_web_sm\")\n",
    "Language.factory(\"language_detector\", func=get_lang_detector)\n",
    "nlp.add_pipe('language_detector', last=True)\n",
    "text = 'This is an english text.'\n",
    "doc = nlp(text)\n",
    "print(doc._.language)"
   ],
   "metadata": {
    "collapsed": false,
    "pycharm": {
     "name": "#%%\n"
    }
   }
  },
  {
   "cell_type": "code",
   "execution_count": 61,
   "outputs": [
    {
     "name": "stdout",
     "output_type": "stream",
     "text": [
      "{'language': 'ru', 'score': 0.9999981426731537}\n"
     ]
    }
   ],
   "source": [
    "doc = nlp(df.iloc[0, 1])\n",
    "print(doc._.language)"
   ],
   "metadata": {
    "collapsed": false,
    "pycharm": {
     "name": "#%%\n"
    }
   }
  },
  {
   "cell_type": "markdown",
   "source": [
    "Cool, we could just label all the titles according to this language predictor and then filter on language."
   ],
   "metadata": {
    "collapsed": false,
    "pycharm": {
     "name": "#%% md\n"
    }
   }
  },
  {
   "cell_type": "code",
   "execution_count": 62,
   "outputs": [
    {
     "data": {
      "text/plain": "'ru'"
     },
     "execution_count": 62,
     "metadata": {},
     "output_type": "execute_result"
    }
   ],
   "source": [
    "doc._.language['language']"
   ],
   "metadata": {
    "collapsed": false,
    "pycharm": {
     "name": "#%%\n"
    }
   }
  },
  {
   "cell_type": "code",
   "execution_count": 63,
   "outputs": [
    {
     "data": {
      "text/plain": "      Unnamed: 0                                              title  \\\n0              0                  Машинное обучение и анализ данных   \n1              1  Introducción a la Especialización en Ciencia d...   \n2              2               Getting Started with SAS Programming   \n3              3        Introduction to Designing Data Lakes on AWS   \n4              4  Estatística não-paramétrica para a tomada de d...   \n...          ...                                                ...   \n4678        4678  Diploma in Neural Networks in Python - Deep Le...   \n4679        4679  Data Visualization In Power BI - Master The Vi...   \n4680        4680                    Learn Power BI DAX from scratch   \n4681        4681                               Python For Beginners   \n4682        4682  Artificial Intelligence for Healthcare: Opport...   \n\n                                          author  rating  votes_count  \\\n0     Moscow Institute of Physics and Technology     4.7       6382.0   \n1                                            IBM     4.6        116.0   \n2                                            SAS     4.8       2083.0   \n3                            Amazon Web Services     4.7         65.0   \n4                      Universidade de São Paulo     4.4        109.0   \n...                                          ...     ...          ...   \n4678                          Start-Tech Academy     NaN          NaN   \n4679                                 Ayush Kumar     0.0          0.0   \n4680                               Muhammad Asif     4.0          3.0   \n4681                                Sara Al-Arab     4.0         70.0   \n4682                   Taipei Medical University     4.6         22.0   \n\n      students_count         level    duration     platform   free  \n0           100000.0  Intermediate  224.000000     Coursera  False  \n1             3400.0      Beginner   48.000000     Coursera  False  \n2            67000.0      Beginner   22.000000     Coursera  False  \n3             6100.0  Intermediate   14.000000     Coursera  False  \n4             9300.0  Intermediate   13.000000     Coursera  False  \n...              ...           ...         ...          ...    ...  \n4678           690.0         Mixed    8.000000       Alison  False  \n4679           219.0         Mixed    2.639167   Skillshare   True  \n4680            93.0         Mixed    1.672778   Skillshare   True  \n4681            83.0      Beginner    2.963056   Skillshare   True  \n4682          7437.0         Mixed    4.000000  FutureLearn   True  \n\n[4683 rows x 10 columns]",
      "text/html": "<div>\n<style scoped>\n    .dataframe tbody tr th:only-of-type {\n        vertical-align: middle;\n    }\n\n    .dataframe tbody tr th {\n        vertical-align: top;\n    }\n\n    .dataframe thead th {\n        text-align: right;\n    }\n</style>\n<table border=\"1\" class=\"dataframe\">\n  <thead>\n    <tr style=\"text-align: right;\">\n      <th></th>\n      <th>Unnamed: 0</th>\n      <th>title</th>\n      <th>author</th>\n      <th>rating</th>\n      <th>votes_count</th>\n      <th>students_count</th>\n      <th>level</th>\n      <th>duration</th>\n      <th>platform</th>\n      <th>free</th>\n    </tr>\n  </thead>\n  <tbody>\n    <tr>\n      <th>0</th>\n      <td>0</td>\n      <td>Машинное обучение и анализ данных</td>\n      <td>Moscow Institute of Physics and Technology</td>\n      <td>4.7</td>\n      <td>6382.0</td>\n      <td>100000.0</td>\n      <td>Intermediate</td>\n      <td>224.000000</td>\n      <td>Coursera</td>\n      <td>False</td>\n    </tr>\n    <tr>\n      <th>1</th>\n      <td>1</td>\n      <td>Introducción a la Especialización en Ciencia d...</td>\n      <td>IBM</td>\n      <td>4.6</td>\n      <td>116.0</td>\n      <td>3400.0</td>\n      <td>Beginner</td>\n      <td>48.000000</td>\n      <td>Coursera</td>\n      <td>False</td>\n    </tr>\n    <tr>\n      <th>2</th>\n      <td>2</td>\n      <td>Getting Started with SAS Programming</td>\n      <td>SAS</td>\n      <td>4.8</td>\n      <td>2083.0</td>\n      <td>67000.0</td>\n      <td>Beginner</td>\n      <td>22.000000</td>\n      <td>Coursera</td>\n      <td>False</td>\n    </tr>\n    <tr>\n      <th>3</th>\n      <td>3</td>\n      <td>Introduction to Designing Data Lakes on AWS</td>\n      <td>Amazon Web Services</td>\n      <td>4.7</td>\n      <td>65.0</td>\n      <td>6100.0</td>\n      <td>Intermediate</td>\n      <td>14.000000</td>\n      <td>Coursera</td>\n      <td>False</td>\n    </tr>\n    <tr>\n      <th>4</th>\n      <td>4</td>\n      <td>Estatística não-paramétrica para a tomada de d...</td>\n      <td>Universidade de São Paulo</td>\n      <td>4.4</td>\n      <td>109.0</td>\n      <td>9300.0</td>\n      <td>Intermediate</td>\n      <td>13.000000</td>\n      <td>Coursera</td>\n      <td>False</td>\n    </tr>\n    <tr>\n      <th>...</th>\n      <td>...</td>\n      <td>...</td>\n      <td>...</td>\n      <td>...</td>\n      <td>...</td>\n      <td>...</td>\n      <td>...</td>\n      <td>...</td>\n      <td>...</td>\n      <td>...</td>\n    </tr>\n    <tr>\n      <th>4678</th>\n      <td>4678</td>\n      <td>Diploma in Neural Networks in Python - Deep Le...</td>\n      <td>Start-Tech Academy</td>\n      <td>NaN</td>\n      <td>NaN</td>\n      <td>690.0</td>\n      <td>Mixed</td>\n      <td>8.000000</td>\n      <td>Alison</td>\n      <td>False</td>\n    </tr>\n    <tr>\n      <th>4679</th>\n      <td>4679</td>\n      <td>Data Visualization In Power BI - Master The Vi...</td>\n      <td>Ayush Kumar</td>\n      <td>0.0</td>\n      <td>0.0</td>\n      <td>219.0</td>\n      <td>Mixed</td>\n      <td>2.639167</td>\n      <td>Skillshare</td>\n      <td>True</td>\n    </tr>\n    <tr>\n      <th>4680</th>\n      <td>4680</td>\n      <td>Learn Power BI DAX from scratch</td>\n      <td>Muhammad Asif</td>\n      <td>4.0</td>\n      <td>3.0</td>\n      <td>93.0</td>\n      <td>Mixed</td>\n      <td>1.672778</td>\n      <td>Skillshare</td>\n      <td>True</td>\n    </tr>\n    <tr>\n      <th>4681</th>\n      <td>4681</td>\n      <td>Python For Beginners</td>\n      <td>Sara Al-Arab</td>\n      <td>4.0</td>\n      <td>70.0</td>\n      <td>83.0</td>\n      <td>Beginner</td>\n      <td>2.963056</td>\n      <td>Skillshare</td>\n      <td>True</td>\n    </tr>\n    <tr>\n      <th>4682</th>\n      <td>4682</td>\n      <td>Artificial Intelligence for Healthcare: Opport...</td>\n      <td>Taipei Medical University</td>\n      <td>4.6</td>\n      <td>22.0</td>\n      <td>7437.0</td>\n      <td>Mixed</td>\n      <td>4.000000</td>\n      <td>FutureLearn</td>\n      <td>True</td>\n    </tr>\n  </tbody>\n</table>\n<p>4683 rows × 10 columns</p>\n</div>"
     },
     "execution_count": 63,
     "metadata": {},
     "output_type": "execute_result"
    }
   ],
   "source": [
    "lang_df = df.copy()\n",
    "lang_df"
   ],
   "metadata": {
    "collapsed": false,
    "pycharm": {
     "name": "#%%\n"
    }
   }
  },
  {
   "cell_type": "code",
   "execution_count": 64,
   "outputs": [
    {
     "data": {
      "text/plain": "      Unnamed: 0                                              title  \\\n0              0                  Машинное обучение и анализ данных   \n1              1  Introducción a la Especialización en Ciencia d...   \n2              2               Getting Started with SAS Programming   \n3              3        Introduction to Designing Data Lakes on AWS   \n4              4  Estatística não-paramétrica para a tomada de d...   \n...          ...                                                ...   \n4678        4678  Diploma in Neural Networks in Python - Deep Le...   \n4679        4679  Data Visualization In Power BI - Master The Vi...   \n4680        4680                    Learn Power BI DAX from scratch   \n4681        4681                               Python For Beginners   \n4682        4682  Artificial Intelligence for Healthcare: Opport...   \n\n                                          author  rating  votes_count  \\\n0     Moscow Institute of Physics and Technology     4.7       6382.0   \n1                                            IBM     4.6        116.0   \n2                                            SAS     4.8       2083.0   \n3                            Amazon Web Services     4.7         65.0   \n4                      Universidade de São Paulo     4.4        109.0   \n...                                          ...     ...          ...   \n4678                          Start-Tech Academy     NaN          NaN   \n4679                                 Ayush Kumar     0.0          0.0   \n4680                               Muhammad Asif     4.0          3.0   \n4681                                Sara Al-Arab     4.0         70.0   \n4682                   Taipei Medical University     4.6         22.0   \n\n      students_count         level    duration     platform   free language  \n0           100000.0  Intermediate  224.000000     Coursera  False       ru  \n1             3400.0      Beginner   48.000000     Coursera  False       es  \n2            67000.0      Beginner   22.000000     Coursera  False       en  \n3             6100.0  Intermediate   14.000000     Coursera  False       en  \n4             9300.0  Intermediate   13.000000     Coursera  False       pt  \n...              ...           ...         ...          ...    ...      ...  \n4678           690.0         Mixed    8.000000       Alison  False       en  \n4679           219.0         Mixed    2.639167   Skillshare   True       en  \n4680            93.0         Mixed    1.672778   Skillshare   True       en  \n4681            83.0      Beginner    2.963056   Skillshare   True       de  \n4682          7437.0         Mixed    4.000000  FutureLearn   True       en  \n\n[4683 rows x 11 columns]",
      "text/html": "<div>\n<style scoped>\n    .dataframe tbody tr th:only-of-type {\n        vertical-align: middle;\n    }\n\n    .dataframe tbody tr th {\n        vertical-align: top;\n    }\n\n    .dataframe thead th {\n        text-align: right;\n    }\n</style>\n<table border=\"1\" class=\"dataframe\">\n  <thead>\n    <tr style=\"text-align: right;\">\n      <th></th>\n      <th>Unnamed: 0</th>\n      <th>title</th>\n      <th>author</th>\n      <th>rating</th>\n      <th>votes_count</th>\n      <th>students_count</th>\n      <th>level</th>\n      <th>duration</th>\n      <th>platform</th>\n      <th>free</th>\n      <th>language</th>\n    </tr>\n  </thead>\n  <tbody>\n    <tr>\n      <th>0</th>\n      <td>0</td>\n      <td>Машинное обучение и анализ данных</td>\n      <td>Moscow Institute of Physics and Technology</td>\n      <td>4.7</td>\n      <td>6382.0</td>\n      <td>100000.0</td>\n      <td>Intermediate</td>\n      <td>224.000000</td>\n      <td>Coursera</td>\n      <td>False</td>\n      <td>ru</td>\n    </tr>\n    <tr>\n      <th>1</th>\n      <td>1</td>\n      <td>Introducción a la Especialización en Ciencia d...</td>\n      <td>IBM</td>\n      <td>4.6</td>\n      <td>116.0</td>\n      <td>3400.0</td>\n      <td>Beginner</td>\n      <td>48.000000</td>\n      <td>Coursera</td>\n      <td>False</td>\n      <td>es</td>\n    </tr>\n    <tr>\n      <th>2</th>\n      <td>2</td>\n      <td>Getting Started with SAS Programming</td>\n      <td>SAS</td>\n      <td>4.8</td>\n      <td>2083.0</td>\n      <td>67000.0</td>\n      <td>Beginner</td>\n      <td>22.000000</td>\n      <td>Coursera</td>\n      <td>False</td>\n      <td>en</td>\n    </tr>\n    <tr>\n      <th>3</th>\n      <td>3</td>\n      <td>Introduction to Designing Data Lakes on AWS</td>\n      <td>Amazon Web Services</td>\n      <td>4.7</td>\n      <td>65.0</td>\n      <td>6100.0</td>\n      <td>Intermediate</td>\n      <td>14.000000</td>\n      <td>Coursera</td>\n      <td>False</td>\n      <td>en</td>\n    </tr>\n    <tr>\n      <th>4</th>\n      <td>4</td>\n      <td>Estatística não-paramétrica para a tomada de d...</td>\n      <td>Universidade de São Paulo</td>\n      <td>4.4</td>\n      <td>109.0</td>\n      <td>9300.0</td>\n      <td>Intermediate</td>\n      <td>13.000000</td>\n      <td>Coursera</td>\n      <td>False</td>\n      <td>pt</td>\n    </tr>\n    <tr>\n      <th>...</th>\n      <td>...</td>\n      <td>...</td>\n      <td>...</td>\n      <td>...</td>\n      <td>...</td>\n      <td>...</td>\n      <td>...</td>\n      <td>...</td>\n      <td>...</td>\n      <td>...</td>\n      <td>...</td>\n    </tr>\n    <tr>\n      <th>4678</th>\n      <td>4678</td>\n      <td>Diploma in Neural Networks in Python - Deep Le...</td>\n      <td>Start-Tech Academy</td>\n      <td>NaN</td>\n      <td>NaN</td>\n      <td>690.0</td>\n      <td>Mixed</td>\n      <td>8.000000</td>\n      <td>Alison</td>\n      <td>False</td>\n      <td>en</td>\n    </tr>\n    <tr>\n      <th>4679</th>\n      <td>4679</td>\n      <td>Data Visualization In Power BI - Master The Vi...</td>\n      <td>Ayush Kumar</td>\n      <td>0.0</td>\n      <td>0.0</td>\n      <td>219.0</td>\n      <td>Mixed</td>\n      <td>2.639167</td>\n      <td>Skillshare</td>\n      <td>True</td>\n      <td>en</td>\n    </tr>\n    <tr>\n      <th>4680</th>\n      <td>4680</td>\n      <td>Learn Power BI DAX from scratch</td>\n      <td>Muhammad Asif</td>\n      <td>4.0</td>\n      <td>3.0</td>\n      <td>93.0</td>\n      <td>Mixed</td>\n      <td>1.672778</td>\n      <td>Skillshare</td>\n      <td>True</td>\n      <td>en</td>\n    </tr>\n    <tr>\n      <th>4681</th>\n      <td>4681</td>\n      <td>Python For Beginners</td>\n      <td>Sara Al-Arab</td>\n      <td>4.0</td>\n      <td>70.0</td>\n      <td>83.0</td>\n      <td>Beginner</td>\n      <td>2.963056</td>\n      <td>Skillshare</td>\n      <td>True</td>\n      <td>de</td>\n    </tr>\n    <tr>\n      <th>4682</th>\n      <td>4682</td>\n      <td>Artificial Intelligence for Healthcare: Opport...</td>\n      <td>Taipei Medical University</td>\n      <td>4.6</td>\n      <td>22.0</td>\n      <td>7437.0</td>\n      <td>Mixed</td>\n      <td>4.000000</td>\n      <td>FutureLearn</td>\n      <td>True</td>\n      <td>en</td>\n    </tr>\n  </tbody>\n</table>\n<p>4683 rows × 11 columns</p>\n</div>"
     },
     "execution_count": 64,
     "metadata": {},
     "output_type": "execute_result"
    }
   ],
   "source": [
    "lang_df['language'] = lang_df['title'].apply(lambda x: nlp(x)._.language['language'])\n",
    "lang_df"
   ],
   "metadata": {
    "collapsed": false,
    "pycharm": {
     "name": "#%%\n"
    }
   }
  },
  {
   "cell_type": "code",
   "execution_count": 65,
   "outputs": [
    {
     "data": {
      "text/plain": "                                                  title language\n0                     Машинное обучение и анализ данных       ru\n1     Introducción a la Especialización en Ciencia d...       es\n2                  Getting Started with SAS Programming       en\n3           Introduction to Designing Data Lakes on AWS       en\n4     Estatística não-paramétrica para a tomada de d...       pt\n...                                                 ...      ...\n4678  Diploma in Neural Networks in Python - Deep Le...       en\n4679  Data Visualization In Power BI - Master The Vi...       en\n4680                    Learn Power BI DAX from scratch       en\n4681                               Python For Beginners       de\n4682  Artificial Intelligence for Healthcare: Opport...       en\n\n[4683 rows x 2 columns]",
      "text/html": "<div>\n<style scoped>\n    .dataframe tbody tr th:only-of-type {\n        vertical-align: middle;\n    }\n\n    .dataframe tbody tr th {\n        vertical-align: top;\n    }\n\n    .dataframe thead th {\n        text-align: right;\n    }\n</style>\n<table border=\"1\" class=\"dataframe\">\n  <thead>\n    <tr style=\"text-align: right;\">\n      <th></th>\n      <th>title</th>\n      <th>language</th>\n    </tr>\n  </thead>\n  <tbody>\n    <tr>\n      <th>0</th>\n      <td>Машинное обучение и анализ данных</td>\n      <td>ru</td>\n    </tr>\n    <tr>\n      <th>1</th>\n      <td>Introducción a la Especialización en Ciencia d...</td>\n      <td>es</td>\n    </tr>\n    <tr>\n      <th>2</th>\n      <td>Getting Started with SAS Programming</td>\n      <td>en</td>\n    </tr>\n    <tr>\n      <th>3</th>\n      <td>Introduction to Designing Data Lakes on AWS</td>\n      <td>en</td>\n    </tr>\n    <tr>\n      <th>4</th>\n      <td>Estatística não-paramétrica para a tomada de d...</td>\n      <td>pt</td>\n    </tr>\n    <tr>\n      <th>...</th>\n      <td>...</td>\n      <td>...</td>\n    </tr>\n    <tr>\n      <th>4678</th>\n      <td>Diploma in Neural Networks in Python - Deep Le...</td>\n      <td>en</td>\n    </tr>\n    <tr>\n      <th>4679</th>\n      <td>Data Visualization In Power BI - Master The Vi...</td>\n      <td>en</td>\n    </tr>\n    <tr>\n      <th>4680</th>\n      <td>Learn Power BI DAX from scratch</td>\n      <td>en</td>\n    </tr>\n    <tr>\n      <th>4681</th>\n      <td>Python For Beginners</td>\n      <td>de</td>\n    </tr>\n    <tr>\n      <th>4682</th>\n      <td>Artificial Intelligence for Healthcare: Opport...</td>\n      <td>en</td>\n    </tr>\n  </tbody>\n</table>\n<p>4683 rows × 2 columns</p>\n</div>"
     },
     "execution_count": 65,
     "metadata": {},
     "output_type": "execute_result"
    }
   ],
   "source": [
    "lang_df[['title', 'language']]"
   ],
   "metadata": {
    "collapsed": false,
    "pycharm": {
     "name": "#%%\n"
    }
   }
  },
  {
   "cell_type": "markdown",
   "source": [
    "This performance of language tagging is surprisingly good.  The one thing I'm noticing is the abundance of English titles that have the language tag 'tl'.  I did a little research and this either means 'target language' or 'tagalog'.  I'm going to do more research to see if I can pinpoint which language this is being tagged as."
   ],
   "metadata": {
    "collapsed": false,
    "pycharm": {
     "name": "#%% md\n"
    }
   }
  },
  {
   "cell_type": "code",
   "execution_count": 66,
   "outputs": [
    {
     "data": {
      "text/plain": "      Unnamed: 0                                              title  \\\n7              7                          Exploratory Data Analysis   \n18            18                        Pygal: Python Data Playbook   \n30            30                                   UX Data Analysis   \n37            37                         Data Wrangling with Python   \n264          264                                        Data Mining   \n299          299                Analyzing Multivariate Data Using R   \n307          307                           Analysing Tweets using R   \n357          357                              Google Data Analytics   \n379          379           Searching and Manipulating Data in Excel   \n464          464                                   ADVANCED ARDUINO   \n817          817                 Pandas Playbook: Manipulating Data   \n835          835                         Data Wrangling with Python   \n1046        1046                                  Python para Todos   \n1077        1077                                Data Analysis Tools   \n1087        1087                    Modeling Count Data using Stata   \n1125        1125                         Data Analysis Using Python   \n1190        1190                        Data Analysis Using Pyspark   \n1239        1239          Data Wrangling and Ingestion using Python   \n1300        1300                        Analyzing Big Data with SQL   \n1322        1322                         Data Analysis Using Python   \n1359        1359                         Pig For Wrangling Big Data   \n1434        1434                      Manipulating String Data in R   \n1522        1522                          Querying Data Using T-SQL   \n1641        1641      Cleaning and Exploring Big Data using PySpark   \n1650        1650  Big Data Programming Languages & Big Data Vs D...   \n1767        1767                                           Big Data   \n1794        1794                       Managing Big Data with MySQL   \n2031        2031                     Big Data Analytics Using Spark   \n2074        2074                                           Big Data   \n2263        2263                                 Big Data Analytics   \n2343        2343                               Python Para Finanzas   \n2450        2450                 Web Scraping: Python Data Playbook   \n2543        2543                      Python para Marketing Digital   \n2554        2554                       Data Manipulation & Cleaning   \n2675        2675                                             Matlab   \n2683        2683                                        Data Mining   \n2700        2700                  INTRODUCTION TO ASSEMBLY LANGUAGE   \n3058        3058  Building Big Data Pipelines with PySpark + Mon...   \n3357        3357   Data Wrangling, Analysis and AB Testing with SQL   \n3402        3402           Analyzing and Visualizing Data in Looker   \n3450        3450                    Machine Learning Using SAS Viya   \n3548        3548                                   IBM Data Analyst   \n3549        3549                 GIS, Mapping, and Spatial Analysis   \n3679        3679                                Analyzing data in R   \n3780        3780                Computational Thinking and Big Data   \n3806        3806                         Analyze NBA data in Python   \n3940        3940                            INTRODUCTION TO ARDUINO   \n3970        3970                Cleaning Data: Python Data Playbook   \n4223        4223               Managing Data in R Using Data Frames   \n4277        4277           Managing, Describing, and Analyzing Data   \n4284        4284                    Programming Python Using an IDE   \n4337        4337                               Data Mining Pipeline   \n4468        4468                   Mastering Data Analysis in Excel   \n4604        4604                     MATLAB and Simulink programing   \n4639        4639                       IoT Programming and Big Data   \n4667        4667                              Analyzing Data with R   \n\n                                          author  rating  votes_count  \\\n7                       Coursera Project Network     4.3        124.0   \n18                                   Kishan Iyer     3.5         17.0   \n30                                  HECMontrealX     NaN          NaN   \n37                              Packt Publishing     3.4         13.0   \n264                           The Art Of Service     3.3         85.0   \n299                          Marina Varfolomeeva     NaN          NaN   \n307                              Partha Majumdar     5.0          1.0   \n357                                       Google     4.8      28287.0   \n379                            Pratheerth Padman     4.5         60.0   \n464                                 Ahmad Halawi     4.0         12.0   \n817                           Reindert-Jan Ekker     5.0         69.0   \n835                            Pratheerth Padman     4.0         73.0   \n1046                          DataHack Formation     4.5        398.0   \n1077                         Wesleyan University     4.5        397.0   \n1087                               Najib Mozahem     4.2         33.0   \n1125                  University of Pennsylvania     4.6        110.0   \n1190                    Coursera Project Network     4.4        172.0   \n1239                                 FutureLearn     NaN          NaN   \n1300                                    Cloudera     4.9        440.0   \n1322                    Coursera Project Network     4.5       1844.0   \n1359                                  Loony Corn     3.6         98.0   \n1434                                         NaN     NaN          NaN   \n1522                                   Ami Levin     5.0        319.0   \n1641                    Coursera Project Network     4.3         40.0   \n1650                         Lalitha Audikesavan     3.0          1.0   \n1767          University of California San Diego     4.5      12728.0   \n1794                             Duke University     4.7       3786.0   \n2031                                 UCSanDiegoX     NaN          NaN   \n2074                          The Art Of Service     3.1         34.0   \n2263                                   AdelaideX     NaN          NaN   \n2343                      Kevin Meneses González     4.4         30.0   \n2450                                 Ian Ozsvald     4.5         39.0   \n2543                      Kevin Meneses González     4.7          4.0   \n2554                                Abas Mohamed     0.0          0.0   \n2675                                Joseph Kelly     3.4         18.0   \n2683  University of Illinois at Urbana-Champaign     4.5       2629.0   \n2700                              Mohamad Khalil     3.5          3.0   \n3058                                  EBISYS R&D     4.6         34.0   \n3357             University of California, Davis     3.5        440.0   \n3402                                Google Cloud     4.6        100.0   \n3450                                         SAS     4.7         84.0   \n3548                                         IBM     4.6      41405.0   \n3549                       University of Toronto     4.9       2060.0   \n3679                    Bioinformatics Institute     4.9        397.0   \n3780                                   AdelaideX     NaN          NaN   \n3806                                  Matt Blank     0.0          0.0   \n3940                                Ahmad Halawi     4.0         22.0   \n3970                                Chris Achard     5.0         56.0   \n4223                                         NaN     NaN          NaN   \n4277              University of Colorado Boulder     4.3         15.0   \n4284                               Xavier Morera     4.5         25.0   \n4337              University of Colorado Boulder     NaN          NaN   \n4468                             Duke University     4.2       3777.0   \n4604                             AulaGEO Academy     3.2          2.0   \n4639                                     CurtinX     NaN          NaN   \n4667                                         IBM     NaN          NaN   \n\n      students_count         level    duration     platform   free language  \n7             5100.0  Intermediate         NaN     Coursera  False       tl  \n18               NaN      Beginner    3.000000  Pluralsight  False       tl  \n30               NaN  Intermediate   24.000000          edX   True       tl  \n37              62.0      Beginner    3.500000        Udemy  False       tl  \n264            620.0         Mixed    2.000000        Udemy  False       tl  \n299             42.0  Intermediate         NaN       Stepik   True       tl  \n307             19.0  Intermediate    3.000000        Udemy  False       tl  \n357         490000.0      Beginner  240.000000     Coursera  False       tl  \n379              NaN      Beginner    1.200000  Pluralsight  False       tl  \n464             42.0      Advanced    3.280833   Skillshare   True       tl  \n817              NaN  Intermediate    2.200000  Pluralsight  False       tl  \n835              NaN  Intermediate    1.300000  Pluralsight  False       tl  \n1046         12106.0      Beginner    7.000000        Udemy  False       tl  \n1077         43000.0         Mixed   10.000000     Coursera  False       tl  \n1087          1652.0      Beginner    3.000000        Udemy  False       tl  \n1125          4900.0      Beginner         NaN     Coursera  False       tl  \n1190          6200.0  Intermediate         NaN     Coursera  False       tl  \n1239             NaN         Mixed   16.000000  FutureLearn   True       tl  \n1300         20000.0      Beginner         NaN     Coursera  False       tl  \n1322         27000.0  Intermediate         NaN     Coursera  False       tl  \n1359          3346.0         Mixed    5.500000        Udemy  False       tl  \n1434             NaN  Intermediate    2.000000  Pluralsight  False       tl  \n1522             NaN      Beginner    2.100000  Pluralsight  False       tl  \n1641          2600.0  Intermediate         NaN     Coursera  False       tl  \n1650             7.0      Beginner    0.600000        Udemy  False       tl  \n1767        330000.0      Beginner   96.000000     Coursera  False       tl  \n1794        170000.0         Mixed   32.000000     Coursera  False       tl  \n2031         54612.0      Advanced   40.000000          edX   True       tl  \n2074           235.0         Mixed    4.000000        Udemy  False       tl  \n2263         47405.0  Intermediate   40.000000          edX   True       tl  \n2343           181.0         Mixed    6.500000        Udemy  False       tl  \n2450             NaN      Beginner    1.300000  Pluralsight  False       tl  \n2543            33.0         Mixed    6.500000        Udemy  False       tl  \n2554             5.0      Beginner    0.465556   Skillshare   True       tl  \n2675           276.0      Beginner    2.087222   Skillshare   True       tl  \n2683        190000.0  Intermediate  128.000000     Coursera  False       tl  \n2700            18.0      Beginner    1.628611   Skillshare   True       tl  \n3058           254.0         Mixed    5.000000        Udemy  False       tl  \n3357         29000.0  Intermediate         NaN     Coursera  False       tl  \n3402          7600.0      Beginner    5.000000     Coursera  False       tl  \n3450          6300.0  Intermediate   34.000000     Coursera  False       tl  \n3548        630000.0      Beginner         NaN     Coursera  False       tl  \n3549         59000.0      Beginner   48.000000     Coursera  False       tl  \n3679         40584.0      Beginner   15.500000       Stepik   True       tl  \n3780         21385.0      Beginner   40.000000          edX   True       tl  \n3806             6.0      Beginner    3.500000        Udemy  False       tl  \n3940            64.0         Mixed    0.040000   Skillshare   True       tl  \n3970             NaN      Beginner    1.100000  Pluralsight  False       tl  \n4223             NaN  Intermediate    2.000000  Pluralsight  False       tl  \n4277          2100.0      Beginner   17.000000     Coursera  False       tl  \n4284             NaN  Intermediate    2.100000  Pluralsight  False       tl  \n4337             NaN  Intermediate         NaN     Coursera  False       tl  \n4468        320000.0         Mixed   21.000000     Coursera  False       tl  \n4604            12.0      Beginner    4.000000        Udemy  False       tl  \n4639         24424.0      Beginner   20.000000          edX   True       tl  \n4667             NaN      Beginner   24.000000          edX   True       tl  ",
      "text/html": "<div>\n<style scoped>\n    .dataframe tbody tr th:only-of-type {\n        vertical-align: middle;\n    }\n\n    .dataframe tbody tr th {\n        vertical-align: top;\n    }\n\n    .dataframe thead th {\n        text-align: right;\n    }\n</style>\n<table border=\"1\" class=\"dataframe\">\n  <thead>\n    <tr style=\"text-align: right;\">\n      <th></th>\n      <th>Unnamed: 0</th>\n      <th>title</th>\n      <th>author</th>\n      <th>rating</th>\n      <th>votes_count</th>\n      <th>students_count</th>\n      <th>level</th>\n      <th>duration</th>\n      <th>platform</th>\n      <th>free</th>\n      <th>language</th>\n    </tr>\n  </thead>\n  <tbody>\n    <tr>\n      <th>7</th>\n      <td>7</td>\n      <td>Exploratory Data Analysis</td>\n      <td>Coursera Project Network</td>\n      <td>4.3</td>\n      <td>124.0</td>\n      <td>5100.0</td>\n      <td>Intermediate</td>\n      <td>NaN</td>\n      <td>Coursera</td>\n      <td>False</td>\n      <td>tl</td>\n    </tr>\n    <tr>\n      <th>18</th>\n      <td>18</td>\n      <td>Pygal: Python Data Playbook</td>\n      <td>Kishan Iyer</td>\n      <td>3.5</td>\n      <td>17.0</td>\n      <td>NaN</td>\n      <td>Beginner</td>\n      <td>3.000000</td>\n      <td>Pluralsight</td>\n      <td>False</td>\n      <td>tl</td>\n    </tr>\n    <tr>\n      <th>30</th>\n      <td>30</td>\n      <td>UX Data Analysis</td>\n      <td>HECMontrealX</td>\n      <td>NaN</td>\n      <td>NaN</td>\n      <td>NaN</td>\n      <td>Intermediate</td>\n      <td>24.000000</td>\n      <td>edX</td>\n      <td>True</td>\n      <td>tl</td>\n    </tr>\n    <tr>\n      <th>37</th>\n      <td>37</td>\n      <td>Data Wrangling with Python</td>\n      <td>Packt Publishing</td>\n      <td>3.4</td>\n      <td>13.0</td>\n      <td>62.0</td>\n      <td>Beginner</td>\n      <td>3.500000</td>\n      <td>Udemy</td>\n      <td>False</td>\n      <td>tl</td>\n    </tr>\n    <tr>\n      <th>264</th>\n      <td>264</td>\n      <td>Data Mining</td>\n      <td>The Art Of Service</td>\n      <td>3.3</td>\n      <td>85.0</td>\n      <td>620.0</td>\n      <td>Mixed</td>\n      <td>2.000000</td>\n      <td>Udemy</td>\n      <td>False</td>\n      <td>tl</td>\n    </tr>\n    <tr>\n      <th>299</th>\n      <td>299</td>\n      <td>Analyzing Multivariate Data Using R</td>\n      <td>Marina Varfolomeeva</td>\n      <td>NaN</td>\n      <td>NaN</td>\n      <td>42.0</td>\n      <td>Intermediate</td>\n      <td>NaN</td>\n      <td>Stepik</td>\n      <td>True</td>\n      <td>tl</td>\n    </tr>\n    <tr>\n      <th>307</th>\n      <td>307</td>\n      <td>Analysing Tweets using R</td>\n      <td>Partha Majumdar</td>\n      <td>5.0</td>\n      <td>1.0</td>\n      <td>19.0</td>\n      <td>Intermediate</td>\n      <td>3.000000</td>\n      <td>Udemy</td>\n      <td>False</td>\n      <td>tl</td>\n    </tr>\n    <tr>\n      <th>357</th>\n      <td>357</td>\n      <td>Google Data Analytics</td>\n      <td>Google</td>\n      <td>4.8</td>\n      <td>28287.0</td>\n      <td>490000.0</td>\n      <td>Beginner</td>\n      <td>240.000000</td>\n      <td>Coursera</td>\n      <td>False</td>\n      <td>tl</td>\n    </tr>\n    <tr>\n      <th>379</th>\n      <td>379</td>\n      <td>Searching and Manipulating Data in Excel</td>\n      <td>Pratheerth Padman</td>\n      <td>4.5</td>\n      <td>60.0</td>\n      <td>NaN</td>\n      <td>Beginner</td>\n      <td>1.200000</td>\n      <td>Pluralsight</td>\n      <td>False</td>\n      <td>tl</td>\n    </tr>\n    <tr>\n      <th>464</th>\n      <td>464</td>\n      <td>ADVANCED ARDUINO</td>\n      <td>Ahmad Halawi</td>\n      <td>4.0</td>\n      <td>12.0</td>\n      <td>42.0</td>\n      <td>Advanced</td>\n      <td>3.280833</td>\n      <td>Skillshare</td>\n      <td>True</td>\n      <td>tl</td>\n    </tr>\n    <tr>\n      <th>817</th>\n      <td>817</td>\n      <td>Pandas Playbook: Manipulating Data</td>\n      <td>Reindert-Jan Ekker</td>\n      <td>5.0</td>\n      <td>69.0</td>\n      <td>NaN</td>\n      <td>Intermediate</td>\n      <td>2.200000</td>\n      <td>Pluralsight</td>\n      <td>False</td>\n      <td>tl</td>\n    </tr>\n    <tr>\n      <th>835</th>\n      <td>835</td>\n      <td>Data Wrangling with Python</td>\n      <td>Pratheerth Padman</td>\n      <td>4.0</td>\n      <td>73.0</td>\n      <td>NaN</td>\n      <td>Intermediate</td>\n      <td>1.300000</td>\n      <td>Pluralsight</td>\n      <td>False</td>\n      <td>tl</td>\n    </tr>\n    <tr>\n      <th>1046</th>\n      <td>1046</td>\n      <td>Python para Todos</td>\n      <td>DataHack Formation</td>\n      <td>4.5</td>\n      <td>398.0</td>\n      <td>12106.0</td>\n      <td>Beginner</td>\n      <td>7.000000</td>\n      <td>Udemy</td>\n      <td>False</td>\n      <td>tl</td>\n    </tr>\n    <tr>\n      <th>1077</th>\n      <td>1077</td>\n      <td>Data Analysis Tools</td>\n      <td>Wesleyan University</td>\n      <td>4.5</td>\n      <td>397.0</td>\n      <td>43000.0</td>\n      <td>Mixed</td>\n      <td>10.000000</td>\n      <td>Coursera</td>\n      <td>False</td>\n      <td>tl</td>\n    </tr>\n    <tr>\n      <th>1087</th>\n      <td>1087</td>\n      <td>Modeling Count Data using Stata</td>\n      <td>Najib Mozahem</td>\n      <td>4.2</td>\n      <td>33.0</td>\n      <td>1652.0</td>\n      <td>Beginner</td>\n      <td>3.000000</td>\n      <td>Udemy</td>\n      <td>False</td>\n      <td>tl</td>\n    </tr>\n    <tr>\n      <th>1125</th>\n      <td>1125</td>\n      <td>Data Analysis Using Python</td>\n      <td>University of Pennsylvania</td>\n      <td>4.6</td>\n      <td>110.0</td>\n      <td>4900.0</td>\n      <td>Beginner</td>\n      <td>NaN</td>\n      <td>Coursera</td>\n      <td>False</td>\n      <td>tl</td>\n    </tr>\n    <tr>\n      <th>1190</th>\n      <td>1190</td>\n      <td>Data Analysis Using Pyspark</td>\n      <td>Coursera Project Network</td>\n      <td>4.4</td>\n      <td>172.0</td>\n      <td>6200.0</td>\n      <td>Intermediate</td>\n      <td>NaN</td>\n      <td>Coursera</td>\n      <td>False</td>\n      <td>tl</td>\n    </tr>\n    <tr>\n      <th>1239</th>\n      <td>1239</td>\n      <td>Data Wrangling and Ingestion using Python</td>\n      <td>FutureLearn</td>\n      <td>NaN</td>\n      <td>NaN</td>\n      <td>NaN</td>\n      <td>Mixed</td>\n      <td>16.000000</td>\n      <td>FutureLearn</td>\n      <td>True</td>\n      <td>tl</td>\n    </tr>\n    <tr>\n      <th>1300</th>\n      <td>1300</td>\n      <td>Analyzing Big Data with SQL</td>\n      <td>Cloudera</td>\n      <td>4.9</td>\n      <td>440.0</td>\n      <td>20000.0</td>\n      <td>Beginner</td>\n      <td>NaN</td>\n      <td>Coursera</td>\n      <td>False</td>\n      <td>tl</td>\n    </tr>\n    <tr>\n      <th>1322</th>\n      <td>1322</td>\n      <td>Data Analysis Using Python</td>\n      <td>Coursera Project Network</td>\n      <td>4.5</td>\n      <td>1844.0</td>\n      <td>27000.0</td>\n      <td>Intermediate</td>\n      <td>NaN</td>\n      <td>Coursera</td>\n      <td>False</td>\n      <td>tl</td>\n    </tr>\n    <tr>\n      <th>1359</th>\n      <td>1359</td>\n      <td>Pig For Wrangling Big Data</td>\n      <td>Loony Corn</td>\n      <td>3.6</td>\n      <td>98.0</td>\n      <td>3346.0</td>\n      <td>Mixed</td>\n      <td>5.500000</td>\n      <td>Udemy</td>\n      <td>False</td>\n      <td>tl</td>\n    </tr>\n    <tr>\n      <th>1434</th>\n      <td>1434</td>\n      <td>Manipulating String Data in R</td>\n      <td>NaN</td>\n      <td>NaN</td>\n      <td>NaN</td>\n      <td>NaN</td>\n      <td>Intermediate</td>\n      <td>2.000000</td>\n      <td>Pluralsight</td>\n      <td>False</td>\n      <td>tl</td>\n    </tr>\n    <tr>\n      <th>1522</th>\n      <td>1522</td>\n      <td>Querying Data Using T-SQL</td>\n      <td>Ami Levin</td>\n      <td>5.0</td>\n      <td>319.0</td>\n      <td>NaN</td>\n      <td>Beginner</td>\n      <td>2.100000</td>\n      <td>Pluralsight</td>\n      <td>False</td>\n      <td>tl</td>\n    </tr>\n    <tr>\n      <th>1641</th>\n      <td>1641</td>\n      <td>Cleaning and Exploring Big Data using PySpark</td>\n      <td>Coursera Project Network</td>\n      <td>4.3</td>\n      <td>40.0</td>\n      <td>2600.0</td>\n      <td>Intermediate</td>\n      <td>NaN</td>\n      <td>Coursera</td>\n      <td>False</td>\n      <td>tl</td>\n    </tr>\n    <tr>\n      <th>1650</th>\n      <td>1650</td>\n      <td>Big Data Programming Languages &amp; Big Data Vs D...</td>\n      <td>Lalitha Audikesavan</td>\n      <td>3.0</td>\n      <td>1.0</td>\n      <td>7.0</td>\n      <td>Beginner</td>\n      <td>0.600000</td>\n      <td>Udemy</td>\n      <td>False</td>\n      <td>tl</td>\n    </tr>\n    <tr>\n      <th>1767</th>\n      <td>1767</td>\n      <td>Big Data</td>\n      <td>University of California San Diego</td>\n      <td>4.5</td>\n      <td>12728.0</td>\n      <td>330000.0</td>\n      <td>Beginner</td>\n      <td>96.000000</td>\n      <td>Coursera</td>\n      <td>False</td>\n      <td>tl</td>\n    </tr>\n    <tr>\n      <th>1794</th>\n      <td>1794</td>\n      <td>Managing Big Data with MySQL</td>\n      <td>Duke University</td>\n      <td>4.7</td>\n      <td>3786.0</td>\n      <td>170000.0</td>\n      <td>Mixed</td>\n      <td>32.000000</td>\n      <td>Coursera</td>\n      <td>False</td>\n      <td>tl</td>\n    </tr>\n    <tr>\n      <th>2031</th>\n      <td>2031</td>\n      <td>Big Data Analytics Using Spark</td>\n      <td>UCSanDiegoX</td>\n      <td>NaN</td>\n      <td>NaN</td>\n      <td>54612.0</td>\n      <td>Advanced</td>\n      <td>40.000000</td>\n      <td>edX</td>\n      <td>True</td>\n      <td>tl</td>\n    </tr>\n    <tr>\n      <th>2074</th>\n      <td>2074</td>\n      <td>Big Data</td>\n      <td>The Art Of Service</td>\n      <td>3.1</td>\n      <td>34.0</td>\n      <td>235.0</td>\n      <td>Mixed</td>\n      <td>4.000000</td>\n      <td>Udemy</td>\n      <td>False</td>\n      <td>tl</td>\n    </tr>\n    <tr>\n      <th>2263</th>\n      <td>2263</td>\n      <td>Big Data Analytics</td>\n      <td>AdelaideX</td>\n      <td>NaN</td>\n      <td>NaN</td>\n      <td>47405.0</td>\n      <td>Intermediate</td>\n      <td>40.000000</td>\n      <td>edX</td>\n      <td>True</td>\n      <td>tl</td>\n    </tr>\n    <tr>\n      <th>2343</th>\n      <td>2343</td>\n      <td>Python Para Finanzas</td>\n      <td>Kevin Meneses González</td>\n      <td>4.4</td>\n      <td>30.0</td>\n      <td>181.0</td>\n      <td>Mixed</td>\n      <td>6.500000</td>\n      <td>Udemy</td>\n      <td>False</td>\n      <td>tl</td>\n    </tr>\n    <tr>\n      <th>2450</th>\n      <td>2450</td>\n      <td>Web Scraping: Python Data Playbook</td>\n      <td>Ian Ozsvald</td>\n      <td>4.5</td>\n      <td>39.0</td>\n      <td>NaN</td>\n      <td>Beginner</td>\n      <td>1.300000</td>\n      <td>Pluralsight</td>\n      <td>False</td>\n      <td>tl</td>\n    </tr>\n    <tr>\n      <th>2543</th>\n      <td>2543</td>\n      <td>Python para Marketing Digital</td>\n      <td>Kevin Meneses González</td>\n      <td>4.7</td>\n      <td>4.0</td>\n      <td>33.0</td>\n      <td>Mixed</td>\n      <td>6.500000</td>\n      <td>Udemy</td>\n      <td>False</td>\n      <td>tl</td>\n    </tr>\n    <tr>\n      <th>2554</th>\n      <td>2554</td>\n      <td>Data Manipulation &amp; Cleaning</td>\n      <td>Abas Mohamed</td>\n      <td>0.0</td>\n      <td>0.0</td>\n      <td>5.0</td>\n      <td>Beginner</td>\n      <td>0.465556</td>\n      <td>Skillshare</td>\n      <td>True</td>\n      <td>tl</td>\n    </tr>\n    <tr>\n      <th>2675</th>\n      <td>2675</td>\n      <td>Matlab</td>\n      <td>Joseph Kelly</td>\n      <td>3.4</td>\n      <td>18.0</td>\n      <td>276.0</td>\n      <td>Beginner</td>\n      <td>2.087222</td>\n      <td>Skillshare</td>\n      <td>True</td>\n      <td>tl</td>\n    </tr>\n    <tr>\n      <th>2683</th>\n      <td>2683</td>\n      <td>Data Mining</td>\n      <td>University of Illinois at Urbana-Champaign</td>\n      <td>4.5</td>\n      <td>2629.0</td>\n      <td>190000.0</td>\n      <td>Intermediate</td>\n      <td>128.000000</td>\n      <td>Coursera</td>\n      <td>False</td>\n      <td>tl</td>\n    </tr>\n    <tr>\n      <th>2700</th>\n      <td>2700</td>\n      <td>INTRODUCTION TO ASSEMBLY LANGUAGE</td>\n      <td>Mohamad Khalil</td>\n      <td>3.5</td>\n      <td>3.0</td>\n      <td>18.0</td>\n      <td>Beginner</td>\n      <td>1.628611</td>\n      <td>Skillshare</td>\n      <td>True</td>\n      <td>tl</td>\n    </tr>\n    <tr>\n      <th>3058</th>\n      <td>3058</td>\n      <td>Building Big Data Pipelines with PySpark + Mon...</td>\n      <td>EBISYS R&amp;D</td>\n      <td>4.6</td>\n      <td>34.0</td>\n      <td>254.0</td>\n      <td>Mixed</td>\n      <td>5.000000</td>\n      <td>Udemy</td>\n      <td>False</td>\n      <td>tl</td>\n    </tr>\n    <tr>\n      <th>3357</th>\n      <td>3357</td>\n      <td>Data Wrangling, Analysis and AB Testing with SQL</td>\n      <td>University of California, Davis</td>\n      <td>3.5</td>\n      <td>440.0</td>\n      <td>29000.0</td>\n      <td>Intermediate</td>\n      <td>NaN</td>\n      <td>Coursera</td>\n      <td>False</td>\n      <td>tl</td>\n    </tr>\n    <tr>\n      <th>3402</th>\n      <td>3402</td>\n      <td>Analyzing and Visualizing Data in Looker</td>\n      <td>Google Cloud</td>\n      <td>4.6</td>\n      <td>100.0</td>\n      <td>7600.0</td>\n      <td>Beginner</td>\n      <td>5.000000</td>\n      <td>Coursera</td>\n      <td>False</td>\n      <td>tl</td>\n    </tr>\n    <tr>\n      <th>3450</th>\n      <td>3450</td>\n      <td>Machine Learning Using SAS Viya</td>\n      <td>SAS</td>\n      <td>4.7</td>\n      <td>84.0</td>\n      <td>6300.0</td>\n      <td>Intermediate</td>\n      <td>34.000000</td>\n      <td>Coursera</td>\n      <td>False</td>\n      <td>tl</td>\n    </tr>\n    <tr>\n      <th>3548</th>\n      <td>3548</td>\n      <td>IBM Data Analyst</td>\n      <td>IBM</td>\n      <td>4.6</td>\n      <td>41405.0</td>\n      <td>630000.0</td>\n      <td>Beginner</td>\n      <td>NaN</td>\n      <td>Coursera</td>\n      <td>False</td>\n      <td>tl</td>\n    </tr>\n    <tr>\n      <th>3549</th>\n      <td>3549</td>\n      <td>GIS, Mapping, and Spatial Analysis</td>\n      <td>University of Toronto</td>\n      <td>4.9</td>\n      <td>2060.0</td>\n      <td>59000.0</td>\n      <td>Beginner</td>\n      <td>48.000000</td>\n      <td>Coursera</td>\n      <td>False</td>\n      <td>tl</td>\n    </tr>\n    <tr>\n      <th>3679</th>\n      <td>3679</td>\n      <td>Analyzing data in R</td>\n      <td>Bioinformatics Institute</td>\n      <td>4.9</td>\n      <td>397.0</td>\n      <td>40584.0</td>\n      <td>Beginner</td>\n      <td>15.500000</td>\n      <td>Stepik</td>\n      <td>True</td>\n      <td>tl</td>\n    </tr>\n    <tr>\n      <th>3780</th>\n      <td>3780</td>\n      <td>Computational Thinking and Big Data</td>\n      <td>AdelaideX</td>\n      <td>NaN</td>\n      <td>NaN</td>\n      <td>21385.0</td>\n      <td>Beginner</td>\n      <td>40.000000</td>\n      <td>edX</td>\n      <td>True</td>\n      <td>tl</td>\n    </tr>\n    <tr>\n      <th>3806</th>\n      <td>3806</td>\n      <td>Analyze NBA data in Python</td>\n      <td>Matt Blank</td>\n      <td>0.0</td>\n      <td>0.0</td>\n      <td>6.0</td>\n      <td>Beginner</td>\n      <td>3.500000</td>\n      <td>Udemy</td>\n      <td>False</td>\n      <td>tl</td>\n    </tr>\n    <tr>\n      <th>3940</th>\n      <td>3940</td>\n      <td>INTRODUCTION TO ARDUINO</td>\n      <td>Ahmad Halawi</td>\n      <td>4.0</td>\n      <td>22.0</td>\n      <td>64.0</td>\n      <td>Mixed</td>\n      <td>0.040000</td>\n      <td>Skillshare</td>\n      <td>True</td>\n      <td>tl</td>\n    </tr>\n    <tr>\n      <th>3970</th>\n      <td>3970</td>\n      <td>Cleaning Data: Python Data Playbook</td>\n      <td>Chris Achard</td>\n      <td>5.0</td>\n      <td>56.0</td>\n      <td>NaN</td>\n      <td>Beginner</td>\n      <td>1.100000</td>\n      <td>Pluralsight</td>\n      <td>False</td>\n      <td>tl</td>\n    </tr>\n    <tr>\n      <th>4223</th>\n      <td>4223</td>\n      <td>Managing Data in R Using Data Frames</td>\n      <td>NaN</td>\n      <td>NaN</td>\n      <td>NaN</td>\n      <td>NaN</td>\n      <td>Intermediate</td>\n      <td>2.000000</td>\n      <td>Pluralsight</td>\n      <td>False</td>\n      <td>tl</td>\n    </tr>\n    <tr>\n      <th>4277</th>\n      <td>4277</td>\n      <td>Managing, Describing, and Analyzing Data</td>\n      <td>University of Colorado Boulder</td>\n      <td>4.3</td>\n      <td>15.0</td>\n      <td>2100.0</td>\n      <td>Beginner</td>\n      <td>17.000000</td>\n      <td>Coursera</td>\n      <td>False</td>\n      <td>tl</td>\n    </tr>\n    <tr>\n      <th>4284</th>\n      <td>4284</td>\n      <td>Programming Python Using an IDE</td>\n      <td>Xavier Morera</td>\n      <td>4.5</td>\n      <td>25.0</td>\n      <td>NaN</td>\n      <td>Intermediate</td>\n      <td>2.100000</td>\n      <td>Pluralsight</td>\n      <td>False</td>\n      <td>tl</td>\n    </tr>\n    <tr>\n      <th>4337</th>\n      <td>4337</td>\n      <td>Data Mining Pipeline</td>\n      <td>University of Colorado Boulder</td>\n      <td>NaN</td>\n      <td>NaN</td>\n      <td>NaN</td>\n      <td>Intermediate</td>\n      <td>NaN</td>\n      <td>Coursera</td>\n      <td>False</td>\n      <td>tl</td>\n    </tr>\n    <tr>\n      <th>4468</th>\n      <td>4468</td>\n      <td>Mastering Data Analysis in Excel</td>\n      <td>Duke University</td>\n      <td>4.2</td>\n      <td>3777.0</td>\n      <td>320000.0</td>\n      <td>Mixed</td>\n      <td>21.000000</td>\n      <td>Coursera</td>\n      <td>False</td>\n      <td>tl</td>\n    </tr>\n    <tr>\n      <th>4604</th>\n      <td>4604</td>\n      <td>MATLAB and Simulink programing</td>\n      <td>AulaGEO Academy</td>\n      <td>3.2</td>\n      <td>2.0</td>\n      <td>12.0</td>\n      <td>Beginner</td>\n      <td>4.000000</td>\n      <td>Udemy</td>\n      <td>False</td>\n      <td>tl</td>\n    </tr>\n    <tr>\n      <th>4639</th>\n      <td>4639</td>\n      <td>IoT Programming and Big Data</td>\n      <td>CurtinX</td>\n      <td>NaN</td>\n      <td>NaN</td>\n      <td>24424.0</td>\n      <td>Beginner</td>\n      <td>20.000000</td>\n      <td>edX</td>\n      <td>True</td>\n      <td>tl</td>\n    </tr>\n    <tr>\n      <th>4667</th>\n      <td>4667</td>\n      <td>Analyzing Data with R</td>\n      <td>IBM</td>\n      <td>NaN</td>\n      <td>NaN</td>\n      <td>NaN</td>\n      <td>Beginner</td>\n      <td>24.000000</td>\n      <td>edX</td>\n      <td>True</td>\n      <td>tl</td>\n    </tr>\n  </tbody>\n</table>\n</div>"
     },
     "execution_count": 66,
     "metadata": {},
     "output_type": "execute_result"
    }
   ],
   "source": [
    "lang_df[lang_df['language'] == 'tl']"
   ],
   "metadata": {
    "collapsed": false,
    "pycharm": {
     "name": "#%%\n"
    }
   }
  },
  {
   "cell_type": "markdown",
   "source": [
    "All of the titles tagged with 'tl' are in English.  I'm going to just change those tags to 'en'"
   ],
   "metadata": {
    "collapsed": false,
    "pycharm": {
     "name": "#%% md\n"
    }
   }
  },
  {
   "cell_type": "code",
   "execution_count": 69,
   "outputs": [],
   "source": [
    "lang_df['language'].replace({'tl': 'en'}, inplace=True)"
   ],
   "metadata": {
    "collapsed": false,
    "pycharm": {
     "name": "#%%\n"
    }
   }
  },
  {
   "cell_type": "code",
   "execution_count": 72,
   "outputs": [
    {
     "data": {
      "text/plain": "                                                  title language\n0                     Машинное обучение и анализ данных       ru\n1     Introducción a la Especialización en Ciencia d...       es\n4     Estatística não-paramétrica para a tomada de d...       pt\n9             Herramientas para el Análisis de Big Data       es\n11           赵强老师：BigData 电商大数据项目实战(Hadoop+Spark)系列课程（）       no\n...                                                 ...      ...\n4669                          Python自动化办公+数据爬虫+可视化Web站点       vi\n4670  Visualização de Dados e com Python, Matplotlib...       pt\n4671  Power BI - Primeiros passos aos primeiros Dash...       pt\n4675  R Programming : Hands on R Programming for Beg...       da\n4681                               Python For Beginners       de\n\n[995 rows x 2 columns]",
      "text/html": "<div>\n<style scoped>\n    .dataframe tbody tr th:only-of-type {\n        vertical-align: middle;\n    }\n\n    .dataframe tbody tr th {\n        vertical-align: top;\n    }\n\n    .dataframe thead th {\n        text-align: right;\n    }\n</style>\n<table border=\"1\" class=\"dataframe\">\n  <thead>\n    <tr style=\"text-align: right;\">\n      <th></th>\n      <th>title</th>\n      <th>language</th>\n    </tr>\n  </thead>\n  <tbody>\n    <tr>\n      <th>0</th>\n      <td>Машинное обучение и анализ данных</td>\n      <td>ru</td>\n    </tr>\n    <tr>\n      <th>1</th>\n      <td>Introducción a la Especialización en Ciencia d...</td>\n      <td>es</td>\n    </tr>\n    <tr>\n      <th>4</th>\n      <td>Estatística não-paramétrica para a tomada de d...</td>\n      <td>pt</td>\n    </tr>\n    <tr>\n      <th>9</th>\n      <td>Herramientas para el Análisis de Big Data</td>\n      <td>es</td>\n    </tr>\n    <tr>\n      <th>11</th>\n      <td>赵强老师：BigData 电商大数据项目实战(Hadoop+Spark)系列课程（）</td>\n      <td>no</td>\n    </tr>\n    <tr>\n      <th>...</th>\n      <td>...</td>\n      <td>...</td>\n    </tr>\n    <tr>\n      <th>4669</th>\n      <td>Python自动化办公+数据爬虫+可视化Web站点</td>\n      <td>vi</td>\n    </tr>\n    <tr>\n      <th>4670</th>\n      <td>Visualização de Dados e com Python, Matplotlib...</td>\n      <td>pt</td>\n    </tr>\n    <tr>\n      <th>4671</th>\n      <td>Power BI - Primeiros passos aos primeiros Dash...</td>\n      <td>pt</td>\n    </tr>\n    <tr>\n      <th>4675</th>\n      <td>R Programming : Hands on R Programming for Beg...</td>\n      <td>da</td>\n    </tr>\n    <tr>\n      <th>4681</th>\n      <td>Python For Beginners</td>\n      <td>de</td>\n    </tr>\n  </tbody>\n</table>\n<p>995 rows × 2 columns</p>\n</div>"
     },
     "execution_count": 72,
     "metadata": {},
     "output_type": "execute_result"
    }
   ],
   "source": [
    "lang_df[lang_df['language'] != 'en'][['title', 'language']]"
   ],
   "metadata": {
    "collapsed": false,
    "pycharm": {
     "name": "#%%\n"
    }
   }
  },
  {
   "cell_type": "markdown",
   "source": [
    "Strangely, Italian seems to be another mislabeled language in the dataset."
   ],
   "metadata": {
    "collapsed": false,
    "pycharm": {
     "name": "#%% md\n"
    }
   }
  },
  {
   "cell_type": "code",
   "execution_count": 73,
   "outputs": [
    {
     "data": {
      "text/plain": "      Unnamed: 0                                              title  \\\n25            25  Gestione amministrazione, controllo di gestion...   \n40            40  Data Science: Bitcoin Data Visualization & Pri...   \n144          144     Excel Data Visualization Part : Advanced Demos   \n177          177              Designing data-intensive applications   \n207          207  Data Visualization e manipolazione dei dati co...   \n...          ...                                                ...   \n4460        4460                         Pro data science in Python   \n4527        4527                             Data Integration Guide   \n4606        4606                              Pro data science in R   \n4619        4619                                      Data Literacy   \n4663        4663                              Clinical Data Science   \n\n                                       author  rating  votes_count  \\\n25                          Riccardo Dominici     0.0          0.0   \n40            School of Disruptive Innovation     3.9         51.0   \n144                              Chris Dutton     3.7         63.0   \n177   Universidad Nacional Autónoma de México     4.5         30.0   \n207                                 FedericaX     NaN          NaN   \n...                                       ...     ...          ...   \n4460                        Francisco Juretig     3.9         37.0   \n4527                              Ahmed Fessi     5.0         11.0   \n4606                        Francisco Juretig     3.6         25.0   \n4619                 Johns Hopkins University     4.6        105.0   \n4663            University of Colorado System     4.5        336.0   \n\n      students_count         level   duration    platform   free language  \n25               3.0         Mixed   7.702500  Skillshare   True       it  \n40            6760.0      Beginner   1.500000       Udemy  False       it  \n144            760.0      Advanced   2.096667  Skillshare   True       it  \n177           5900.0  Intermediate        NaN    Coursera  False       it  \n207              NaN  Intermediate  20.000000         edX   True       it  \n...              ...           ...        ...         ...    ...      ...  \n4460           495.0  Intermediate  11.500000       Udemy  False       it  \n4527            95.0  Intermediate   2.000000       Udemy  False       it  \n4606           246.0         Mixed  18.500000       Udemy  False       it  \n4619          4500.0      Beginner  60.000000    Coursera  False       it  \n4663         18000.0  Intermediate  56.000000    Coursera  False       it  \n\n[84 rows x 11 columns]",
      "text/html": "<div>\n<style scoped>\n    .dataframe tbody tr th:only-of-type {\n        vertical-align: middle;\n    }\n\n    .dataframe tbody tr th {\n        vertical-align: top;\n    }\n\n    .dataframe thead th {\n        text-align: right;\n    }\n</style>\n<table border=\"1\" class=\"dataframe\">\n  <thead>\n    <tr style=\"text-align: right;\">\n      <th></th>\n      <th>Unnamed: 0</th>\n      <th>title</th>\n      <th>author</th>\n      <th>rating</th>\n      <th>votes_count</th>\n      <th>students_count</th>\n      <th>level</th>\n      <th>duration</th>\n      <th>platform</th>\n      <th>free</th>\n      <th>language</th>\n    </tr>\n  </thead>\n  <tbody>\n    <tr>\n      <th>25</th>\n      <td>25</td>\n      <td>Gestione amministrazione, controllo di gestion...</td>\n      <td>Riccardo Dominici</td>\n      <td>0.0</td>\n      <td>0.0</td>\n      <td>3.0</td>\n      <td>Mixed</td>\n      <td>7.702500</td>\n      <td>Skillshare</td>\n      <td>True</td>\n      <td>it</td>\n    </tr>\n    <tr>\n      <th>40</th>\n      <td>40</td>\n      <td>Data Science: Bitcoin Data Visualization &amp; Pri...</td>\n      <td>School of Disruptive Innovation</td>\n      <td>3.9</td>\n      <td>51.0</td>\n      <td>6760.0</td>\n      <td>Beginner</td>\n      <td>1.500000</td>\n      <td>Udemy</td>\n      <td>False</td>\n      <td>it</td>\n    </tr>\n    <tr>\n      <th>144</th>\n      <td>144</td>\n      <td>Excel Data Visualization Part : Advanced Demos</td>\n      <td>Chris Dutton</td>\n      <td>3.7</td>\n      <td>63.0</td>\n      <td>760.0</td>\n      <td>Advanced</td>\n      <td>2.096667</td>\n      <td>Skillshare</td>\n      <td>True</td>\n      <td>it</td>\n    </tr>\n    <tr>\n      <th>177</th>\n      <td>177</td>\n      <td>Designing data-intensive applications</td>\n      <td>Universidad Nacional Autónoma de México</td>\n      <td>4.5</td>\n      <td>30.0</td>\n      <td>5900.0</td>\n      <td>Intermediate</td>\n      <td>NaN</td>\n      <td>Coursera</td>\n      <td>False</td>\n      <td>it</td>\n    </tr>\n    <tr>\n      <th>207</th>\n      <td>207</td>\n      <td>Data Visualization e manipolazione dei dati co...</td>\n      <td>FedericaX</td>\n      <td>NaN</td>\n      <td>NaN</td>\n      <td>NaN</td>\n      <td>Intermediate</td>\n      <td>20.000000</td>\n      <td>edX</td>\n      <td>True</td>\n      <td>it</td>\n    </tr>\n    <tr>\n      <th>...</th>\n      <td>...</td>\n      <td>...</td>\n      <td>...</td>\n      <td>...</td>\n      <td>...</td>\n      <td>...</td>\n      <td>...</td>\n      <td>...</td>\n      <td>...</td>\n      <td>...</td>\n      <td>...</td>\n    </tr>\n    <tr>\n      <th>4460</th>\n      <td>4460</td>\n      <td>Pro data science in Python</td>\n      <td>Francisco Juretig</td>\n      <td>3.9</td>\n      <td>37.0</td>\n      <td>495.0</td>\n      <td>Intermediate</td>\n      <td>11.500000</td>\n      <td>Udemy</td>\n      <td>False</td>\n      <td>it</td>\n    </tr>\n    <tr>\n      <th>4527</th>\n      <td>4527</td>\n      <td>Data Integration Guide</td>\n      <td>Ahmed Fessi</td>\n      <td>5.0</td>\n      <td>11.0</td>\n      <td>95.0</td>\n      <td>Intermediate</td>\n      <td>2.000000</td>\n      <td>Udemy</td>\n      <td>False</td>\n      <td>it</td>\n    </tr>\n    <tr>\n      <th>4606</th>\n      <td>4606</td>\n      <td>Pro data science in R</td>\n      <td>Francisco Juretig</td>\n      <td>3.6</td>\n      <td>25.0</td>\n      <td>246.0</td>\n      <td>Mixed</td>\n      <td>18.500000</td>\n      <td>Udemy</td>\n      <td>False</td>\n      <td>it</td>\n    </tr>\n    <tr>\n      <th>4619</th>\n      <td>4619</td>\n      <td>Data Literacy</td>\n      <td>Johns Hopkins University</td>\n      <td>4.6</td>\n      <td>105.0</td>\n      <td>4500.0</td>\n      <td>Beginner</td>\n      <td>60.000000</td>\n      <td>Coursera</td>\n      <td>False</td>\n      <td>it</td>\n    </tr>\n    <tr>\n      <th>4663</th>\n      <td>4663</td>\n      <td>Clinical Data Science</td>\n      <td>University of Colorado System</td>\n      <td>4.5</td>\n      <td>336.0</td>\n      <td>18000.0</td>\n      <td>Intermediate</td>\n      <td>56.000000</td>\n      <td>Coursera</td>\n      <td>False</td>\n      <td>it</td>\n    </tr>\n  </tbody>\n</table>\n<p>84 rows × 11 columns</p>\n</div>"
     },
     "execution_count": 73,
     "metadata": {},
     "output_type": "execute_result"
    }
   ],
   "source": [
    "lang_df[lang_df['language'] == 'it']"
   ],
   "metadata": {
    "collapsed": false,
    "pycharm": {
     "name": "#%%\n"
    }
   }
  },
  {
   "cell_type": "markdown",
   "source": [
    "Some of these are just plain wrong.  I'm not sure at this point whether I can rely on this method to automatically assign languages to titles.  These titles with Italian labels seem too mixed a bag to really rely on this method.  I might need to add the author name to the prediction but even then, I'm not sure that would yield better results and may present bias. After all, plenty of people speak English who don't have \"English\" names. As I was writing this, it dawned on me that I didn't do any text preprocessing like removing punctuation and removing capital letters etc.  I'll try that next and see if results improve."
   ],
   "metadata": {
    "collapsed": false,
    "pycharm": {
     "name": "#%% md\n"
    }
   }
  },
  {
   "cell_type": "markdown",
   "source": [],
   "metadata": {
    "collapsed": false,
    "pycharm": {
     "name": "#%% md\n"
    }
   }
  },
  {
   "cell_type": "markdown",
   "source": [
    "conda install -c conda-forge textblob"
   ],
   "metadata": {
    "collapsed": false,
    "pycharm": {
     "name": "#%% md\n"
    }
   }
  },
  {
   "cell_type": "code",
   "execution_count": 74,
   "outputs": [
    {
     "ename": "HTTPError",
     "evalue": "HTTP Error 404: Not Found",
     "output_type": "error",
     "traceback": [
      "\u001B[0;31m---------------------------------------------------------------------------\u001B[0m",
      "\u001B[0;31mHTTPError\u001B[0m                                 Traceback (most recent call last)",
      "\u001B[0;32m/var/folders/x5/8jbl553d391f5ks09z57vch40000gn/T/ipykernel_53832/3502560487.py\u001B[0m in \u001B[0;36m<module>\u001B[0;34m\u001B[0m\n\u001B[1;32m      2\u001B[0m \u001B[0mtext\u001B[0m \u001B[0;34m=\u001B[0m \u001B[0;34m\"это компьютерный портал для гиков. It was a beautiful day .\"\u001B[0m\u001B[0;34m\u001B[0m\u001B[0;34m\u001B[0m\u001B[0m\n\u001B[1;32m      3\u001B[0m \u001B[0mlang\u001B[0m \u001B[0;34m=\u001B[0m \u001B[0mTextBlob\u001B[0m\u001B[0;34m(\u001B[0m\u001B[0mtext\u001B[0m\u001B[0;34m)\u001B[0m\u001B[0;34m\u001B[0m\u001B[0;34m\u001B[0m\u001B[0m\n\u001B[0;32m----> 4\u001B[0;31m \u001B[0mprint\u001B[0m\u001B[0;34m(\u001B[0m\u001B[0mlang\u001B[0m\u001B[0;34m.\u001B[0m\u001B[0mdetect_language\u001B[0m\u001B[0;34m(\u001B[0m\u001B[0;34m)\u001B[0m\u001B[0;34m)\u001B[0m\u001B[0;34m\u001B[0m\u001B[0;34m\u001B[0m\u001B[0m\n\u001B[0m",
      "\u001B[0;32m/opt/anaconda3/lib/python3.9/site-packages/textblob/blob.py\u001B[0m in \u001B[0;36mdetect_language\u001B[0;34m(self)\u001B[0m\n\u001B[1;32m    566\u001B[0m         \u001B[0;34m:\u001B[0m\u001B[0mrtype\u001B[0m\u001B[0;34m:\u001B[0m \u001B[0mstr\u001B[0m\u001B[0;34m\u001B[0m\u001B[0;34m\u001B[0m\u001B[0m\n\u001B[1;32m    567\u001B[0m         \"\"\"\n\u001B[0;32m--> 568\u001B[0;31m         \u001B[0;32mreturn\u001B[0m \u001B[0mself\u001B[0m\u001B[0;34m.\u001B[0m\u001B[0mtranslator\u001B[0m\u001B[0;34m.\u001B[0m\u001B[0mdetect\u001B[0m\u001B[0;34m(\u001B[0m\u001B[0mself\u001B[0m\u001B[0;34m.\u001B[0m\u001B[0mraw\u001B[0m\u001B[0;34m)\u001B[0m\u001B[0;34m\u001B[0m\u001B[0;34m\u001B[0m\u001B[0m\n\u001B[0m\u001B[1;32m    569\u001B[0m \u001B[0;34m\u001B[0m\u001B[0m\n\u001B[1;32m    570\u001B[0m     \u001B[0;32mdef\u001B[0m \u001B[0mcorrect\u001B[0m\u001B[0;34m(\u001B[0m\u001B[0mself\u001B[0m\u001B[0;34m)\u001B[0m\u001B[0;34m:\u001B[0m\u001B[0;34m\u001B[0m\u001B[0;34m\u001B[0m\u001B[0m\n",
      "\u001B[0;32m/opt/anaconda3/lib/python3.9/site-packages/textblob/translate.py\u001B[0m in \u001B[0;36mdetect\u001B[0;34m(self, source, host, type_)\u001B[0m\n\u001B[1;32m     70\u001B[0m         \u001B[0mdata\u001B[0m \u001B[0;34m=\u001B[0m \u001B[0;34m{\u001B[0m\u001B[0;34m\"q\"\u001B[0m\u001B[0;34m:\u001B[0m \u001B[0msource\u001B[0m\u001B[0;34m}\u001B[0m\u001B[0;34m\u001B[0m\u001B[0;34m\u001B[0m\u001B[0m\n\u001B[1;32m     71\u001B[0m         \u001B[0murl\u001B[0m \u001B[0;34m=\u001B[0m \u001B[0;34mu'{url}&sl=auto&tk={tk}'\u001B[0m\u001B[0;34m.\u001B[0m\u001B[0mformat\u001B[0m\u001B[0;34m(\u001B[0m\u001B[0murl\u001B[0m\u001B[0;34m=\u001B[0m\u001B[0mself\u001B[0m\u001B[0;34m.\u001B[0m\u001B[0murl\u001B[0m\u001B[0;34m,\u001B[0m \u001B[0mtk\u001B[0m\u001B[0;34m=\u001B[0m\u001B[0m_calculate_tk\u001B[0m\u001B[0;34m(\u001B[0m\u001B[0msource\u001B[0m\u001B[0;34m)\u001B[0m\u001B[0;34m)\u001B[0m\u001B[0;34m\u001B[0m\u001B[0;34m\u001B[0m\u001B[0m\n\u001B[0;32m---> 72\u001B[0;31m         \u001B[0mresponse\u001B[0m \u001B[0;34m=\u001B[0m \u001B[0mself\u001B[0m\u001B[0;34m.\u001B[0m\u001B[0m_request\u001B[0m\u001B[0;34m(\u001B[0m\u001B[0murl\u001B[0m\u001B[0;34m,\u001B[0m \u001B[0mhost\u001B[0m\u001B[0;34m=\u001B[0m\u001B[0mhost\u001B[0m\u001B[0;34m,\u001B[0m \u001B[0mtype_\u001B[0m\u001B[0;34m=\u001B[0m\u001B[0mtype_\u001B[0m\u001B[0;34m,\u001B[0m \u001B[0mdata\u001B[0m\u001B[0;34m=\u001B[0m\u001B[0mdata\u001B[0m\u001B[0;34m)\u001B[0m\u001B[0;34m\u001B[0m\u001B[0;34m\u001B[0m\u001B[0m\n\u001B[0m\u001B[1;32m     73\u001B[0m         \u001B[0mresult\u001B[0m\u001B[0;34m,\u001B[0m \u001B[0mlanguage\u001B[0m \u001B[0;34m=\u001B[0m \u001B[0mjson\u001B[0m\u001B[0;34m.\u001B[0m\u001B[0mloads\u001B[0m\u001B[0;34m(\u001B[0m\u001B[0mresponse\u001B[0m\u001B[0;34m)\u001B[0m\u001B[0;34m\u001B[0m\u001B[0;34m\u001B[0m\u001B[0m\n\u001B[1;32m     74\u001B[0m         \u001B[0;32mreturn\u001B[0m \u001B[0mlanguage\u001B[0m\u001B[0;34m\u001B[0m\u001B[0;34m\u001B[0m\u001B[0m\n",
      "\u001B[0;32m/opt/anaconda3/lib/python3.9/site-packages/textblob/translate.py\u001B[0m in \u001B[0;36m_request\u001B[0;34m(self, url, host, type_, data)\u001B[0m\n\u001B[1;32m     90\u001B[0m         \u001B[0;32mif\u001B[0m \u001B[0mhost\u001B[0m \u001B[0;32mor\u001B[0m \u001B[0mtype_\u001B[0m\u001B[0;34m:\u001B[0m\u001B[0;34m\u001B[0m\u001B[0;34m\u001B[0m\u001B[0m\n\u001B[1;32m     91\u001B[0m             \u001B[0mreq\u001B[0m\u001B[0;34m.\u001B[0m\u001B[0mset_proxy\u001B[0m\u001B[0;34m(\u001B[0m\u001B[0mhost\u001B[0m\u001B[0;34m=\u001B[0m\u001B[0mhost\u001B[0m\u001B[0;34m,\u001B[0m \u001B[0mtype\u001B[0m\u001B[0;34m=\u001B[0m\u001B[0mtype_\u001B[0m\u001B[0;34m)\u001B[0m\u001B[0;34m\u001B[0m\u001B[0;34m\u001B[0m\u001B[0m\n\u001B[0;32m---> 92\u001B[0;31m         \u001B[0mresp\u001B[0m \u001B[0;34m=\u001B[0m \u001B[0mrequest\u001B[0m\u001B[0;34m.\u001B[0m\u001B[0murlopen\u001B[0m\u001B[0;34m(\u001B[0m\u001B[0mreq\u001B[0m\u001B[0;34m)\u001B[0m\u001B[0;34m\u001B[0m\u001B[0;34m\u001B[0m\u001B[0m\n\u001B[0m\u001B[1;32m     93\u001B[0m         \u001B[0mcontent\u001B[0m \u001B[0;34m=\u001B[0m \u001B[0mresp\u001B[0m\u001B[0;34m.\u001B[0m\u001B[0mread\u001B[0m\u001B[0;34m(\u001B[0m\u001B[0;34m)\u001B[0m\u001B[0;34m\u001B[0m\u001B[0;34m\u001B[0m\u001B[0m\n\u001B[1;32m     94\u001B[0m         \u001B[0;32mreturn\u001B[0m \u001B[0mcontent\u001B[0m\u001B[0;34m.\u001B[0m\u001B[0mdecode\u001B[0m\u001B[0;34m(\u001B[0m\u001B[0;34m'utf-8'\u001B[0m\u001B[0;34m)\u001B[0m\u001B[0;34m\u001B[0m\u001B[0;34m\u001B[0m\u001B[0m\n",
      "\u001B[0;32m/opt/anaconda3/lib/python3.9/urllib/request.py\u001B[0m in \u001B[0;36murlopen\u001B[0;34m(url, data, timeout, cafile, capath, cadefault, context)\u001B[0m\n\u001B[1;32m    212\u001B[0m     \u001B[0;32melse\u001B[0m\u001B[0;34m:\u001B[0m\u001B[0;34m\u001B[0m\u001B[0;34m\u001B[0m\u001B[0m\n\u001B[1;32m    213\u001B[0m         \u001B[0mopener\u001B[0m \u001B[0;34m=\u001B[0m \u001B[0m_opener\u001B[0m\u001B[0;34m\u001B[0m\u001B[0;34m\u001B[0m\u001B[0m\n\u001B[0;32m--> 214\u001B[0;31m     \u001B[0;32mreturn\u001B[0m \u001B[0mopener\u001B[0m\u001B[0;34m.\u001B[0m\u001B[0mopen\u001B[0m\u001B[0;34m(\u001B[0m\u001B[0murl\u001B[0m\u001B[0;34m,\u001B[0m \u001B[0mdata\u001B[0m\u001B[0;34m,\u001B[0m \u001B[0mtimeout\u001B[0m\u001B[0;34m)\u001B[0m\u001B[0;34m\u001B[0m\u001B[0;34m\u001B[0m\u001B[0m\n\u001B[0m\u001B[1;32m    215\u001B[0m \u001B[0;34m\u001B[0m\u001B[0m\n\u001B[1;32m    216\u001B[0m \u001B[0;32mdef\u001B[0m \u001B[0minstall_opener\u001B[0m\u001B[0;34m(\u001B[0m\u001B[0mopener\u001B[0m\u001B[0;34m)\u001B[0m\u001B[0;34m:\u001B[0m\u001B[0;34m\u001B[0m\u001B[0;34m\u001B[0m\u001B[0m\n",
      "\u001B[0;32m/opt/anaconda3/lib/python3.9/urllib/request.py\u001B[0m in \u001B[0;36mopen\u001B[0;34m(self, fullurl, data, timeout)\u001B[0m\n\u001B[1;32m    521\u001B[0m         \u001B[0;32mfor\u001B[0m \u001B[0mprocessor\u001B[0m \u001B[0;32min\u001B[0m \u001B[0mself\u001B[0m\u001B[0;34m.\u001B[0m\u001B[0mprocess_response\u001B[0m\u001B[0;34m.\u001B[0m\u001B[0mget\u001B[0m\u001B[0;34m(\u001B[0m\u001B[0mprotocol\u001B[0m\u001B[0;34m,\u001B[0m \u001B[0;34m[\u001B[0m\u001B[0;34m]\u001B[0m\u001B[0;34m)\u001B[0m\u001B[0;34m:\u001B[0m\u001B[0;34m\u001B[0m\u001B[0;34m\u001B[0m\u001B[0m\n\u001B[1;32m    522\u001B[0m             \u001B[0mmeth\u001B[0m \u001B[0;34m=\u001B[0m \u001B[0mgetattr\u001B[0m\u001B[0;34m(\u001B[0m\u001B[0mprocessor\u001B[0m\u001B[0;34m,\u001B[0m \u001B[0mmeth_name\u001B[0m\u001B[0;34m)\u001B[0m\u001B[0;34m\u001B[0m\u001B[0;34m\u001B[0m\u001B[0m\n\u001B[0;32m--> 523\u001B[0;31m             \u001B[0mresponse\u001B[0m \u001B[0;34m=\u001B[0m \u001B[0mmeth\u001B[0m\u001B[0;34m(\u001B[0m\u001B[0mreq\u001B[0m\u001B[0;34m,\u001B[0m \u001B[0mresponse\u001B[0m\u001B[0;34m)\u001B[0m\u001B[0;34m\u001B[0m\u001B[0;34m\u001B[0m\u001B[0m\n\u001B[0m\u001B[1;32m    524\u001B[0m \u001B[0;34m\u001B[0m\u001B[0m\n\u001B[1;32m    525\u001B[0m         \u001B[0;32mreturn\u001B[0m \u001B[0mresponse\u001B[0m\u001B[0;34m\u001B[0m\u001B[0;34m\u001B[0m\u001B[0m\n",
      "\u001B[0;32m/opt/anaconda3/lib/python3.9/urllib/request.py\u001B[0m in \u001B[0;36mhttp_response\u001B[0;34m(self, request, response)\u001B[0m\n\u001B[1;32m    630\u001B[0m         \u001B[0;31m# request was successfully received, understood, and accepted.\u001B[0m\u001B[0;34m\u001B[0m\u001B[0;34m\u001B[0m\u001B[0m\n\u001B[1;32m    631\u001B[0m         \u001B[0;32mif\u001B[0m \u001B[0;32mnot\u001B[0m \u001B[0;34m(\u001B[0m\u001B[0;36m200\u001B[0m \u001B[0;34m<=\u001B[0m \u001B[0mcode\u001B[0m \u001B[0;34m<\u001B[0m \u001B[0;36m300\u001B[0m\u001B[0;34m)\u001B[0m\u001B[0;34m:\u001B[0m\u001B[0;34m\u001B[0m\u001B[0;34m\u001B[0m\u001B[0m\n\u001B[0;32m--> 632\u001B[0;31m             response = self.parent.error(\n\u001B[0m\u001B[1;32m    633\u001B[0m                 'http', request, response, code, msg, hdrs)\n\u001B[1;32m    634\u001B[0m \u001B[0;34m\u001B[0m\u001B[0m\n",
      "\u001B[0;32m/opt/anaconda3/lib/python3.9/urllib/request.py\u001B[0m in \u001B[0;36merror\u001B[0;34m(self, proto, *args)\u001B[0m\n\u001B[1;32m    559\u001B[0m         \u001B[0;32mif\u001B[0m \u001B[0mhttp_err\u001B[0m\u001B[0;34m:\u001B[0m\u001B[0;34m\u001B[0m\u001B[0;34m\u001B[0m\u001B[0m\n\u001B[1;32m    560\u001B[0m             \u001B[0margs\u001B[0m \u001B[0;34m=\u001B[0m \u001B[0;34m(\u001B[0m\u001B[0mdict\u001B[0m\u001B[0;34m,\u001B[0m \u001B[0;34m'default'\u001B[0m\u001B[0;34m,\u001B[0m \u001B[0;34m'http_error_default'\u001B[0m\u001B[0;34m)\u001B[0m \u001B[0;34m+\u001B[0m \u001B[0morig_args\u001B[0m\u001B[0;34m\u001B[0m\u001B[0;34m\u001B[0m\u001B[0m\n\u001B[0;32m--> 561\u001B[0;31m             \u001B[0;32mreturn\u001B[0m \u001B[0mself\u001B[0m\u001B[0;34m.\u001B[0m\u001B[0m_call_chain\u001B[0m\u001B[0;34m(\u001B[0m\u001B[0;34m*\u001B[0m\u001B[0margs\u001B[0m\u001B[0;34m)\u001B[0m\u001B[0;34m\u001B[0m\u001B[0;34m\u001B[0m\u001B[0m\n\u001B[0m\u001B[1;32m    562\u001B[0m \u001B[0;34m\u001B[0m\u001B[0m\n\u001B[1;32m    563\u001B[0m \u001B[0;31m# XXX probably also want an abstract factory that knows when it makes\u001B[0m\u001B[0;34m\u001B[0m\u001B[0;34m\u001B[0m\u001B[0m\n",
      "\u001B[0;32m/opt/anaconda3/lib/python3.9/urllib/request.py\u001B[0m in \u001B[0;36m_call_chain\u001B[0;34m(self, chain, kind, meth_name, *args)\u001B[0m\n\u001B[1;32m    492\u001B[0m         \u001B[0;32mfor\u001B[0m \u001B[0mhandler\u001B[0m \u001B[0;32min\u001B[0m \u001B[0mhandlers\u001B[0m\u001B[0;34m:\u001B[0m\u001B[0;34m\u001B[0m\u001B[0;34m\u001B[0m\u001B[0m\n\u001B[1;32m    493\u001B[0m             \u001B[0mfunc\u001B[0m \u001B[0;34m=\u001B[0m \u001B[0mgetattr\u001B[0m\u001B[0;34m(\u001B[0m\u001B[0mhandler\u001B[0m\u001B[0;34m,\u001B[0m \u001B[0mmeth_name\u001B[0m\u001B[0;34m)\u001B[0m\u001B[0;34m\u001B[0m\u001B[0;34m\u001B[0m\u001B[0m\n\u001B[0;32m--> 494\u001B[0;31m             \u001B[0mresult\u001B[0m \u001B[0;34m=\u001B[0m \u001B[0mfunc\u001B[0m\u001B[0;34m(\u001B[0m\u001B[0;34m*\u001B[0m\u001B[0margs\u001B[0m\u001B[0;34m)\u001B[0m\u001B[0;34m\u001B[0m\u001B[0;34m\u001B[0m\u001B[0m\n\u001B[0m\u001B[1;32m    495\u001B[0m             \u001B[0;32mif\u001B[0m \u001B[0mresult\u001B[0m \u001B[0;32mis\u001B[0m \u001B[0;32mnot\u001B[0m \u001B[0;32mNone\u001B[0m\u001B[0;34m:\u001B[0m\u001B[0;34m\u001B[0m\u001B[0;34m\u001B[0m\u001B[0m\n\u001B[1;32m    496\u001B[0m                 \u001B[0;32mreturn\u001B[0m \u001B[0mresult\u001B[0m\u001B[0;34m\u001B[0m\u001B[0;34m\u001B[0m\u001B[0m\n",
      "\u001B[0;32m/opt/anaconda3/lib/python3.9/urllib/request.py\u001B[0m in \u001B[0;36mhttp_error_default\u001B[0;34m(self, req, fp, code, msg, hdrs)\u001B[0m\n\u001B[1;32m    639\u001B[0m \u001B[0;32mclass\u001B[0m \u001B[0mHTTPDefaultErrorHandler\u001B[0m\u001B[0;34m(\u001B[0m\u001B[0mBaseHandler\u001B[0m\u001B[0;34m)\u001B[0m\u001B[0;34m:\u001B[0m\u001B[0;34m\u001B[0m\u001B[0;34m\u001B[0m\u001B[0m\n\u001B[1;32m    640\u001B[0m     \u001B[0;32mdef\u001B[0m \u001B[0mhttp_error_default\u001B[0m\u001B[0;34m(\u001B[0m\u001B[0mself\u001B[0m\u001B[0;34m,\u001B[0m \u001B[0mreq\u001B[0m\u001B[0;34m,\u001B[0m \u001B[0mfp\u001B[0m\u001B[0;34m,\u001B[0m \u001B[0mcode\u001B[0m\u001B[0;34m,\u001B[0m \u001B[0mmsg\u001B[0m\u001B[0;34m,\u001B[0m \u001B[0mhdrs\u001B[0m\u001B[0;34m)\u001B[0m\u001B[0;34m:\u001B[0m\u001B[0;34m\u001B[0m\u001B[0;34m\u001B[0m\u001B[0m\n\u001B[0;32m--> 641\u001B[0;31m         \u001B[0;32mraise\u001B[0m \u001B[0mHTTPError\u001B[0m\u001B[0;34m(\u001B[0m\u001B[0mreq\u001B[0m\u001B[0;34m.\u001B[0m\u001B[0mfull_url\u001B[0m\u001B[0;34m,\u001B[0m \u001B[0mcode\u001B[0m\u001B[0;34m,\u001B[0m \u001B[0mmsg\u001B[0m\u001B[0;34m,\u001B[0m \u001B[0mhdrs\u001B[0m\u001B[0;34m,\u001B[0m \u001B[0mfp\u001B[0m\u001B[0;34m)\u001B[0m\u001B[0;34m\u001B[0m\u001B[0;34m\u001B[0m\u001B[0m\n\u001B[0m\u001B[1;32m    642\u001B[0m \u001B[0;34m\u001B[0m\u001B[0m\n\u001B[1;32m    643\u001B[0m \u001B[0;32mclass\u001B[0m \u001B[0mHTTPRedirectHandler\u001B[0m\u001B[0;34m(\u001B[0m\u001B[0mBaseHandler\u001B[0m\u001B[0;34m)\u001B[0m\u001B[0;34m:\u001B[0m\u001B[0;34m\u001B[0m\u001B[0;34m\u001B[0m\u001B[0m\n",
      "\u001B[0;31mHTTPError\u001B[0m: HTTP Error 404: Not Found"
     ]
    }
   ],
   "source": [
    "from textblob import TextBlob\n",
    "text = \"это компьютерный портал для гиков. It was a beautiful day .\"\n",
    "lang = TextBlob(text)\n",
    "print(lang.detect_language())"
   ],
   "metadata": {
    "collapsed": false,
    "pycharm": {
     "name": "#%%\n"
    }
   }
  },
  {
   "cell_type": "code",
   "execution_count": null,
   "outputs": [],
   "source": [
    "# Change code in:\n",
    "# /opt/anaconda3/lib/python3.9/site-packages/textblob/translate.py\n",
    "# Code change found at: https://github.com/sloria/TextBlob/commit/c2ad49f292b58133a87af0e38ee4cdbc0655378b"
   ],
   "metadata": {
    "collapsed": false,
    "pycharm": {
     "name": "#%%\n"
    }
   }
  },
  {
   "cell_type": "code",
   "execution_count": 1,
   "outputs": [
    {
     "ename": "HTTPError",
     "evalue": "HTTP Error 400: Bad Request",
     "output_type": "error",
     "traceback": [
      "\u001B[0;31m---------------------------------------------------------------------------\u001B[0m",
      "\u001B[0;31mHTTPError\u001B[0m                                 Traceback (most recent call last)",
      "\u001B[0;32m<ipython-input-1-56ad4259edbe>\u001B[0m in \u001B[0;36m<module>\u001B[0;34m\u001B[0m\n\u001B[1;32m      2\u001B[0m \u001B[0mtext\u001B[0m \u001B[0;34m=\u001B[0m \u001B[0;34m\"это компьютерный портал для гиков. It was a beautiful day .\"\u001B[0m\u001B[0;34m\u001B[0m\u001B[0;34m\u001B[0m\u001B[0m\n\u001B[1;32m      3\u001B[0m \u001B[0mlang\u001B[0m \u001B[0;34m=\u001B[0m \u001B[0mTextBlob\u001B[0m\u001B[0;34m(\u001B[0m\u001B[0mtext\u001B[0m\u001B[0;34m)\u001B[0m\u001B[0;34m\u001B[0m\u001B[0;34m\u001B[0m\u001B[0m\n\u001B[0;32m----> 4\u001B[0;31m \u001B[0mprint\u001B[0m\u001B[0;34m(\u001B[0m\u001B[0mlang\u001B[0m\u001B[0;34m.\u001B[0m\u001B[0mdetect_language\u001B[0m\u001B[0;34m(\u001B[0m\u001B[0;34m)\u001B[0m\u001B[0;34m)\u001B[0m\u001B[0;34m\u001B[0m\u001B[0;34m\u001B[0m\u001B[0m\n\u001B[0m",
      "\u001B[0;32m~/opt/anaconda3/lib/python3.8/site-packages/textblob/blob.py\u001B[0m in \u001B[0;36mdetect_language\u001B[0;34m(self)\u001B[0m\n\u001B[1;32m    566\u001B[0m         \u001B[0;34m:\u001B[0m\u001B[0mrtype\u001B[0m\u001B[0;34m:\u001B[0m \u001B[0mstr\u001B[0m\u001B[0;34m\u001B[0m\u001B[0;34m\u001B[0m\u001B[0m\n\u001B[1;32m    567\u001B[0m         \"\"\"\n\u001B[0;32m--> 568\u001B[0;31m         \u001B[0;32mreturn\u001B[0m \u001B[0mself\u001B[0m\u001B[0;34m.\u001B[0m\u001B[0mtranslator\u001B[0m\u001B[0;34m.\u001B[0m\u001B[0mdetect\u001B[0m\u001B[0;34m(\u001B[0m\u001B[0mself\u001B[0m\u001B[0;34m.\u001B[0m\u001B[0mraw\u001B[0m\u001B[0;34m)\u001B[0m\u001B[0;34m\u001B[0m\u001B[0;34m\u001B[0m\u001B[0m\n\u001B[0m\u001B[1;32m    569\u001B[0m \u001B[0;34m\u001B[0m\u001B[0m\n\u001B[1;32m    570\u001B[0m     \u001B[0;32mdef\u001B[0m \u001B[0mcorrect\u001B[0m\u001B[0;34m(\u001B[0m\u001B[0mself\u001B[0m\u001B[0;34m)\u001B[0m\u001B[0;34m:\u001B[0m\u001B[0;34m\u001B[0m\u001B[0;34m\u001B[0m\u001B[0m\n",
      "\u001B[0;32m~/opt/anaconda3/lib/python3.8/site-packages/textblob/translate.py\u001B[0m in \u001B[0;36mdetect\u001B[0;34m(self, source, host, type_)\u001B[0m\n\u001B[1;32m     74\u001B[0m             \u001B[0mclient\u001B[0m\u001B[0;34m=\u001B[0m\u001B[0;34m\"te\"\u001B[0m\u001B[0;34m,\u001B[0m\u001B[0;34m\u001B[0m\u001B[0;34m\u001B[0m\u001B[0m\n\u001B[1;32m     75\u001B[0m         )\n\u001B[0;32m---> 76\u001B[0;31m         \u001B[0mresponse\u001B[0m \u001B[0;34m=\u001B[0m \u001B[0mself\u001B[0m\u001B[0;34m.\u001B[0m\u001B[0m_request\u001B[0m\u001B[0;34m(\u001B[0m\u001B[0murl\u001B[0m\u001B[0;34m,\u001B[0m \u001B[0mhost\u001B[0m\u001B[0;34m=\u001B[0m\u001B[0mhost\u001B[0m\u001B[0;34m,\u001B[0m \u001B[0mtype_\u001B[0m\u001B[0;34m=\u001B[0m\u001B[0mtype_\u001B[0m\u001B[0;34m,\u001B[0m \u001B[0mdata\u001B[0m\u001B[0;34m=\u001B[0m\u001B[0mdata\u001B[0m\u001B[0;34m)\u001B[0m\u001B[0;34m\u001B[0m\u001B[0;34m\u001B[0m\u001B[0m\n\u001B[0m\u001B[1;32m     77\u001B[0m         \u001B[0mresult\u001B[0m\u001B[0;34m,\u001B[0m \u001B[0mlanguage\u001B[0m \u001B[0;34m=\u001B[0m \u001B[0mjson\u001B[0m\u001B[0;34m.\u001B[0m\u001B[0mloads\u001B[0m\u001B[0;34m(\u001B[0m\u001B[0mresponse\u001B[0m\u001B[0;34m)\u001B[0m\u001B[0;34m\u001B[0m\u001B[0;34m\u001B[0m\u001B[0m\n\u001B[1;32m     78\u001B[0m         \u001B[0;32mreturn\u001B[0m \u001B[0mlanguage\u001B[0m\u001B[0;34m\u001B[0m\u001B[0;34m\u001B[0m\u001B[0m\n",
      "\u001B[0;32m~/opt/anaconda3/lib/python3.8/site-packages/textblob/translate.py\u001B[0m in \u001B[0;36m_request\u001B[0;34m(self, url, host, type_, data)\u001B[0m\n\u001B[1;32m     94\u001B[0m         \u001B[0;32mif\u001B[0m \u001B[0mhost\u001B[0m \u001B[0;32mor\u001B[0m \u001B[0mtype_\u001B[0m\u001B[0;34m:\u001B[0m\u001B[0;34m\u001B[0m\u001B[0;34m\u001B[0m\u001B[0m\n\u001B[1;32m     95\u001B[0m             \u001B[0mreq\u001B[0m\u001B[0;34m.\u001B[0m\u001B[0mset_proxy\u001B[0m\u001B[0;34m(\u001B[0m\u001B[0mhost\u001B[0m\u001B[0;34m=\u001B[0m\u001B[0mhost\u001B[0m\u001B[0;34m,\u001B[0m \u001B[0mtype\u001B[0m\u001B[0;34m=\u001B[0m\u001B[0mtype_\u001B[0m\u001B[0;34m)\u001B[0m\u001B[0;34m\u001B[0m\u001B[0;34m\u001B[0m\u001B[0m\n\u001B[0;32m---> 96\u001B[0;31m         \u001B[0mresp\u001B[0m \u001B[0;34m=\u001B[0m \u001B[0mrequest\u001B[0m\u001B[0;34m.\u001B[0m\u001B[0murlopen\u001B[0m\u001B[0;34m(\u001B[0m\u001B[0mreq\u001B[0m\u001B[0;34m)\u001B[0m\u001B[0;34m\u001B[0m\u001B[0;34m\u001B[0m\u001B[0m\n\u001B[0m\u001B[1;32m     97\u001B[0m         \u001B[0mcontent\u001B[0m \u001B[0;34m=\u001B[0m \u001B[0mresp\u001B[0m\u001B[0;34m.\u001B[0m\u001B[0mread\u001B[0m\u001B[0;34m(\u001B[0m\u001B[0;34m)\u001B[0m\u001B[0;34m\u001B[0m\u001B[0;34m\u001B[0m\u001B[0m\n\u001B[1;32m     98\u001B[0m         \u001B[0;32mreturn\u001B[0m \u001B[0mcontent\u001B[0m\u001B[0;34m.\u001B[0m\u001B[0mdecode\u001B[0m\u001B[0;34m(\u001B[0m\u001B[0;34m'utf-8'\u001B[0m\u001B[0;34m)\u001B[0m\u001B[0;34m\u001B[0m\u001B[0;34m\u001B[0m\u001B[0m\n",
      "\u001B[0;32m~/opt/anaconda3/lib/python3.8/urllib/request.py\u001B[0m in \u001B[0;36murlopen\u001B[0;34m(url, data, timeout, cafile, capath, cadefault, context)\u001B[0m\n\u001B[1;32m    220\u001B[0m     \u001B[0;32melse\u001B[0m\u001B[0;34m:\u001B[0m\u001B[0;34m\u001B[0m\u001B[0;34m\u001B[0m\u001B[0m\n\u001B[1;32m    221\u001B[0m         \u001B[0mopener\u001B[0m \u001B[0;34m=\u001B[0m \u001B[0m_opener\u001B[0m\u001B[0;34m\u001B[0m\u001B[0;34m\u001B[0m\u001B[0m\n\u001B[0;32m--> 222\u001B[0;31m     \u001B[0;32mreturn\u001B[0m \u001B[0mopener\u001B[0m\u001B[0;34m.\u001B[0m\u001B[0mopen\u001B[0m\u001B[0;34m(\u001B[0m\u001B[0murl\u001B[0m\u001B[0;34m,\u001B[0m \u001B[0mdata\u001B[0m\u001B[0;34m,\u001B[0m \u001B[0mtimeout\u001B[0m\u001B[0;34m)\u001B[0m\u001B[0;34m\u001B[0m\u001B[0;34m\u001B[0m\u001B[0m\n\u001B[0m\u001B[1;32m    223\u001B[0m \u001B[0;34m\u001B[0m\u001B[0m\n\u001B[1;32m    224\u001B[0m \u001B[0;32mdef\u001B[0m \u001B[0minstall_opener\u001B[0m\u001B[0;34m(\u001B[0m\u001B[0mopener\u001B[0m\u001B[0;34m)\u001B[0m\u001B[0;34m:\u001B[0m\u001B[0;34m\u001B[0m\u001B[0;34m\u001B[0m\u001B[0m\n",
      "\u001B[0;32m~/opt/anaconda3/lib/python3.8/urllib/request.py\u001B[0m in \u001B[0;36mopen\u001B[0;34m(self, fullurl, data, timeout)\u001B[0m\n\u001B[1;32m    529\u001B[0m         \u001B[0;32mfor\u001B[0m \u001B[0mprocessor\u001B[0m \u001B[0;32min\u001B[0m \u001B[0mself\u001B[0m\u001B[0;34m.\u001B[0m\u001B[0mprocess_response\u001B[0m\u001B[0;34m.\u001B[0m\u001B[0mget\u001B[0m\u001B[0;34m(\u001B[0m\u001B[0mprotocol\u001B[0m\u001B[0;34m,\u001B[0m \u001B[0;34m[\u001B[0m\u001B[0;34m]\u001B[0m\u001B[0;34m)\u001B[0m\u001B[0;34m:\u001B[0m\u001B[0;34m\u001B[0m\u001B[0;34m\u001B[0m\u001B[0m\n\u001B[1;32m    530\u001B[0m             \u001B[0mmeth\u001B[0m \u001B[0;34m=\u001B[0m \u001B[0mgetattr\u001B[0m\u001B[0;34m(\u001B[0m\u001B[0mprocessor\u001B[0m\u001B[0;34m,\u001B[0m \u001B[0mmeth_name\u001B[0m\u001B[0;34m)\u001B[0m\u001B[0;34m\u001B[0m\u001B[0;34m\u001B[0m\u001B[0m\n\u001B[0;32m--> 531\u001B[0;31m             \u001B[0mresponse\u001B[0m \u001B[0;34m=\u001B[0m \u001B[0mmeth\u001B[0m\u001B[0;34m(\u001B[0m\u001B[0mreq\u001B[0m\u001B[0;34m,\u001B[0m \u001B[0mresponse\u001B[0m\u001B[0;34m)\u001B[0m\u001B[0;34m\u001B[0m\u001B[0;34m\u001B[0m\u001B[0m\n\u001B[0m\u001B[1;32m    532\u001B[0m \u001B[0;34m\u001B[0m\u001B[0m\n\u001B[1;32m    533\u001B[0m         \u001B[0;32mreturn\u001B[0m \u001B[0mresponse\u001B[0m\u001B[0;34m\u001B[0m\u001B[0;34m\u001B[0m\u001B[0m\n",
      "\u001B[0;32m~/opt/anaconda3/lib/python3.8/urllib/request.py\u001B[0m in \u001B[0;36mhttp_response\u001B[0;34m(self, request, response)\u001B[0m\n\u001B[1;32m    638\u001B[0m         \u001B[0;31m# request was successfully received, understood, and accepted.\u001B[0m\u001B[0;34m\u001B[0m\u001B[0;34m\u001B[0m\u001B[0;34m\u001B[0m\u001B[0m\n\u001B[1;32m    639\u001B[0m         \u001B[0;32mif\u001B[0m \u001B[0;32mnot\u001B[0m \u001B[0;34m(\u001B[0m\u001B[0;36m200\u001B[0m \u001B[0;34m<=\u001B[0m \u001B[0mcode\u001B[0m \u001B[0;34m<\u001B[0m \u001B[0;36m300\u001B[0m\u001B[0;34m)\u001B[0m\u001B[0;34m:\u001B[0m\u001B[0;34m\u001B[0m\u001B[0;34m\u001B[0m\u001B[0m\n\u001B[0;32m--> 640\u001B[0;31m             response = self.parent.error(\n\u001B[0m\u001B[1;32m    641\u001B[0m                 'http', request, response, code, msg, hdrs)\n\u001B[1;32m    642\u001B[0m \u001B[0;34m\u001B[0m\u001B[0m\n",
      "\u001B[0;32m~/opt/anaconda3/lib/python3.8/urllib/request.py\u001B[0m in \u001B[0;36merror\u001B[0;34m(self, proto, *args)\u001B[0m\n\u001B[1;32m    567\u001B[0m         \u001B[0;32mif\u001B[0m \u001B[0mhttp_err\u001B[0m\u001B[0;34m:\u001B[0m\u001B[0;34m\u001B[0m\u001B[0;34m\u001B[0m\u001B[0m\n\u001B[1;32m    568\u001B[0m             \u001B[0margs\u001B[0m \u001B[0;34m=\u001B[0m \u001B[0;34m(\u001B[0m\u001B[0mdict\u001B[0m\u001B[0;34m,\u001B[0m \u001B[0;34m'default'\u001B[0m\u001B[0;34m,\u001B[0m \u001B[0;34m'http_error_default'\u001B[0m\u001B[0;34m)\u001B[0m \u001B[0;34m+\u001B[0m \u001B[0morig_args\u001B[0m\u001B[0;34m\u001B[0m\u001B[0;34m\u001B[0m\u001B[0m\n\u001B[0;32m--> 569\u001B[0;31m             \u001B[0;32mreturn\u001B[0m \u001B[0mself\u001B[0m\u001B[0;34m.\u001B[0m\u001B[0m_call_chain\u001B[0m\u001B[0;34m(\u001B[0m\u001B[0;34m*\u001B[0m\u001B[0margs\u001B[0m\u001B[0;34m)\u001B[0m\u001B[0;34m\u001B[0m\u001B[0;34m\u001B[0m\u001B[0m\n\u001B[0m\u001B[1;32m    570\u001B[0m \u001B[0;34m\u001B[0m\u001B[0m\n\u001B[1;32m    571\u001B[0m \u001B[0;31m# XXX probably also want an abstract factory that knows when it makes\u001B[0m\u001B[0;34m\u001B[0m\u001B[0;34m\u001B[0m\u001B[0;34m\u001B[0m\u001B[0m\n",
      "\u001B[0;32m~/opt/anaconda3/lib/python3.8/urllib/request.py\u001B[0m in \u001B[0;36m_call_chain\u001B[0;34m(self, chain, kind, meth_name, *args)\u001B[0m\n\u001B[1;32m    500\u001B[0m         \u001B[0;32mfor\u001B[0m \u001B[0mhandler\u001B[0m \u001B[0;32min\u001B[0m \u001B[0mhandlers\u001B[0m\u001B[0;34m:\u001B[0m\u001B[0;34m\u001B[0m\u001B[0;34m\u001B[0m\u001B[0m\n\u001B[1;32m    501\u001B[0m             \u001B[0mfunc\u001B[0m \u001B[0;34m=\u001B[0m \u001B[0mgetattr\u001B[0m\u001B[0;34m(\u001B[0m\u001B[0mhandler\u001B[0m\u001B[0;34m,\u001B[0m \u001B[0mmeth_name\u001B[0m\u001B[0;34m)\u001B[0m\u001B[0;34m\u001B[0m\u001B[0;34m\u001B[0m\u001B[0m\n\u001B[0;32m--> 502\u001B[0;31m             \u001B[0mresult\u001B[0m \u001B[0;34m=\u001B[0m \u001B[0mfunc\u001B[0m\u001B[0;34m(\u001B[0m\u001B[0;34m*\u001B[0m\u001B[0margs\u001B[0m\u001B[0;34m)\u001B[0m\u001B[0;34m\u001B[0m\u001B[0;34m\u001B[0m\u001B[0m\n\u001B[0m\u001B[1;32m    503\u001B[0m             \u001B[0;32mif\u001B[0m \u001B[0mresult\u001B[0m \u001B[0;32mis\u001B[0m \u001B[0;32mnot\u001B[0m \u001B[0;32mNone\u001B[0m\u001B[0;34m:\u001B[0m\u001B[0;34m\u001B[0m\u001B[0;34m\u001B[0m\u001B[0m\n\u001B[1;32m    504\u001B[0m                 \u001B[0;32mreturn\u001B[0m \u001B[0mresult\u001B[0m\u001B[0;34m\u001B[0m\u001B[0;34m\u001B[0m\u001B[0m\n",
      "\u001B[0;32m~/opt/anaconda3/lib/python3.8/urllib/request.py\u001B[0m in \u001B[0;36mhttp_error_default\u001B[0;34m(self, req, fp, code, msg, hdrs)\u001B[0m\n\u001B[1;32m    647\u001B[0m \u001B[0;32mclass\u001B[0m \u001B[0mHTTPDefaultErrorHandler\u001B[0m\u001B[0;34m(\u001B[0m\u001B[0mBaseHandler\u001B[0m\u001B[0;34m)\u001B[0m\u001B[0;34m:\u001B[0m\u001B[0;34m\u001B[0m\u001B[0;34m\u001B[0m\u001B[0m\n\u001B[1;32m    648\u001B[0m     \u001B[0;32mdef\u001B[0m \u001B[0mhttp_error_default\u001B[0m\u001B[0;34m(\u001B[0m\u001B[0mself\u001B[0m\u001B[0;34m,\u001B[0m \u001B[0mreq\u001B[0m\u001B[0;34m,\u001B[0m \u001B[0mfp\u001B[0m\u001B[0;34m,\u001B[0m \u001B[0mcode\u001B[0m\u001B[0;34m,\u001B[0m \u001B[0mmsg\u001B[0m\u001B[0;34m,\u001B[0m \u001B[0mhdrs\u001B[0m\u001B[0;34m)\u001B[0m\u001B[0;34m:\u001B[0m\u001B[0;34m\u001B[0m\u001B[0;34m\u001B[0m\u001B[0m\n\u001B[0;32m--> 649\u001B[0;31m         \u001B[0;32mraise\u001B[0m \u001B[0mHTTPError\u001B[0m\u001B[0;34m(\u001B[0m\u001B[0mreq\u001B[0m\u001B[0;34m.\u001B[0m\u001B[0mfull_url\u001B[0m\u001B[0;34m,\u001B[0m \u001B[0mcode\u001B[0m\u001B[0;34m,\u001B[0m \u001B[0mmsg\u001B[0m\u001B[0;34m,\u001B[0m \u001B[0mhdrs\u001B[0m\u001B[0;34m,\u001B[0m \u001B[0mfp\u001B[0m\u001B[0;34m)\u001B[0m\u001B[0;34m\u001B[0m\u001B[0;34m\u001B[0m\u001B[0m\n\u001B[0m\u001B[1;32m    650\u001B[0m \u001B[0;34m\u001B[0m\u001B[0m\n\u001B[1;32m    651\u001B[0m \u001B[0;32mclass\u001B[0m \u001B[0mHTTPRedirectHandler\u001B[0m\u001B[0;34m(\u001B[0m\u001B[0mBaseHandler\u001B[0m\u001B[0;34m)\u001B[0m\u001B[0;34m:\u001B[0m\u001B[0;34m\u001B[0m\u001B[0;34m\u001B[0m\u001B[0m\n",
      "\u001B[0;31mHTTPError\u001B[0m: HTTP Error 400: Bad Request"
     ]
    }
   ],
   "source": [
    "from textblob import TextBlob\n",
    "text = \"это компьютерный портал для гиков. It was a beautiful day .\"\n",
    "lang = TextBlob(text)\n",
    "print(lang.detect_language())"
   ],
   "metadata": {
    "collapsed": false,
    "pycharm": {
     "name": "#%%\n"
    }
   }
  },
  {
   "cell_type": "markdown",
   "source": [
    "Welllll dang it.  That didn't work. Going to restart the kernel and see if that helps?"
   ],
   "metadata": {
    "collapsed": false,
    "pycharm": {
     "name": "#%% md\n"
    }
   }
  },
  {
   "cell_type": "code",
   "execution_count": null,
   "outputs": [],
   "source": [],
   "metadata": {
    "collapsed": false,
    "pycharm": {
     "name": "#%%\n"
    }
   }
  }
 ],
 "metadata": {
  "kernelspec": {
   "display_name": "Python 3",
   "language": "python",
   "name": "python3"
  },
  "language_info": {
   "codemirror_mode": {
    "name": "ipython",
    "version": 2
   },
   "file_extension": ".py",
   "mimetype": "text/x-python",
   "name": "python",
   "nbconvert_exporter": "python",
   "pygments_lexer": "ipython2",
   "version": "2.7.6"
  }
 },
 "nbformat": 4,
 "nbformat_minor": 0
}