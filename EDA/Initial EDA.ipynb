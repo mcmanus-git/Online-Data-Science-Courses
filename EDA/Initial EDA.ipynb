{
 "cells": [
  {
   "cell_type": "code",
   "execution_count": 1,
   "metadata": {
    "collapsed": true
   },
   "outputs": [],
   "source": [
    "import pandas as pd"
   ]
  },
  {
   "cell_type": "code",
   "execution_count": 2,
   "outputs": [
    {
     "data": {
      "text/plain": "      Unnamed: 0                                              title  \\\n0              0                  Машинное обучение и анализ данных   \n1              1  Introducción a la Especialización en Ciencia d...   \n2              2               Getting Started with SAS Programming   \n3              3        Introduction to Designing Data Lakes on AWS   \n4              4  Estatística não-paramétrica para a tomada de d...   \n...          ...                                                ...   \n4678        4678  Diploma in Neural Networks in Python - Deep Le...   \n4679        4679  Data Visualization In Power BI - Master The Vi...   \n4680        4680                    Learn Power BI DAX from scratch   \n4681        4681                               Python For Beginners   \n4682        4682  Artificial Intelligence for Healthcare: Opport...   \n\n                                          author  rating  votes_count  \\\n0     Moscow Institute of Physics and Technology     4.7       6382.0   \n1                                            IBM     4.6        116.0   \n2                                            SAS     4.8       2083.0   \n3                            Amazon Web Services     4.7         65.0   \n4                      Universidade de São Paulo     4.4        109.0   \n...                                          ...     ...          ...   \n4678                          Start-Tech Academy     NaN          NaN   \n4679                                 Ayush Kumar     0.0          0.0   \n4680                               Muhammad Asif     4.0          3.0   \n4681                                Sara Al-Arab     4.0         70.0   \n4682                   Taipei Medical University     4.6         22.0   \n\n      students_count         level    duration     platform   free  \n0           100000.0  Intermediate  224.000000     Coursera  False  \n1             3400.0      Beginner   48.000000     Coursera  False  \n2            67000.0      Beginner   22.000000     Coursera  False  \n3             6100.0  Intermediate   14.000000     Coursera  False  \n4             9300.0  Intermediate   13.000000     Coursera  False  \n...              ...           ...         ...          ...    ...  \n4678           690.0         Mixed    8.000000       Alison  False  \n4679           219.0         Mixed    2.639167   Skillshare   True  \n4680            93.0         Mixed    1.672778   Skillshare   True  \n4681            83.0      Beginner    2.963056   Skillshare   True  \n4682          7437.0         Mixed    4.000000  FutureLearn   True  \n\n[4683 rows x 10 columns]",
      "text/html": "<div>\n<style scoped>\n    .dataframe tbody tr th:only-of-type {\n        vertical-align: middle;\n    }\n\n    .dataframe tbody tr th {\n        vertical-align: top;\n    }\n\n    .dataframe thead th {\n        text-align: right;\n    }\n</style>\n<table border=\"1\" class=\"dataframe\">\n  <thead>\n    <tr style=\"text-align: right;\">\n      <th></th>\n      <th>Unnamed: 0</th>\n      <th>title</th>\n      <th>author</th>\n      <th>rating</th>\n      <th>votes_count</th>\n      <th>students_count</th>\n      <th>level</th>\n      <th>duration</th>\n      <th>platform</th>\n      <th>free</th>\n    </tr>\n  </thead>\n  <tbody>\n    <tr>\n      <th>0</th>\n      <td>0</td>\n      <td>Машинное обучение и анализ данных</td>\n      <td>Moscow Institute of Physics and Technology</td>\n      <td>4.7</td>\n      <td>6382.0</td>\n      <td>100000.0</td>\n      <td>Intermediate</td>\n      <td>224.000000</td>\n      <td>Coursera</td>\n      <td>False</td>\n    </tr>\n    <tr>\n      <th>1</th>\n      <td>1</td>\n      <td>Introducción a la Especialización en Ciencia d...</td>\n      <td>IBM</td>\n      <td>4.6</td>\n      <td>116.0</td>\n      <td>3400.0</td>\n      <td>Beginner</td>\n      <td>48.000000</td>\n      <td>Coursera</td>\n      <td>False</td>\n    </tr>\n    <tr>\n      <th>2</th>\n      <td>2</td>\n      <td>Getting Started with SAS Programming</td>\n      <td>SAS</td>\n      <td>4.8</td>\n      <td>2083.0</td>\n      <td>67000.0</td>\n      <td>Beginner</td>\n      <td>22.000000</td>\n      <td>Coursera</td>\n      <td>False</td>\n    </tr>\n    <tr>\n      <th>3</th>\n      <td>3</td>\n      <td>Introduction to Designing Data Lakes on AWS</td>\n      <td>Amazon Web Services</td>\n      <td>4.7</td>\n      <td>65.0</td>\n      <td>6100.0</td>\n      <td>Intermediate</td>\n      <td>14.000000</td>\n      <td>Coursera</td>\n      <td>False</td>\n    </tr>\n    <tr>\n      <th>4</th>\n      <td>4</td>\n      <td>Estatística não-paramétrica para a tomada de d...</td>\n      <td>Universidade de São Paulo</td>\n      <td>4.4</td>\n      <td>109.0</td>\n      <td>9300.0</td>\n      <td>Intermediate</td>\n      <td>13.000000</td>\n      <td>Coursera</td>\n      <td>False</td>\n    </tr>\n    <tr>\n      <th>...</th>\n      <td>...</td>\n      <td>...</td>\n      <td>...</td>\n      <td>...</td>\n      <td>...</td>\n      <td>...</td>\n      <td>...</td>\n      <td>...</td>\n      <td>...</td>\n      <td>...</td>\n    </tr>\n    <tr>\n      <th>4678</th>\n      <td>4678</td>\n      <td>Diploma in Neural Networks in Python - Deep Le...</td>\n      <td>Start-Tech Academy</td>\n      <td>NaN</td>\n      <td>NaN</td>\n      <td>690.0</td>\n      <td>Mixed</td>\n      <td>8.000000</td>\n      <td>Alison</td>\n      <td>False</td>\n    </tr>\n    <tr>\n      <th>4679</th>\n      <td>4679</td>\n      <td>Data Visualization In Power BI - Master The Vi...</td>\n      <td>Ayush Kumar</td>\n      <td>0.0</td>\n      <td>0.0</td>\n      <td>219.0</td>\n      <td>Mixed</td>\n      <td>2.639167</td>\n      <td>Skillshare</td>\n      <td>True</td>\n    </tr>\n    <tr>\n      <th>4680</th>\n      <td>4680</td>\n      <td>Learn Power BI DAX from scratch</td>\n      <td>Muhammad Asif</td>\n      <td>4.0</td>\n      <td>3.0</td>\n      <td>93.0</td>\n      <td>Mixed</td>\n      <td>1.672778</td>\n      <td>Skillshare</td>\n      <td>True</td>\n    </tr>\n    <tr>\n      <th>4681</th>\n      <td>4681</td>\n      <td>Python For Beginners</td>\n      <td>Sara Al-Arab</td>\n      <td>4.0</td>\n      <td>70.0</td>\n      <td>83.0</td>\n      <td>Beginner</td>\n      <td>2.963056</td>\n      <td>Skillshare</td>\n      <td>True</td>\n    </tr>\n    <tr>\n      <th>4682</th>\n      <td>4682</td>\n      <td>Artificial Intelligence for Healthcare: Opport...</td>\n      <td>Taipei Medical University</td>\n      <td>4.6</td>\n      <td>22.0</td>\n      <td>7437.0</td>\n      <td>Mixed</td>\n      <td>4.000000</td>\n      <td>FutureLearn</td>\n      <td>True</td>\n    </tr>\n  </tbody>\n</table>\n<p>4683 rows × 10 columns</p>\n</div>"
     },
     "execution_count": 2,
     "metadata": {},
     "output_type": "execute_result"
    }
   ],
   "source": [
    "df = pd.read_csv('../data/dataframe.csv')\n",
    "df"
   ],
   "metadata": {
    "collapsed": false,
    "pycharm": {
     "name": "#%%\n"
    }
   }
  },
  {
   "cell_type": "code",
   "execution_count": 3,
   "outputs": [
    {
     "data": {
      "text/plain": "Udemy          2072\nSkillshare     1000\nCoursera        996\nedX             326\nPluralsight     174\nFutureLearn      75\nAlison           28\nStepik           12\nName: platform, dtype: int64"
     },
     "execution_count": 3,
     "metadata": {},
     "output_type": "execute_result"
    }
   ],
   "source": [
    "df['platform'].value_counts()"
   ],
   "metadata": {
    "collapsed": false,
    "pycharm": {
     "name": "#%%\n"
    }
   }
  },
  {
   "cell_type": "code",
   "execution_count": 4,
   "outputs": [
    {
     "data": {
      "text/plain": "platform     rating\nSkillshare   0.0       410\nUdemy        4.6       210\n             4.5       189\n             4.4       180\nCoursera     4.6       170\n                      ... \nStepik       4.6         1\nPluralsight  2.0         1\n             3.0         1\nSkillshare   1.4         1\nCoursera     1.9         1\nLength: 105, dtype: int64"
     },
     "execution_count": 4,
     "metadata": {},
     "output_type": "execute_result"
    }
   ],
   "source": [
    "df.value_counts(['platform', 'rating'])"
   ],
   "metadata": {
    "collapsed": false,
    "pycharm": {
     "name": "#%%\n"
    }
   }
  },
  {
   "cell_type": "markdown",
   "source": [
    "Woah! Skillshare needs to step up their game haha!"
   ],
   "metadata": {
    "collapsed": false,
    "pycharm": {
     "name": "#%% md\n"
    }
   }
  },
  {
   "cell_type": "code",
   "execution_count": 9,
   "outputs": [
    {
     "data": {
      "text/plain": "             mean_rating\nplatform                \nStepik          4.810000\nCoursera        4.490303\nFutureLearn     4.437143\nPluralsight     4.366279\nUdemy           3.968436\nSkillshare      1.913900\nedX                  NaN\nAlison               NaN",
      "text/html": "<div>\n<style scoped>\n    .dataframe tbody tr th:only-of-type {\n        vertical-align: middle;\n    }\n\n    .dataframe tbody tr th {\n        vertical-align: top;\n    }\n\n    .dataframe thead th {\n        text-align: right;\n    }\n</style>\n<table border=\"1\" class=\"dataframe\">\n  <thead>\n    <tr style=\"text-align: right;\">\n      <th></th>\n      <th>mean_rating</th>\n    </tr>\n    <tr>\n      <th>platform</th>\n      <th></th>\n    </tr>\n  </thead>\n  <tbody>\n    <tr>\n      <th>Stepik</th>\n      <td>4.810000</td>\n    </tr>\n    <tr>\n      <th>Coursera</th>\n      <td>4.490303</td>\n    </tr>\n    <tr>\n      <th>FutureLearn</th>\n      <td>4.437143</td>\n    </tr>\n    <tr>\n      <th>Pluralsight</th>\n      <td>4.366279</td>\n    </tr>\n    <tr>\n      <th>Udemy</th>\n      <td>3.968436</td>\n    </tr>\n    <tr>\n      <th>Skillshare</th>\n      <td>1.913900</td>\n    </tr>\n    <tr>\n      <th>edX</th>\n      <td>NaN</td>\n    </tr>\n    <tr>\n      <th>Alison</th>\n      <td>NaN</td>\n    </tr>\n  </tbody>\n</table>\n</div>"
     },
     "execution_count": 9,
     "metadata": {},
     "output_type": "execute_result"
    }
   ],
   "source": [
    "# df.groupby('platform').mean()['rating'].sort_values(ascending=False)\n",
    "df.groupby('platform', sort=False).agg(mean_rating=pd.NamedAgg(column='rating', aggfunc='mean')).sort_values('mean_rating', ascending=False)"
   ],
   "metadata": {
    "collapsed": false,
    "pycharm": {
     "name": "#%%\n"
    }
   }
  },
  {
   "cell_type": "code",
   "execution_count": 10,
   "outputs": [
    {
     "data": {
      "text/plain": "1566"
     },
     "execution_count": 10,
     "metadata": {},
     "output_type": "execute_result"
    }
   ],
   "source": [
    "len(df['author'].unique())"
   ],
   "metadata": {
    "collapsed": false,
    "pycharm": {
     "name": "#%%\n"
    }
   }
  },
  {
   "cell_type": "code",
   "execution_count": 12,
   "outputs": [
    {
     "data": {
      "text/plain": "                               avg_rating_by_author\nauthor                                             \nStepik Academy                                  5.0\nAdith Sreeram                                   5.0\nCharles Santana                                 5.0\nMirco Baragiani                                 5.0\nSandro Servino                                  5.0\n...                                             ...\nWharton                                         NaN\nWitsX                                           NaN\nWorkforce Academy Partnership                   NaN\nYouAccel Training                               NaN\nlogycaX                                         NaN\n\n[1565 rows x 1 columns]",
      "text/html": "<div>\n<style scoped>\n    .dataframe tbody tr th:only-of-type {\n        vertical-align: middle;\n    }\n\n    .dataframe tbody tr th {\n        vertical-align: top;\n    }\n\n    .dataframe thead th {\n        text-align: right;\n    }\n</style>\n<table border=\"1\" class=\"dataframe\">\n  <thead>\n    <tr style=\"text-align: right;\">\n      <th></th>\n      <th>avg_rating_by_author</th>\n    </tr>\n    <tr>\n      <th>author</th>\n      <th></th>\n    </tr>\n  </thead>\n  <tbody>\n    <tr>\n      <th>Stepik Academy</th>\n      <td>5.0</td>\n    </tr>\n    <tr>\n      <th>Adith Sreeram</th>\n      <td>5.0</td>\n    </tr>\n    <tr>\n      <th>Charles Santana</th>\n      <td>5.0</td>\n    </tr>\n    <tr>\n      <th>Mirco Baragiani</th>\n      <td>5.0</td>\n    </tr>\n    <tr>\n      <th>Sandro Servino</th>\n      <td>5.0</td>\n    </tr>\n    <tr>\n      <th>...</th>\n      <td>...</td>\n    </tr>\n    <tr>\n      <th>Wharton</th>\n      <td>NaN</td>\n    </tr>\n    <tr>\n      <th>WitsX</th>\n      <td>NaN</td>\n    </tr>\n    <tr>\n      <th>Workforce Academy Partnership</th>\n      <td>NaN</td>\n    </tr>\n    <tr>\n      <th>YouAccel Training</th>\n      <td>NaN</td>\n    </tr>\n    <tr>\n      <th>logycaX</th>\n      <td>NaN</td>\n    </tr>\n  </tbody>\n</table>\n<p>1565 rows × 1 columns</p>\n</div>"
     },
     "execution_count": 12,
     "metadata": {},
     "output_type": "execute_result"
    }
   ],
   "source": [
    "df.groupby('author').agg(avg_rating_by_author=pd.NamedAgg(column='rating', aggfunc='mean')).sort_values('avg_rating_by_author', ascending=False)"
   ],
   "metadata": {
    "collapsed": false,
    "pycharm": {
     "name": "#%%\n"
    }
   }
  },
  {
   "cell_type": "code",
   "execution_count": 17,
   "outputs": [
    {
     "data": {
      "text/plain": "                                           avg_rating_by_author_platform\nauthor                        platform                                  \nMichael Bunting               Udemy                                  5.0\nVishwesh Singh                Udemy                                  5.0\nChris Achard                  Pluralsight                            5.0\nCharles Santana               Udemy                                  5.0\nMirco Baragiani               Udemy                                  5.0\n...                                                                  ...\nWharton                       edX                                    NaN\nWitsX                         edX                                    NaN\nWorkforce Academy Partnership Alison                                 NaN\nYouAccel Training             Alison                                 NaN\nlogycaX                       edX                                    NaN\n\n[1636 rows x 1 columns]",
      "text/html": "<div>\n<style scoped>\n    .dataframe tbody tr th:only-of-type {\n        vertical-align: middle;\n    }\n\n    .dataframe tbody tr th {\n        vertical-align: top;\n    }\n\n    .dataframe thead th {\n        text-align: right;\n    }\n</style>\n<table border=\"1\" class=\"dataframe\">\n  <thead>\n    <tr style=\"text-align: right;\">\n      <th></th>\n      <th></th>\n      <th>avg_rating_by_author_platform</th>\n    </tr>\n    <tr>\n      <th>author</th>\n      <th>platform</th>\n      <th></th>\n    </tr>\n  </thead>\n  <tbody>\n    <tr>\n      <th>Michael Bunting</th>\n      <th>Udemy</th>\n      <td>5.0</td>\n    </tr>\n    <tr>\n      <th>Vishwesh Singh</th>\n      <th>Udemy</th>\n      <td>5.0</td>\n    </tr>\n    <tr>\n      <th>Chris Achard</th>\n      <th>Pluralsight</th>\n      <td>5.0</td>\n    </tr>\n    <tr>\n      <th>Charles Santana</th>\n      <th>Udemy</th>\n      <td>5.0</td>\n    </tr>\n    <tr>\n      <th>Mirco Baragiani</th>\n      <th>Udemy</th>\n      <td>5.0</td>\n    </tr>\n    <tr>\n      <th>...</th>\n      <th>...</th>\n      <td>...</td>\n    </tr>\n    <tr>\n      <th>Wharton</th>\n      <th>edX</th>\n      <td>NaN</td>\n    </tr>\n    <tr>\n      <th>WitsX</th>\n      <th>edX</th>\n      <td>NaN</td>\n    </tr>\n    <tr>\n      <th>Workforce Academy Partnership</th>\n      <th>Alison</th>\n      <td>NaN</td>\n    </tr>\n    <tr>\n      <th>YouAccel Training</th>\n      <th>Alison</th>\n      <td>NaN</td>\n    </tr>\n    <tr>\n      <th>logycaX</th>\n      <th>edX</th>\n      <td>NaN</td>\n    </tr>\n  </tbody>\n</table>\n<p>1636 rows × 1 columns</p>\n</div>"
     },
     "execution_count": 17,
     "metadata": {},
     "output_type": "execute_result"
    }
   ],
   "source": [
    "df.groupby(['author', 'platform']).agg(avg_rating_by_author_platform=pd.NamedAgg(column='rating', aggfunc='mean')).sort_values('avg_rating_by_author_platform', ascending=False)"
   ],
   "metadata": {
    "collapsed": false,
    "pycharm": {
     "name": "#%%\n"
    }
   }
  },
  {
   "cell_type": "code",
   "execution_count": 20,
   "outputs": [
    {
     "data": {
      "text/plain": "              students_count\nlevel                       \nBeginner          26706424.0\nMixed             21729047.0\nIntermediate      16279662.0\nAdvanced           3926403.0",
      "text/html": "<div>\n<style scoped>\n    .dataframe tbody tr th:only-of-type {\n        vertical-align: middle;\n    }\n\n    .dataframe tbody tr th {\n        vertical-align: top;\n    }\n\n    .dataframe thead th {\n        text-align: right;\n    }\n</style>\n<table border=\"1\" class=\"dataframe\">\n  <thead>\n    <tr style=\"text-align: right;\">\n      <th></th>\n      <th>students_count</th>\n    </tr>\n    <tr>\n      <th>level</th>\n      <th></th>\n    </tr>\n  </thead>\n  <tbody>\n    <tr>\n      <th>Beginner</th>\n      <td>26706424.0</td>\n    </tr>\n    <tr>\n      <th>Mixed</th>\n      <td>21729047.0</td>\n    </tr>\n    <tr>\n      <th>Intermediate</th>\n      <td>16279662.0</td>\n    </tr>\n    <tr>\n      <th>Advanced</th>\n      <td>3926403.0</td>\n    </tr>\n  </tbody>\n</table>\n</div>"
     },
     "execution_count": 20,
     "metadata": {},
     "output_type": "execute_result"
    }
   ],
   "source": [
    "pd.pivot_table(df, values='students_count', index='level', aggfunc='sum').sort_values('students_count', ascending=False)"
   ],
   "metadata": {
    "collapsed": false,
    "pycharm": {
     "name": "#%%\n"
    }
   }
  },
  {
   "cell_type": "code",
   "execution_count": 25,
   "outputs": [
    {
     "data": {
      "text/plain": "<Figure size 720x504 with 1 Axes>",
      "image/png": "[encoded data removed]"
     },
     "metadata": {},
     "output_type": "display_data"
    }
   ],
   "source": [
    "from matplotlib import pyplot as plt\n",
    "pie_data = pd.pivot_table(df, values='students_count', index='level', aggfunc='sum').sort_values('students_count', ascending=False)\n",
    "fig = plt.figure(figsize =(10, 7))\n",
    "plt.pie(pie_data['students_count'], labels=pie_data.index);"
   ],
   "metadata": {
    "collapsed": false,
    "pycharm": {
     "name": "#%%\n"
    }
   }
  },
  {
   "cell_type": "code",
   "execution_count": 28,
   "outputs": [
    {
     "data": {
      "text/plain": "<Figure size 432x288 with 1 Axes>",
      "image/png": "[encoded data removed]"
     },
     "metadata": {
      "needs_background": "light"
     },
     "output_type": "display_data"
    }
   ],
   "source": [
    "plt.bar(pie_data.index, pie_data['students_count']);"
   ],
   "metadata": {
    "collapsed": false,
    "pycharm": {
     "name": "#%%\n"
    }
   }
  },
  {
   "cell_type": "code",
   "execution_count": null,
   "outputs": [],
   "source": [],
   "metadata": {
    "collapsed": false,
    "pycharm": {
     "name": "#%%\n"
    }
   }
  }
 ],
 "metadata": {
  "kernelspec": {
   "display_name": "Python 3",
   "language": "python",
   "name": "python3"
  },
  "language_info": {
   "codemirror_mode": {
    "name": "ipython",
    "version": 2
   },
   "file_extension": ".py",
   "mimetype": "text/x-python",
   "name": "python",
   "nbconvert_exporter": "python",
   "pygments_lexer": "ipython2",
   "version": "2.7.6"
  }
 },
 "nbformat": 4,
 "nbformat_minor": 0
}