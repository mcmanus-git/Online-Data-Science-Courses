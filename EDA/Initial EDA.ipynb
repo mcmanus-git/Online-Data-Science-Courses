{
 "cells": [
  {
   "cell_type": "code",
   "execution_count": 1,
   "metadata": {
    "collapsed": true
   },
   "outputs": [],
   "source": [
    "import pandas as pd"
   ]
  },
  {
   "cell_type": "code",
   "execution_count": 2,
   "outputs": [
    {
     "data": {
      "text/plain": "      Unnamed: 0                                              title  \\\n0              0                  Машинное обучение и анализ данных   \n1              1  Introducción a la Especialización en Ciencia d...   \n2              2               Getting Started with SAS Programming   \n3              3        Introduction to Designing Data Lakes on AWS   \n4              4  Estatística não-paramétrica para a tomada de d...   \n...          ...                                                ...   \n4678        4678  Diploma in Neural Networks in Python - Deep Le...   \n4679        4679  Data Visualization In Power BI - Master The Vi...   \n4680        4680                    Learn Power BI DAX from scratch   \n4681        4681                               Python For Beginners   \n4682        4682  Artificial Intelligence for Healthcare: Opport...   \n\n                                          author  rating  votes_count  \\\n0     Moscow Institute of Physics and Technology     4.7       6382.0   \n1                                            IBM     4.6        116.0   \n2                                            SAS     4.8       2083.0   \n3                            Amazon Web Services     4.7         65.0   \n4                      Universidade de São Paulo     4.4        109.0   \n...                                          ...     ...          ...   \n4678                          Start-Tech Academy     NaN          NaN   \n4679                                 Ayush Kumar     0.0          0.0   \n4680                               Muhammad Asif     4.0          3.0   \n4681                                Sara Al-Arab     4.0         70.0   \n4682                   Taipei Medical University     4.6         22.0   \n\n      students_count         level    duration     platform   free  \n0           100000.0  Intermediate  224.000000     Coursera  False  \n1             3400.0      Beginner   48.000000     Coursera  False  \n2            67000.0      Beginner   22.000000     Coursera  False  \n3             6100.0  Intermediate   14.000000     Coursera  False  \n4             9300.0  Intermediate   13.000000     Coursera  False  \n...              ...           ...         ...          ...    ...  \n4678           690.0         Mixed    8.000000       Alison  False  \n4679           219.0         Mixed    2.639167   Skillshare   True  \n4680            93.0         Mixed    1.672778   Skillshare   True  \n4681            83.0      Beginner    2.963056   Skillshare   True  \n4682          7437.0         Mixed    4.000000  FutureLearn   True  \n\n[4683 rows x 10 columns]",
      "text/html": "<div>\n<style scoped>\n    .dataframe tbody tr th:only-of-type {\n        vertical-align: middle;\n    }\n\n    .dataframe tbody tr th {\n        vertical-align: top;\n    }\n\n    .dataframe thead th {\n        text-align: right;\n    }\n</style>\n<table border=\"1\" class=\"dataframe\">\n  <thead>\n    <tr style=\"text-align: right;\">\n      <th></th>\n      <th>Unnamed: 0</th>\n      <th>title</th>\n      <th>author</th>\n      <th>rating</th>\n      <th>votes_count</th>\n      <th>students_count</th>\n      <th>level</th>\n      <th>duration</th>\n      <th>platform</th>\n      <th>free</th>\n    </tr>\n  </thead>\n  <tbody>\n    <tr>\n      <th>0</th>\n      <td>0</td>\n      <td>Машинное обучение и анализ данных</td>\n      <td>Moscow Institute of Physics and Technology</td>\n      <td>4.7</td>\n      <td>6382.0</td>\n      <td>100000.0</td>\n      <td>Intermediate</td>\n      <td>224.000000</td>\n      <td>Coursera</td>\n      <td>False</td>\n    </tr>\n    <tr>\n      <th>1</th>\n      <td>1</td>\n      <td>Introducción a la Especialización en Ciencia d...</td>\n      <td>IBM</td>\n      <td>4.6</td>\n      <td>116.0</td>\n      <td>3400.0</td>\n      <td>Beginner</td>\n      <td>48.000000</td>\n      <td>Coursera</td>\n      <td>False</td>\n    </tr>\n    <tr>\n      <th>2</th>\n      <td>2</td>\n      <td>Getting Started with SAS Programming</td>\n      <td>SAS</td>\n      <td>4.8</td>\n      <td>2083.0</td>\n      <td>67000.0</td>\n      <td>Beginner</td>\n      <td>22.000000</td>\n      <td>Coursera</td>\n      <td>False</td>\n    </tr>\n    <tr>\n      <th>3</th>\n      <td>3</td>\n      <td>Introduction to Designing Data Lakes on AWS</td>\n      <td>Amazon Web Services</td>\n      <td>4.7</td>\n      <td>65.0</td>\n      <td>6100.0</td>\n      <td>Intermediate</td>\n      <td>14.000000</td>\n      <td>Coursera</td>\n      <td>False</td>\n    </tr>\n    <tr>\n      <th>4</th>\n      <td>4</td>\n      <td>Estatística não-paramétrica para a tomada de d...</td>\n      <td>Universidade de São Paulo</td>\n      <td>4.4</td>\n      <td>109.0</td>\n      <td>9300.0</td>\n      <td>Intermediate</td>\n      <td>13.000000</td>\n      <td>Coursera</td>\n      <td>False</td>\n    </tr>\n    <tr>\n      <th>...</th>\n      <td>...</td>\n      <td>...</td>\n      <td>...</td>\n      <td>...</td>\n      <td>...</td>\n      <td>...</td>\n      <td>...</td>\n      <td>...</td>\n      <td>...</td>\n      <td>...</td>\n    </tr>\n    <tr>\n      <th>4678</th>\n      <td>4678</td>\n      <td>Diploma in Neural Networks in Python - Deep Le...</td>\n      <td>Start-Tech Academy</td>\n      <td>NaN</td>\n      <td>NaN</td>\n      <td>690.0</td>\n      <td>Mixed</td>\n      <td>8.000000</td>\n      <td>Alison</td>\n      <td>False</td>\n    </tr>\n    <tr>\n      <th>4679</th>\n      <td>4679</td>\n      <td>Data Visualization In Power BI - Master The Vi...</td>\n      <td>Ayush Kumar</td>\n      <td>0.0</td>\n      <td>0.0</td>\n      <td>219.0</td>\n      <td>Mixed</td>\n      <td>2.639167</td>\n      <td>Skillshare</td>\n      <td>True</td>\n    </tr>\n    <tr>\n      <th>4680</th>\n      <td>4680</td>\n      <td>Learn Power BI DAX from scratch</td>\n      <td>Muhammad Asif</td>\n      <td>4.0</td>\n      <td>3.0</td>\n      <td>93.0</td>\n      <td>Mixed</td>\n      <td>1.672778</td>\n      <td>Skillshare</td>\n      <td>True</td>\n    </tr>\n    <tr>\n      <th>4681</th>\n      <td>4681</td>\n      <td>Python For Beginners</td>\n      <td>Sara Al-Arab</td>\n      <td>4.0</td>\n      <td>70.0</td>\n      <td>83.0</td>\n      <td>Beginner</td>\n      <td>2.963056</td>\n      <td>Skillshare</td>\n      <td>True</td>\n    </tr>\n    <tr>\n      <th>4682</th>\n      <td>4682</td>\n      <td>Artificial Intelligence for Healthcare: Opport...</td>\n      <td>Taipei Medical University</td>\n      <td>4.6</td>\n      <td>22.0</td>\n      <td>7437.0</td>\n      <td>Mixed</td>\n      <td>4.000000</td>\n      <td>FutureLearn</td>\n      <td>True</td>\n    </tr>\n  </tbody>\n</table>\n<p>4683 rows × 10 columns</p>\n</div>"
     },
     "execution_count": 2,
     "metadata": {},
     "output_type": "execute_result"
    }
   ],
   "source": [
    "df = pd.read_csv('../data/dataframe.csv')\n",
    "df"
   ],
   "metadata": {
    "collapsed": false,
    "pycharm": {
     "name": "#%%\n"
    }
   }
  },
  {
   "cell_type": "code",
   "execution_count": null,
   "outputs": [],
   "source": [],
   "metadata": {
    "collapsed": false,
    "pycharm": {
     "name": "#%%\n"
    }
   }
  }
 ],
 "metadata": {
  "kernelspec": {
   "display_name": "Python 3",
   "language": "python",
   "name": "python3"
  },
  "language_info": {
   "codemirror_mode": {
    "name": "ipython",
    "version": 2
   },
   "file_extension": ".py",
   "mimetype": "text/x-python",
   "name": "python",
   "nbconvert_exporter": "python",
   "pygments_lexer": "ipython2",
   "version": "2.7.6"
  }
 },
 "nbformat": 4,
 "nbformat_minor": 0
}