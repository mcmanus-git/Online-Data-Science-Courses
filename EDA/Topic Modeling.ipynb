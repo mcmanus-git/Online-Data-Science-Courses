{
 "cells": [
  {
   "cell_type": "code",
   "execution_count": 1,
   "metadata": {
    "collapsed": true
   },
   "outputs": [],
   "source": [
    "import pandas as pd\n",
    "from sqlalchemy import create_engine\n",
    "from MyCreds.mycreds import PostgreSQL"
   ]
  },
  {
   "cell_type": "code",
   "execution_count": 2,
   "outputs": [
    {
     "data": {
      "text/plain": "                                                  title  \\\n0                     Машинное обучение и анализ данных   \n1     Introducción a la Especialización en Ciencia d...   \n2                  Getting Started with SAS Programming   \n3           Introduction to Designing Data Lakes on AWS   \n4     Estatística não-paramétrica para a tomada de d...   \n...                                                 ...   \n4678  Diploma in Neural Networks in Python - Deep Le...   \n4679  Data Visualization In Power BI - Master The Vi...   \n4680                    Learn Power BI DAX from scratch   \n4681                               Python For Beginners   \n4682  Artificial Intelligence for Healthcare: Opport...   \n\n                                          author  rating  votes_count  \\\n0     Moscow Institute of Physics and Technology     4.7       6382.0   \n1                                            IBM     4.6        116.0   \n2                                            SAS     4.8       2083.0   \n3                            Amazon Web Services     4.7         65.0   \n4                      Universidade de São Paulo     4.4        109.0   \n...                                          ...     ...          ...   \n4678                          Start-Tech Academy     NaN          NaN   \n4679                                 Ayush Kumar     0.0          0.0   \n4680                               Muhammad Asif     4.0          3.0   \n4681                                Sara Al-Arab     4.0         70.0   \n4682                   Taipei Medical University     4.6         22.0   \n\n      students_count         level    duration     platform   free  \n0           100000.0  Intermediate  224.000000     Coursera  False  \n1             3400.0      Beginner   48.000000     Coursera  False  \n2            67000.0      Beginner   22.000000     Coursera  False  \n3             6100.0  Intermediate   14.000000     Coursera  False  \n4             9300.0  Intermediate   13.000000     Coursera  False  \n...              ...           ...         ...          ...    ...  \n4678           690.0         Mixed    8.000000       Alison  False  \n4679           219.0         Mixed    2.639167   Skillshare   True  \n4680            93.0         Mixed    1.672778   Skillshare   True  \n4681            83.0      Beginner    2.963056   Skillshare   True  \n4682          7437.0         Mixed    4.000000  FutureLearn   True  \n\n[4683 rows x 9 columns]",
      "text/html": "<div>\n<style scoped>\n    .dataframe tbody tr th:only-of-type {\n        vertical-align: middle;\n    }\n\n    .dataframe tbody tr th {\n        vertical-align: top;\n    }\n\n    .dataframe thead th {\n        text-align: right;\n    }\n</style>\n<table border=\"1\" class=\"dataframe\">\n  <thead>\n    <tr style=\"text-align: right;\">\n      <th></th>\n      <th>title</th>\n      <th>author</th>\n      <th>rating</th>\n      <th>votes_count</th>\n      <th>students_count</th>\n      <th>level</th>\n      <th>duration</th>\n      <th>platform</th>\n      <th>free</th>\n    </tr>\n  </thead>\n  <tbody>\n    <tr>\n      <th>0</th>\n      <td>Машинное обучение и анализ данных</td>\n      <td>Moscow Institute of Physics and Technology</td>\n      <td>4.7</td>\n      <td>6382.0</td>\n      <td>100000.0</td>\n      <td>Intermediate</td>\n      <td>224.000000</td>\n      <td>Coursera</td>\n      <td>False</td>\n    </tr>\n    <tr>\n      <th>1</th>\n      <td>Introducción a la Especialización en Ciencia d...</td>\n      <td>IBM</td>\n      <td>4.6</td>\n      <td>116.0</td>\n      <td>3400.0</td>\n      <td>Beginner</td>\n      <td>48.000000</td>\n      <td>Coursera</td>\n      <td>False</td>\n    </tr>\n    <tr>\n      <th>2</th>\n      <td>Getting Started with SAS Programming</td>\n      <td>SAS</td>\n      <td>4.8</td>\n      <td>2083.0</td>\n      <td>67000.0</td>\n      <td>Beginner</td>\n      <td>22.000000</td>\n      <td>Coursera</td>\n      <td>False</td>\n    </tr>\n    <tr>\n      <th>3</th>\n      <td>Introduction to Designing Data Lakes on AWS</td>\n      <td>Amazon Web Services</td>\n      <td>4.7</td>\n      <td>65.0</td>\n      <td>6100.0</td>\n      <td>Intermediate</td>\n      <td>14.000000</td>\n      <td>Coursera</td>\n      <td>False</td>\n    </tr>\n    <tr>\n      <th>4</th>\n      <td>Estatística não-paramétrica para a tomada de d...</td>\n      <td>Universidade de São Paulo</td>\n      <td>4.4</td>\n      <td>109.0</td>\n      <td>9300.0</td>\n      <td>Intermediate</td>\n      <td>13.000000</td>\n      <td>Coursera</td>\n      <td>False</td>\n    </tr>\n    <tr>\n      <th>...</th>\n      <td>...</td>\n      <td>...</td>\n      <td>...</td>\n      <td>...</td>\n      <td>...</td>\n      <td>...</td>\n      <td>...</td>\n      <td>...</td>\n      <td>...</td>\n    </tr>\n    <tr>\n      <th>4678</th>\n      <td>Diploma in Neural Networks in Python - Deep Le...</td>\n      <td>Start-Tech Academy</td>\n      <td>NaN</td>\n      <td>NaN</td>\n      <td>690.0</td>\n      <td>Mixed</td>\n      <td>8.000000</td>\n      <td>Alison</td>\n      <td>False</td>\n    </tr>\n    <tr>\n      <th>4679</th>\n      <td>Data Visualization In Power BI - Master The Vi...</td>\n      <td>Ayush Kumar</td>\n      <td>0.0</td>\n      <td>0.0</td>\n      <td>219.0</td>\n      <td>Mixed</td>\n      <td>2.639167</td>\n      <td>Skillshare</td>\n      <td>True</td>\n    </tr>\n    <tr>\n      <th>4680</th>\n      <td>Learn Power BI DAX from scratch</td>\n      <td>Muhammad Asif</td>\n      <td>4.0</td>\n      <td>3.0</td>\n      <td>93.0</td>\n      <td>Mixed</td>\n      <td>1.672778</td>\n      <td>Skillshare</td>\n      <td>True</td>\n    </tr>\n    <tr>\n      <th>4681</th>\n      <td>Python For Beginners</td>\n      <td>Sara Al-Arab</td>\n      <td>4.0</td>\n      <td>70.0</td>\n      <td>83.0</td>\n      <td>Beginner</td>\n      <td>2.963056</td>\n      <td>Skillshare</td>\n      <td>True</td>\n    </tr>\n    <tr>\n      <th>4682</th>\n      <td>Artificial Intelligence for Healthcare: Opport...</td>\n      <td>Taipei Medical University</td>\n      <td>4.6</td>\n      <td>22.0</td>\n      <td>7437.0</td>\n      <td>Mixed</td>\n      <td>4.000000</td>\n      <td>FutureLearn</td>\n      <td>True</td>\n    </tr>\n  </tbody>\n</table>\n<p>4683 rows × 9 columns</p>\n</div>"
     },
     "execution_count": 2,
     "metadata": {},
     "output_type": "execute_result"
    }
   ],
   "source": [
    "conn_string = f'postgresql://{PostgreSQL.username}:{PostgreSQL.password}@{PostgreSQL.host}/online_data_science_courses'\n",
    "table_name = 'kaggle_odsc'\n",
    "\n",
    "db = create_engine(conn_string)\n",
    "cnxn = db.connect()\n",
    "\n",
    "query = \"\"\"SELECT * FROM kaggle_odsc\"\"\"\n",
    "\n",
    "df = pd.read_sql(query, con=cnxn)\n",
    "df"
   ],
   "metadata": {
    "collapsed": false,
    "pycharm": {
     "name": "#%%\n"
    }
   }
  },
  {
   "cell_type": "code",
   "execution_count": 3,
   "outputs": [],
   "source": [
    "# !pip install pycld3"
   ],
   "metadata": {
    "collapsed": false,
    "pycharm": {
     "name": "#%%\n"
    }
   }
  },
  {
   "cell_type": "code",
   "execution_count": 4,
   "outputs": [],
   "source": [
    "import cld3"
   ],
   "metadata": {
    "collapsed": false,
    "pycharm": {
     "name": "#%%\n"
    }
   }
  },
  {
   "cell_type": "code",
   "execution_count": 5,
   "outputs": [
    {
     "name": "stdout",
     "output_type": "stream",
     "text": [
      "en\n"
     ]
    }
   ],
   "source": [
    "# Reference: https://amitness.com/2019/07/identify-text-language-python/\n",
    "# detector = cld3.NNetLanguageIdentifier(min_num_bytes=0,\n",
    "#                                         max_num_bytes=1000)\n",
    "\n",
    "text = \"This text is written in English\"\n",
    "result = cld3.get_language(text=text)\n",
    "print(result.language)"
   ],
   "metadata": {
    "collapsed": false,
    "pycharm": {
     "name": "#%%\n"
    }
   }
  },
  {
   "cell_type": "code",
   "execution_count": 6,
   "outputs": [],
   "source": [
    "lang_df = df.copy()"
   ],
   "metadata": {
    "collapsed": false,
    "pycharm": {
     "name": "#%%\n"
    }
   }
  },
  {
   "cell_type": "code",
   "execution_count": 7,
   "outputs": [
    {
     "data": {
      "text/plain": "                                                  title  \\\n0                     Машинное обучение и анализ данных   \n1     Introducción a la Especialización en Ciencia d...   \n2                  Getting Started with SAS Programming   \n3           Introduction to Designing Data Lakes on AWS   \n4     Estatística não-paramétrica para a tomada de d...   \n...                                                 ...   \n4678  Diploma in Neural Networks in Python - Deep Le...   \n4679  Data Visualization In Power BI - Master The Vi...   \n4680                    Learn Power BI DAX from scratch   \n4681                               Python For Beginners   \n4682  Artificial Intelligence for Healthcare: Opport...   \n\n                                          author  rating  votes_count  \\\n0     Moscow Institute of Physics and Technology     4.7       6382.0   \n1                                            IBM     4.6        116.0   \n2                                            SAS     4.8       2083.0   \n3                            Amazon Web Services     4.7         65.0   \n4                      Universidade de São Paulo     4.4        109.0   \n...                                          ...     ...          ...   \n4678                          Start-Tech Academy     NaN          NaN   \n4679                                 Ayush Kumar     0.0          0.0   \n4680                               Muhammad Asif     4.0          3.0   \n4681                                Sara Al-Arab     4.0         70.0   \n4682                   Taipei Medical University     4.6         22.0   \n\n      students_count         level    duration     platform   free language  \n0           100000.0  Intermediate  224.000000     Coursera  False       ru  \n1             3400.0      Beginner   48.000000     Coursera  False       es  \n2            67000.0      Beginner   22.000000     Coursera  False       en  \n3             6100.0  Intermediate   14.000000     Coursera  False       en  \n4             9300.0  Intermediate   13.000000     Coursera  False       pt  \n...              ...           ...         ...          ...    ...      ...  \n4678           690.0         Mixed    8.000000       Alison  False       en  \n4679           219.0         Mixed    2.639167   Skillshare   True       co  \n4680            93.0         Mixed    1.672778   Skillshare   True       fy  \n4681            83.0      Beginner    2.963056   Skillshare   True       en  \n4682          7437.0         Mixed    4.000000  FutureLearn   True       en  \n\n[4683 rows x 10 columns]",
      "text/html": "<div>\n<style scoped>\n    .dataframe tbody tr th:only-of-type {\n        vertical-align: middle;\n    }\n\n    .dataframe tbody tr th {\n        vertical-align: top;\n    }\n\n    .dataframe thead th {\n        text-align: right;\n    }\n</style>\n<table border=\"1\" class=\"dataframe\">\n  <thead>\n    <tr style=\"text-align: right;\">\n      <th></th>\n      <th>title</th>\n      <th>author</th>\n      <th>rating</th>\n      <th>votes_count</th>\n      <th>students_count</th>\n      <th>level</th>\n      <th>duration</th>\n      <th>platform</th>\n      <th>free</th>\n      <th>language</th>\n    </tr>\n  </thead>\n  <tbody>\n    <tr>\n      <th>0</th>\n      <td>Машинное обучение и анализ данных</td>\n      <td>Moscow Institute of Physics and Technology</td>\n      <td>4.7</td>\n      <td>6382.0</td>\n      <td>100000.0</td>\n      <td>Intermediate</td>\n      <td>224.000000</td>\n      <td>Coursera</td>\n      <td>False</td>\n      <td>ru</td>\n    </tr>\n    <tr>\n      <th>1</th>\n      <td>Introducción a la Especialización en Ciencia d...</td>\n      <td>IBM</td>\n      <td>4.6</td>\n      <td>116.0</td>\n      <td>3400.0</td>\n      <td>Beginner</td>\n      <td>48.000000</td>\n      <td>Coursera</td>\n      <td>False</td>\n      <td>es</td>\n    </tr>\n    <tr>\n      <th>2</th>\n      <td>Getting Started with SAS Programming</td>\n      <td>SAS</td>\n      <td>4.8</td>\n      <td>2083.0</td>\n      <td>67000.0</td>\n      <td>Beginner</td>\n      <td>22.000000</td>\n      <td>Coursera</td>\n      <td>False</td>\n      <td>en</td>\n    </tr>\n    <tr>\n      <th>3</th>\n      <td>Introduction to Designing Data Lakes on AWS</td>\n      <td>Amazon Web Services</td>\n      <td>4.7</td>\n      <td>65.0</td>\n      <td>6100.0</td>\n      <td>Intermediate</td>\n      <td>14.000000</td>\n      <td>Coursera</td>\n      <td>False</td>\n      <td>en</td>\n    </tr>\n    <tr>\n      <th>4</th>\n      <td>Estatística não-paramétrica para a tomada de d...</td>\n      <td>Universidade de São Paulo</td>\n      <td>4.4</td>\n      <td>109.0</td>\n      <td>9300.0</td>\n      <td>Intermediate</td>\n      <td>13.000000</td>\n      <td>Coursera</td>\n      <td>False</td>\n      <td>pt</td>\n    </tr>\n    <tr>\n      <th>...</th>\n      <td>...</td>\n      <td>...</td>\n      <td>...</td>\n      <td>...</td>\n      <td>...</td>\n      <td>...</td>\n      <td>...</td>\n      <td>...</td>\n      <td>...</td>\n      <td>...</td>\n    </tr>\n    <tr>\n      <th>4678</th>\n      <td>Diploma in Neural Networks in Python - Deep Le...</td>\n      <td>Start-Tech Academy</td>\n      <td>NaN</td>\n      <td>NaN</td>\n      <td>690.0</td>\n      <td>Mixed</td>\n      <td>8.000000</td>\n      <td>Alison</td>\n      <td>False</td>\n      <td>en</td>\n    </tr>\n    <tr>\n      <th>4679</th>\n      <td>Data Visualization In Power BI - Master The Vi...</td>\n      <td>Ayush Kumar</td>\n      <td>0.0</td>\n      <td>0.0</td>\n      <td>219.0</td>\n      <td>Mixed</td>\n      <td>2.639167</td>\n      <td>Skillshare</td>\n      <td>True</td>\n      <td>co</td>\n    </tr>\n    <tr>\n      <th>4680</th>\n      <td>Learn Power BI DAX from scratch</td>\n      <td>Muhammad Asif</td>\n      <td>4.0</td>\n      <td>3.0</td>\n      <td>93.0</td>\n      <td>Mixed</td>\n      <td>1.672778</td>\n      <td>Skillshare</td>\n      <td>True</td>\n      <td>fy</td>\n    </tr>\n    <tr>\n      <th>4681</th>\n      <td>Python For Beginners</td>\n      <td>Sara Al-Arab</td>\n      <td>4.0</td>\n      <td>70.0</td>\n      <td>83.0</td>\n      <td>Beginner</td>\n      <td>2.963056</td>\n      <td>Skillshare</td>\n      <td>True</td>\n      <td>en</td>\n    </tr>\n    <tr>\n      <th>4682</th>\n      <td>Artificial Intelligence for Healthcare: Opport...</td>\n      <td>Taipei Medical University</td>\n      <td>4.6</td>\n      <td>22.0</td>\n      <td>7437.0</td>\n      <td>Mixed</td>\n      <td>4.000000</td>\n      <td>FutureLearn</td>\n      <td>True</td>\n      <td>en</td>\n    </tr>\n  </tbody>\n</table>\n<p>4683 rows × 10 columns</p>\n</div>"
     },
     "execution_count": 7,
     "metadata": {},
     "output_type": "execute_result"
    }
   ],
   "source": [
    "lang_df['language'] = lang_df['title'].apply(lambda x: cld3.get_language(text=x).language)\n",
    "lang_df"
   ],
   "metadata": {
    "collapsed": false,
    "pycharm": {
     "name": "#%%\n"
    }
   }
  },
  {
   "cell_type": "code",
   "execution_count": 8,
   "outputs": [
    {
     "data": {
      "text/plain": "                                                  title language\n0                     Машинное обучение и анализ данных       ru\n1     Introducción a la Especialización en Ciencia d...       es\n2                  Getting Started with SAS Programming       en\n3           Introduction to Designing Data Lakes on AWS       en\n4     Estatística não-paramétrica para a tomada de d...       pt\n...                                                 ...      ...\n4678  Diploma in Neural Networks in Python - Deep Le...       en\n4679  Data Visualization In Power BI - Master The Vi...       co\n4680                    Learn Power BI DAX from scratch       fy\n4681                               Python For Beginners       en\n4682  Artificial Intelligence for Healthcare: Opport...       en\n\n[4683 rows x 2 columns]",
      "text/html": "<div>\n<style scoped>\n    .dataframe tbody tr th:only-of-type {\n        vertical-align: middle;\n    }\n\n    .dataframe tbody tr th {\n        vertical-align: top;\n    }\n\n    .dataframe thead th {\n        text-align: right;\n    }\n</style>\n<table border=\"1\" class=\"dataframe\">\n  <thead>\n    <tr style=\"text-align: right;\">\n      <th></th>\n      <th>title</th>\n      <th>language</th>\n    </tr>\n  </thead>\n  <tbody>\n    <tr>\n      <th>0</th>\n      <td>Машинное обучение и анализ данных</td>\n      <td>ru</td>\n    </tr>\n    <tr>\n      <th>1</th>\n      <td>Introducción a la Especialización en Ciencia d...</td>\n      <td>es</td>\n    </tr>\n    <tr>\n      <th>2</th>\n      <td>Getting Started with SAS Programming</td>\n      <td>en</td>\n    </tr>\n    <tr>\n      <th>3</th>\n      <td>Introduction to Designing Data Lakes on AWS</td>\n      <td>en</td>\n    </tr>\n    <tr>\n      <th>4</th>\n      <td>Estatística não-paramétrica para a tomada de d...</td>\n      <td>pt</td>\n    </tr>\n    <tr>\n      <th>...</th>\n      <td>...</td>\n      <td>...</td>\n    </tr>\n    <tr>\n      <th>4678</th>\n      <td>Diploma in Neural Networks in Python - Deep Le...</td>\n      <td>en</td>\n    </tr>\n    <tr>\n      <th>4679</th>\n      <td>Data Visualization In Power BI - Master The Vi...</td>\n      <td>co</td>\n    </tr>\n    <tr>\n      <th>4680</th>\n      <td>Learn Power BI DAX from scratch</td>\n      <td>fy</td>\n    </tr>\n    <tr>\n      <th>4681</th>\n      <td>Python For Beginners</td>\n      <td>en</td>\n    </tr>\n    <tr>\n      <th>4682</th>\n      <td>Artificial Intelligence for Healthcare: Opport...</td>\n      <td>en</td>\n    </tr>\n  </tbody>\n</table>\n<p>4683 rows × 2 columns</p>\n</div>"
     },
     "execution_count": 8,
     "metadata": {},
     "output_type": "execute_result"
    }
   ],
   "source": [
    "lang_df[['title', 'language']]"
   ],
   "metadata": {
    "collapsed": false,
    "pycharm": {
     "name": "#%%\n"
    }
   }
  },
  {
   "cell_type": "markdown",
   "source": [
    "This performance is annoyingly bad and I'm not sure why yet."
   ],
   "metadata": {
    "collapsed": false,
    "pycharm": {
     "name": "#%% md\n"
    }
   }
  },
  {
   "cell_type": "code",
   "execution_count": 9,
   "outputs": [],
   "source": [
    "# !pip install gcld3"
   ],
   "metadata": {
    "collapsed": false,
    "pycharm": {
     "name": "#%%\n"
    }
   }
  },
  {
   "cell_type": "code",
   "execution_count": 10,
   "outputs": [
    {
     "name": "stdout",
     "output_type": "stream",
     "text": [
      "en\n"
     ]
    }
   ],
   "source": [
    "import gcld3\n",
    "\n",
    "detector = gcld3.NNetLanguageIdentifier(min_num_bytes=0,\n",
    "                                        max_num_bytes=1000)\n",
    "\n",
    "text = \"This text is written in English\"\n",
    "result = detector.FindLanguage(text=text)\n",
    "\n",
    "print(result.language)"
   ],
   "metadata": {
    "collapsed": false,
    "pycharm": {
     "name": "#%%\n"
    }
   }
  },
  {
   "cell_type": "code",
   "execution_count": 11,
   "outputs": [
    {
     "data": {
      "text/plain": "                                                  title  \\\n0                     Машинное обучение и анализ данных   \n1     Introducción a la Especialización en Ciencia d...   \n2                  Getting Started with SAS Programming   \n3           Introduction to Designing Data Lakes on AWS   \n4     Estatística não-paramétrica para a tomada de d...   \n...                                                 ...   \n4678  Diploma in Neural Networks in Python - Deep Le...   \n4679  Data Visualization In Power BI - Master The Vi...   \n4680                    Learn Power BI DAX from scratch   \n4681                               Python For Beginners   \n4682  Artificial Intelligence for Healthcare: Opport...   \n\n                                          author  rating  votes_count  \\\n0     Moscow Institute of Physics and Technology     4.7       6382.0   \n1                                            IBM     4.6        116.0   \n2                                            SAS     4.8       2083.0   \n3                            Amazon Web Services     4.7         65.0   \n4                      Universidade de São Paulo     4.4        109.0   \n...                                          ...     ...          ...   \n4678                          Start-Tech Academy     NaN          NaN   \n4679                                 Ayush Kumar     0.0          0.0   \n4680                               Muhammad Asif     4.0          3.0   \n4681                                Sara Al-Arab     4.0         70.0   \n4682                   Taipei Medical University     4.6         22.0   \n\n      students_count         level    duration     platform   free language  \n0           100000.0  Intermediate  224.000000     Coursera  False       ru  \n1             3400.0      Beginner   48.000000     Coursera  False       es  \n2            67000.0      Beginner   22.000000     Coursera  False       en  \n3             6100.0  Intermediate   14.000000     Coursera  False       en  \n4             9300.0  Intermediate   13.000000     Coursera  False       pt  \n...              ...           ...         ...          ...    ...      ...  \n4678           690.0         Mixed    8.000000       Alison  False       en  \n4679           219.0         Mixed    2.639167   Skillshare   True       co  \n4680            93.0         Mixed    1.672778   Skillshare   True       fy  \n4681            83.0      Beginner    2.963056   Skillshare   True       en  \n4682          7437.0         Mixed    4.000000  FutureLearn   True       en  \n\n[4683 rows x 10 columns]",
      "text/html": "<div>\n<style scoped>\n    .dataframe tbody tr th:only-of-type {\n        vertical-align: middle;\n    }\n\n    .dataframe tbody tr th {\n        vertical-align: top;\n    }\n\n    .dataframe thead th {\n        text-align: right;\n    }\n</style>\n<table border=\"1\" class=\"dataframe\">\n  <thead>\n    <tr style=\"text-align: right;\">\n      <th></th>\n      <th>title</th>\n      <th>author</th>\n      <th>rating</th>\n      <th>votes_count</th>\n      <th>students_count</th>\n      <th>level</th>\n      <th>duration</th>\n      <th>platform</th>\n      <th>free</th>\n      <th>language</th>\n    </tr>\n  </thead>\n  <tbody>\n    <tr>\n      <th>0</th>\n      <td>Машинное обучение и анализ данных</td>\n      <td>Moscow Institute of Physics and Technology</td>\n      <td>4.7</td>\n      <td>6382.0</td>\n      <td>100000.0</td>\n      <td>Intermediate</td>\n      <td>224.000000</td>\n      <td>Coursera</td>\n      <td>False</td>\n      <td>ru</td>\n    </tr>\n    <tr>\n      <th>1</th>\n      <td>Introducción a la Especialización en Ciencia d...</td>\n      <td>IBM</td>\n      <td>4.6</td>\n      <td>116.0</td>\n      <td>3400.0</td>\n      <td>Beginner</td>\n      <td>48.000000</td>\n      <td>Coursera</td>\n      <td>False</td>\n      <td>es</td>\n    </tr>\n    <tr>\n      <th>2</th>\n      <td>Getting Started with SAS Programming</td>\n      <td>SAS</td>\n      <td>4.8</td>\n      <td>2083.0</td>\n      <td>67000.0</td>\n      <td>Beginner</td>\n      <td>22.000000</td>\n      <td>Coursera</td>\n      <td>False</td>\n      <td>en</td>\n    </tr>\n    <tr>\n      <th>3</th>\n      <td>Introduction to Designing Data Lakes on AWS</td>\n      <td>Amazon Web Services</td>\n      <td>4.7</td>\n      <td>65.0</td>\n      <td>6100.0</td>\n      <td>Intermediate</td>\n      <td>14.000000</td>\n      <td>Coursera</td>\n      <td>False</td>\n      <td>en</td>\n    </tr>\n    <tr>\n      <th>4</th>\n      <td>Estatística não-paramétrica para a tomada de d...</td>\n      <td>Universidade de São Paulo</td>\n      <td>4.4</td>\n      <td>109.0</td>\n      <td>9300.0</td>\n      <td>Intermediate</td>\n      <td>13.000000</td>\n      <td>Coursera</td>\n      <td>False</td>\n      <td>pt</td>\n    </tr>\n    <tr>\n      <th>...</th>\n      <td>...</td>\n      <td>...</td>\n      <td>...</td>\n      <td>...</td>\n      <td>...</td>\n      <td>...</td>\n      <td>...</td>\n      <td>...</td>\n      <td>...</td>\n      <td>...</td>\n    </tr>\n    <tr>\n      <th>4678</th>\n      <td>Diploma in Neural Networks in Python - Deep Le...</td>\n      <td>Start-Tech Academy</td>\n      <td>NaN</td>\n      <td>NaN</td>\n      <td>690.0</td>\n      <td>Mixed</td>\n      <td>8.000000</td>\n      <td>Alison</td>\n      <td>False</td>\n      <td>en</td>\n    </tr>\n    <tr>\n      <th>4679</th>\n      <td>Data Visualization In Power BI - Master The Vi...</td>\n      <td>Ayush Kumar</td>\n      <td>0.0</td>\n      <td>0.0</td>\n      <td>219.0</td>\n      <td>Mixed</td>\n      <td>2.639167</td>\n      <td>Skillshare</td>\n      <td>True</td>\n      <td>co</td>\n    </tr>\n    <tr>\n      <th>4680</th>\n      <td>Learn Power BI DAX from scratch</td>\n      <td>Muhammad Asif</td>\n      <td>4.0</td>\n      <td>3.0</td>\n      <td>93.0</td>\n      <td>Mixed</td>\n      <td>1.672778</td>\n      <td>Skillshare</td>\n      <td>True</td>\n      <td>fy</td>\n    </tr>\n    <tr>\n      <th>4681</th>\n      <td>Python For Beginners</td>\n      <td>Sara Al-Arab</td>\n      <td>4.0</td>\n      <td>70.0</td>\n      <td>83.0</td>\n      <td>Beginner</td>\n      <td>2.963056</td>\n      <td>Skillshare</td>\n      <td>True</td>\n      <td>en</td>\n    </tr>\n    <tr>\n      <th>4682</th>\n      <td>Artificial Intelligence for Healthcare: Opport...</td>\n      <td>Taipei Medical University</td>\n      <td>4.6</td>\n      <td>22.0</td>\n      <td>7437.0</td>\n      <td>Mixed</td>\n      <td>4.000000</td>\n      <td>FutureLearn</td>\n      <td>True</td>\n      <td>en</td>\n    </tr>\n  </tbody>\n</table>\n<p>4683 rows × 10 columns</p>\n</div>"
     },
     "execution_count": 11,
     "metadata": {},
     "output_type": "execute_result"
    }
   ],
   "source": [
    "lang_df['language'] = lang_df['title'].apply(lambda x: detector.FindLanguage(text=x).language)\n",
    "lang_df"
   ],
   "metadata": {
    "collapsed": false,
    "pycharm": {
     "name": "#%%\n"
    }
   }
  },
  {
   "cell_type": "code",
   "execution_count": 12,
   "outputs": [
    {
     "data": {
      "text/plain": "                                                  title language\n0                     Машинное обучение и анализ данных       ru\n1     Introducción a la Especialización en Ciencia d...       es\n2                  Getting Started with SAS Programming       en\n3           Introduction to Designing Data Lakes on AWS       en\n4     Estatística não-paramétrica para a tomada de d...       pt\n...                                                 ...      ...\n4678  Diploma in Neural Networks in Python - Deep Le...       en\n4679  Data Visualization In Power BI - Master The Vi...       co\n4680                    Learn Power BI DAX from scratch       fy\n4681                               Python For Beginners       en\n4682  Artificial Intelligence for Healthcare: Opport...       en\n\n[4683 rows x 2 columns]",
      "text/html": "<div>\n<style scoped>\n    .dataframe tbody tr th:only-of-type {\n        vertical-align: middle;\n    }\n\n    .dataframe tbody tr th {\n        vertical-align: top;\n    }\n\n    .dataframe thead th {\n        text-align: right;\n    }\n</style>\n<table border=\"1\" class=\"dataframe\">\n  <thead>\n    <tr style=\"text-align: right;\">\n      <th></th>\n      <th>title</th>\n      <th>language</th>\n    </tr>\n  </thead>\n  <tbody>\n    <tr>\n      <th>0</th>\n      <td>Машинное обучение и анализ данных</td>\n      <td>ru</td>\n    </tr>\n    <tr>\n      <th>1</th>\n      <td>Introducción a la Especialización en Ciencia d...</td>\n      <td>es</td>\n    </tr>\n    <tr>\n      <th>2</th>\n      <td>Getting Started with SAS Programming</td>\n      <td>en</td>\n    </tr>\n    <tr>\n      <th>3</th>\n      <td>Introduction to Designing Data Lakes on AWS</td>\n      <td>en</td>\n    </tr>\n    <tr>\n      <th>4</th>\n      <td>Estatística não-paramétrica para a tomada de d...</td>\n      <td>pt</td>\n    </tr>\n    <tr>\n      <th>...</th>\n      <td>...</td>\n      <td>...</td>\n    </tr>\n    <tr>\n      <th>4678</th>\n      <td>Diploma in Neural Networks in Python - Deep Le...</td>\n      <td>en</td>\n    </tr>\n    <tr>\n      <th>4679</th>\n      <td>Data Visualization In Power BI - Master The Vi...</td>\n      <td>co</td>\n    </tr>\n    <tr>\n      <th>4680</th>\n      <td>Learn Power BI DAX from scratch</td>\n      <td>fy</td>\n    </tr>\n    <tr>\n      <th>4681</th>\n      <td>Python For Beginners</td>\n      <td>en</td>\n    </tr>\n    <tr>\n      <th>4682</th>\n      <td>Artificial Intelligence for Healthcare: Opport...</td>\n      <td>en</td>\n    </tr>\n  </tbody>\n</table>\n<p>4683 rows × 2 columns</p>\n</div>"
     },
     "execution_count": 12,
     "metadata": {},
     "output_type": "execute_result"
    }
   ],
   "source": [
    "lang_df[['title', 'language']]"
   ],
   "metadata": {
    "collapsed": false,
    "pycharm": {
     "name": "#%%\n"
    }
   }
  },
  {
   "cell_type": "code",
   "execution_count": 13,
   "outputs": [
    {
     "data": {
      "text/plain": "                                                  title language\n7                             Exploratory Data Analysis       sn\n30                                     UX Data Analysis       sn\n101   Forecast Future Demand of Phone Using Predicti...       sn\n251                  Key Technologies in Data Analytics       sn\n261                       Statistics for Data Analytics       sn\n...                                                 ...      ...\n4458                    Machine Learning: Data Analysis       sn\n4593               Advanced Business Analytics Capstone       sn\n4619                                      Data Literacy       sn\n4646  Python Data Visualization using Seaborn - Begi...       sn\n4666               Regression Analysis with Yellowbrick       sn\n\n[75 rows x 2 columns]",
      "text/html": "<div>\n<style scoped>\n    .dataframe tbody tr th:only-of-type {\n        vertical-align: middle;\n    }\n\n    .dataframe tbody tr th {\n        vertical-align: top;\n    }\n\n    .dataframe thead th {\n        text-align: right;\n    }\n</style>\n<table border=\"1\" class=\"dataframe\">\n  <thead>\n    <tr style=\"text-align: right;\">\n      <th></th>\n      <th>title</th>\n      <th>language</th>\n    </tr>\n  </thead>\n  <tbody>\n    <tr>\n      <th>7</th>\n      <td>Exploratory Data Analysis</td>\n      <td>sn</td>\n    </tr>\n    <tr>\n      <th>30</th>\n      <td>UX Data Analysis</td>\n      <td>sn</td>\n    </tr>\n    <tr>\n      <th>101</th>\n      <td>Forecast Future Demand of Phone Using Predicti...</td>\n      <td>sn</td>\n    </tr>\n    <tr>\n      <th>251</th>\n      <td>Key Technologies in Data Analytics</td>\n      <td>sn</td>\n    </tr>\n    <tr>\n      <th>261</th>\n      <td>Statistics for Data Analytics</td>\n      <td>sn</td>\n    </tr>\n    <tr>\n      <th>...</th>\n      <td>...</td>\n      <td>...</td>\n    </tr>\n    <tr>\n      <th>4458</th>\n      <td>Machine Learning: Data Analysis</td>\n      <td>sn</td>\n    </tr>\n    <tr>\n      <th>4593</th>\n      <td>Advanced Business Analytics Capstone</td>\n      <td>sn</td>\n    </tr>\n    <tr>\n      <th>4619</th>\n      <td>Data Literacy</td>\n      <td>sn</td>\n    </tr>\n    <tr>\n      <th>4646</th>\n      <td>Python Data Visualization using Seaborn - Begi...</td>\n      <td>sn</td>\n    </tr>\n    <tr>\n      <th>4666</th>\n      <td>Regression Analysis with Yellowbrick</td>\n      <td>sn</td>\n    </tr>\n  </tbody>\n</table>\n<p>75 rows × 2 columns</p>\n</div>"
     },
     "execution_count": 13,
     "metadata": {},
     "output_type": "execute_result"
    }
   ],
   "source": [
    "lang_df[lang_df['language'] == 'sn'][['title', 'language']]"
   ],
   "metadata": {
    "collapsed": false,
    "pycharm": {
     "name": "#%%\n"
    }
   }
  },
  {
   "cell_type": "markdown",
   "source": [
    "I only see two in the results above that aren't fully English.  The rest, based on my quick manual check, are all fully English which is really disappointing.\n",
    "\n",
    "- KNIME - Datenanalyse/Datenverarbeitung + Machine Learning\n",
    "- Power BI وتقارير باستخدام Visualizations إنشاء"
   ],
   "metadata": {
    "collapsed": false,
    "pycharm": {
     "name": "#%% md\n"
    }
   }
  },
  {
   "cell_type": "code",
   "execution_count": 14,
   "outputs": [
    {
     "data": {
      "text/plain": "'sr'"
     },
     "execution_count": 14,
     "metadata": {},
     "output_type": "execute_result"
    }
   ],
   "source": [
    "detector.FindLanguage(text=lang_df[lang_df['language'] == 'sn'][['title', 'language']].iloc[0][0].lower().split()[0]).language #.probability"
   ],
   "metadata": {
    "collapsed": false,
    "pycharm": {
     "name": "#%%\n"
    }
   }
  },
  {
   "cell_type": "code",
   "execution_count": 15,
   "outputs": [
    {
     "data": {
      "text/plain": "'analysis'"
     },
     "execution_count": 15,
     "metadata": {},
     "output_type": "execute_result"
    }
   ],
   "source": [
    "lang_df[lang_df['language'] == 'sn'][['title', 'language']].iloc[0][0].lower().split()[2]"
   ],
   "metadata": {
    "collapsed": false,
    "pycharm": {
     "name": "#%%\n"
    }
   }
  },
  {
   "cell_type": "code",
   "execution_count": 18,
   "outputs": [],
   "source": [
    "from MyCreds.mycreds import LanguageDetect\n",
    "import detectlanguage"
   ],
   "metadata": {
    "collapsed": false,
    "pycharm": {
     "name": "#%%\n"
    }
   }
  },
  {
   "cell_type": "code",
   "execution_count": 17,
   "outputs": [],
   "source": [
    "# !pip install detectlanguage"
   ],
   "metadata": {
    "collapsed": false,
    "pycharm": {
     "name": "#%%\n"
    }
   }
  },
  {
   "cell_type": "code",
   "execution_count": 20,
   "outputs": [
    {
     "data": {
      "text/plain": "[{'language': 'en', 'isReliable': True, 'confidence': 9.05}]"
     },
     "execution_count": 20,
     "metadata": {},
     "output_type": "execute_result"
    }
   ],
   "source": [
    "detectlanguage.configuration.api_key = LanguageDetect.api_key\n",
    "\n",
    "lg = detectlanguage.detect(lang_df[lang_df['language'] == 'sn'][['title', 'language']].iloc[0][0])\n",
    "lg"
   ],
   "metadata": {
    "collapsed": false,
    "pycharm": {
     "name": "#%%\n"
    }
   }
  },
  {
   "cell_type": "code",
   "execution_count": 22,
   "outputs": [
    {
     "data": {
      "text/plain": "'en'"
     },
     "execution_count": 22,
     "metadata": {},
     "output_type": "execute_result"
    }
   ],
   "source": [
    "lg[0]['language']"
   ],
   "metadata": {
    "collapsed": false,
    "pycharm": {
     "name": "#%%\n"
    }
   }
  },
  {
   "cell_type": "markdown",
   "source": [
    "Sweet! At least that one looks good."
   ],
   "metadata": {
    "collapsed": false,
    "pycharm": {
     "name": "#%% md\n"
    }
   }
  },
  {
   "cell_type": "code",
   "execution_count": 23,
   "outputs": [
    {
     "ename": "KeyboardInterrupt",
     "evalue": "",
     "output_type": "error",
     "traceback": [
      "\u001B[0;31m---------------------------------------------------------------------------\u001B[0m",
      "\u001B[0;31mKeyboardInterrupt\u001B[0m                         Traceback (most recent call last)",
      "\u001B[0;32m<ipython-input-23-70e666381854>\u001B[0m in \u001B[0;36m<module>\u001B[0;34m\u001B[0m\n\u001B[0;32m----> 1\u001B[0;31m \u001B[0mlang_df\u001B[0m\u001B[0;34m[\u001B[0m\u001B[0;34m'language'\u001B[0m\u001B[0;34m]\u001B[0m \u001B[0;34m=\u001B[0m \u001B[0mlang_df\u001B[0m\u001B[0;34m[\u001B[0m\u001B[0;34m'title'\u001B[0m\u001B[0;34m]\u001B[0m\u001B[0;34m.\u001B[0m\u001B[0mapply\u001B[0m\u001B[0;34m(\u001B[0m\u001B[0;32mlambda\u001B[0m \u001B[0mx\u001B[0m\u001B[0;34m:\u001B[0m \u001B[0mdetectlanguage\u001B[0m\u001B[0;34m.\u001B[0m\u001B[0mdetect\u001B[0m\u001B[0;34m(\u001B[0m\u001B[0mx\u001B[0m\u001B[0;34m)\u001B[0m\u001B[0;34m[\u001B[0m\u001B[0;36m0\u001B[0m\u001B[0;34m]\u001B[0m\u001B[0;34m[\u001B[0m\u001B[0;34m'language'\u001B[0m\u001B[0;34m]\u001B[0m\u001B[0;34m)\u001B[0m\u001B[0;34m\u001B[0m\u001B[0;34m\u001B[0m\u001B[0m\n\u001B[0m\u001B[1;32m      2\u001B[0m \u001B[0mlang_df\u001B[0m\u001B[0;34m\u001B[0m\u001B[0;34m\u001B[0m\u001B[0m\n",
      "\u001B[0;32m~/opt/anaconda3/lib/python3.8/site-packages/pandas/core/series.py\u001B[0m in \u001B[0;36mapply\u001B[0;34m(self, func, convert_dtype, args, **kwds)\u001B[0m\n\u001B[1;32m   4198\u001B[0m             \u001B[0;32melse\u001B[0m\u001B[0;34m:\u001B[0m\u001B[0;34m\u001B[0m\u001B[0;34m\u001B[0m\u001B[0m\n\u001B[1;32m   4199\u001B[0m                 \u001B[0mvalues\u001B[0m \u001B[0;34m=\u001B[0m \u001B[0mself\u001B[0m\u001B[0;34m.\u001B[0m\u001B[0mastype\u001B[0m\u001B[0;34m(\u001B[0m\u001B[0mobject\u001B[0m\u001B[0;34m)\u001B[0m\u001B[0;34m.\u001B[0m\u001B[0m_values\u001B[0m\u001B[0;34m\u001B[0m\u001B[0;34m\u001B[0m\u001B[0m\n\u001B[0;32m-> 4200\u001B[0;31m                 \u001B[0mmapped\u001B[0m \u001B[0;34m=\u001B[0m \u001B[0mlib\u001B[0m\u001B[0;34m.\u001B[0m\u001B[0mmap_infer\u001B[0m\u001B[0;34m(\u001B[0m\u001B[0mvalues\u001B[0m\u001B[0;34m,\u001B[0m \u001B[0mf\u001B[0m\u001B[0;34m,\u001B[0m \u001B[0mconvert\u001B[0m\u001B[0;34m=\u001B[0m\u001B[0mconvert_dtype\u001B[0m\u001B[0;34m)\u001B[0m\u001B[0;34m\u001B[0m\u001B[0;34m\u001B[0m\u001B[0m\n\u001B[0m\u001B[1;32m   4201\u001B[0m \u001B[0;34m\u001B[0m\u001B[0m\n\u001B[1;32m   4202\u001B[0m         \u001B[0;32mif\u001B[0m \u001B[0mlen\u001B[0m\u001B[0;34m(\u001B[0m\u001B[0mmapped\u001B[0m\u001B[0;34m)\u001B[0m \u001B[0;32mand\u001B[0m \u001B[0misinstance\u001B[0m\u001B[0;34m(\u001B[0m\u001B[0mmapped\u001B[0m\u001B[0;34m[\u001B[0m\u001B[0;36m0\u001B[0m\u001B[0;34m]\u001B[0m\u001B[0;34m,\u001B[0m \u001B[0mSeries\u001B[0m\u001B[0;34m)\u001B[0m\u001B[0;34m:\u001B[0m\u001B[0;34m\u001B[0m\u001B[0;34m\u001B[0m\u001B[0m\n",
      "\u001B[0;32mpandas/_libs/lib.pyx\u001B[0m in \u001B[0;36mpandas._libs.lib.map_infer\u001B[0;34m()\u001B[0m\n",
      "\u001B[0;32m<ipython-input-23-70e666381854>\u001B[0m in \u001B[0;36m<lambda>\u001B[0;34m(x)\u001B[0m\n\u001B[0;32m----> 1\u001B[0;31m \u001B[0mlang_df\u001B[0m\u001B[0;34m[\u001B[0m\u001B[0;34m'language'\u001B[0m\u001B[0;34m]\u001B[0m \u001B[0;34m=\u001B[0m \u001B[0mlang_df\u001B[0m\u001B[0;34m[\u001B[0m\u001B[0;34m'title'\u001B[0m\u001B[0;34m]\u001B[0m\u001B[0;34m.\u001B[0m\u001B[0mapply\u001B[0m\u001B[0;34m(\u001B[0m\u001B[0;32mlambda\u001B[0m \u001B[0mx\u001B[0m\u001B[0;34m:\u001B[0m \u001B[0mdetectlanguage\u001B[0m\u001B[0;34m.\u001B[0m\u001B[0mdetect\u001B[0m\u001B[0;34m(\u001B[0m\u001B[0mx\u001B[0m\u001B[0;34m)\u001B[0m\u001B[0;34m[\u001B[0m\u001B[0;36m0\u001B[0m\u001B[0;34m]\u001B[0m\u001B[0;34m[\u001B[0m\u001B[0;34m'language'\u001B[0m\u001B[0;34m]\u001B[0m\u001B[0;34m)\u001B[0m\u001B[0;34m\u001B[0m\u001B[0;34m\u001B[0m\u001B[0m\n\u001B[0m\u001B[1;32m      2\u001B[0m \u001B[0mlang_df\u001B[0m\u001B[0;34m\u001B[0m\u001B[0;34m\u001B[0m\u001B[0m\n",
      "\u001B[0;32m~/opt/anaconda3/lib/python3.8/site-packages/detectlanguage/api.py\u001B[0m in \u001B[0;36mdetect\u001B[0;34m(data)\u001B[0m\n\u001B[1;32m      2\u001B[0m \u001B[0;34m\u001B[0m\u001B[0m\n\u001B[1;32m      3\u001B[0m \u001B[0;32mdef\u001B[0m \u001B[0mdetect\u001B[0m\u001B[0;34m(\u001B[0m\u001B[0mdata\u001B[0m\u001B[0;34m)\u001B[0m\u001B[0;34m:\u001B[0m\u001B[0;34m\u001B[0m\u001B[0;34m\u001B[0m\u001B[0m\n\u001B[0;32m----> 4\u001B[0;31m         \u001B[0mresult\u001B[0m \u001B[0;34m=\u001B[0m \u001B[0mdetectlanguage\u001B[0m\u001B[0;34m.\u001B[0m\u001B[0mclient\u001B[0m\u001B[0;34m.\u001B[0m\u001B[0mpost\u001B[0m\u001B[0;34m(\u001B[0m\u001B[0;34m'detect'\u001B[0m\u001B[0;34m,\u001B[0m \u001B[0;34m{\u001B[0m \u001B[0;34m'q'\u001B[0m\u001B[0;34m:\u001B[0m \u001B[0mdata\u001B[0m \u001B[0;34m}\u001B[0m\u001B[0;34m)\u001B[0m\u001B[0;34m\u001B[0m\u001B[0;34m\u001B[0m\u001B[0m\n\u001B[0m\u001B[1;32m      5\u001B[0m         \u001B[0;32mreturn\u001B[0m \u001B[0mresult\u001B[0m\u001B[0;34m[\u001B[0m\u001B[0;34m'data'\u001B[0m\u001B[0;34m]\u001B[0m\u001B[0;34m[\u001B[0m\u001B[0;34m'detections'\u001B[0m\u001B[0;34m]\u001B[0m\u001B[0;34m\u001B[0m\u001B[0;34m\u001B[0m\u001B[0m\n\u001B[1;32m      6\u001B[0m \u001B[0;34m\u001B[0m\u001B[0m\n",
      "\u001B[0;32m~/opt/anaconda3/lib/python3.8/site-packages/detectlanguage/client.py\u001B[0m in \u001B[0;36mpost\u001B[0;34m(self, path, payload)\u001B[0m\n\u001B[1;32m     18\u001B[0m \u001B[0;34m\u001B[0m\u001B[0m\n\u001B[1;32m     19\u001B[0m         \u001B[0;32mdef\u001B[0m \u001B[0mpost\u001B[0m\u001B[0;34m(\u001B[0m\u001B[0mself\u001B[0m\u001B[0;34m,\u001B[0m \u001B[0mpath\u001B[0m\u001B[0;34m,\u001B[0m \u001B[0mpayload\u001B[0m\u001B[0;34m)\u001B[0m\u001B[0;34m:\u001B[0m\u001B[0;34m\u001B[0m\u001B[0;34m\u001B[0m\u001B[0m\n\u001B[0;32m---> 20\u001B[0;31m                 \u001B[0mr\u001B[0m \u001B[0;34m=\u001B[0m \u001B[0mrequests\u001B[0m\u001B[0;34m.\u001B[0m\u001B[0mpost\u001B[0m\u001B[0;34m(\u001B[0m\u001B[0mself\u001B[0m\u001B[0;34m.\u001B[0m\u001B[0murl\u001B[0m\u001B[0;34m(\u001B[0m\u001B[0mpath\u001B[0m\u001B[0;34m)\u001B[0m\u001B[0;34m,\u001B[0m \u001B[0mjson\u001B[0m\u001B[0;34m=\u001B[0m\u001B[0mpayload\u001B[0m\u001B[0;34m,\u001B[0m \u001B[0mheaders\u001B[0m \u001B[0;34m=\u001B[0m \u001B[0mself\u001B[0m\u001B[0;34m.\u001B[0m\u001B[0mheaders\u001B[0m\u001B[0;34m(\u001B[0m\u001B[0;34m)\u001B[0m\u001B[0;34m,\u001B[0m \u001B[0mtimeout\u001B[0m \u001B[0;34m=\u001B[0m \u001B[0mself\u001B[0m\u001B[0;34m.\u001B[0m\u001B[0mconfiguration\u001B[0m\u001B[0;34m.\u001B[0m\u001B[0mtimeout\u001B[0m\u001B[0;34m)\u001B[0m\u001B[0;34m\u001B[0m\u001B[0;34m\u001B[0m\u001B[0m\n\u001B[0m\u001B[1;32m     21\u001B[0m                 \u001B[0;32mreturn\u001B[0m \u001B[0mself\u001B[0m\u001B[0;34m.\u001B[0m\u001B[0mhandle_response\u001B[0m\u001B[0;34m(\u001B[0m\u001B[0mr\u001B[0m\u001B[0;34m)\u001B[0m\u001B[0;34m\u001B[0m\u001B[0;34m\u001B[0m\u001B[0m\n\u001B[1;32m     22\u001B[0m \u001B[0;34m\u001B[0m\u001B[0m\n",
      "\u001B[0;32m~/opt/anaconda3/lib/python3.8/site-packages/requests/api.py\u001B[0m in \u001B[0;36mpost\u001B[0;34m(url, data, json, **kwargs)\u001B[0m\n\u001B[1;32m    117\u001B[0m     \"\"\"\n\u001B[1;32m    118\u001B[0m \u001B[0;34m\u001B[0m\u001B[0m\n\u001B[0;32m--> 119\u001B[0;31m     \u001B[0;32mreturn\u001B[0m \u001B[0mrequest\u001B[0m\u001B[0;34m(\u001B[0m\u001B[0;34m'post'\u001B[0m\u001B[0;34m,\u001B[0m \u001B[0murl\u001B[0m\u001B[0;34m,\u001B[0m \u001B[0mdata\u001B[0m\u001B[0;34m=\u001B[0m\u001B[0mdata\u001B[0m\u001B[0;34m,\u001B[0m \u001B[0mjson\u001B[0m\u001B[0;34m=\u001B[0m\u001B[0mjson\u001B[0m\u001B[0;34m,\u001B[0m \u001B[0;34m**\u001B[0m\u001B[0mkwargs\u001B[0m\u001B[0;34m)\u001B[0m\u001B[0;34m\u001B[0m\u001B[0;34m\u001B[0m\u001B[0m\n\u001B[0m\u001B[1;32m    120\u001B[0m \u001B[0;34m\u001B[0m\u001B[0m\n\u001B[1;32m    121\u001B[0m \u001B[0;34m\u001B[0m\u001B[0m\n",
      "\u001B[0;32m~/opt/anaconda3/lib/python3.8/site-packages/requests/api.py\u001B[0m in \u001B[0;36mrequest\u001B[0;34m(method, url, **kwargs)\u001B[0m\n\u001B[1;32m     59\u001B[0m     \u001B[0;31m# cases, and look like a memory leak in others.\u001B[0m\u001B[0;34m\u001B[0m\u001B[0;34m\u001B[0m\u001B[0;34m\u001B[0m\u001B[0m\n\u001B[1;32m     60\u001B[0m     \u001B[0;32mwith\u001B[0m \u001B[0msessions\u001B[0m\u001B[0;34m.\u001B[0m\u001B[0mSession\u001B[0m\u001B[0;34m(\u001B[0m\u001B[0;34m)\u001B[0m \u001B[0;32mas\u001B[0m \u001B[0msession\u001B[0m\u001B[0;34m:\u001B[0m\u001B[0;34m\u001B[0m\u001B[0;34m\u001B[0m\u001B[0m\n\u001B[0;32m---> 61\u001B[0;31m         \u001B[0;32mreturn\u001B[0m \u001B[0msession\u001B[0m\u001B[0;34m.\u001B[0m\u001B[0mrequest\u001B[0m\u001B[0;34m(\u001B[0m\u001B[0mmethod\u001B[0m\u001B[0;34m=\u001B[0m\u001B[0mmethod\u001B[0m\u001B[0;34m,\u001B[0m \u001B[0murl\u001B[0m\u001B[0;34m=\u001B[0m\u001B[0murl\u001B[0m\u001B[0;34m,\u001B[0m \u001B[0;34m**\u001B[0m\u001B[0mkwargs\u001B[0m\u001B[0;34m)\u001B[0m\u001B[0;34m\u001B[0m\u001B[0;34m\u001B[0m\u001B[0m\n\u001B[0m\u001B[1;32m     62\u001B[0m \u001B[0;34m\u001B[0m\u001B[0m\n\u001B[1;32m     63\u001B[0m \u001B[0;34m\u001B[0m\u001B[0m\n",
      "\u001B[0;32m~/opt/anaconda3/lib/python3.8/site-packages/requests/sessions.py\u001B[0m in \u001B[0;36mrequest\u001B[0;34m(self, method, url, params, data, headers, cookies, files, auth, timeout, allow_redirects, proxies, hooks, stream, verify, cert, json)\u001B[0m\n\u001B[1;32m    540\u001B[0m         }\n\u001B[1;32m    541\u001B[0m         \u001B[0msend_kwargs\u001B[0m\u001B[0;34m.\u001B[0m\u001B[0mupdate\u001B[0m\u001B[0;34m(\u001B[0m\u001B[0msettings\u001B[0m\u001B[0;34m)\u001B[0m\u001B[0;34m\u001B[0m\u001B[0;34m\u001B[0m\u001B[0m\n\u001B[0;32m--> 542\u001B[0;31m         \u001B[0mresp\u001B[0m \u001B[0;34m=\u001B[0m \u001B[0mself\u001B[0m\u001B[0;34m.\u001B[0m\u001B[0msend\u001B[0m\u001B[0;34m(\u001B[0m\u001B[0mprep\u001B[0m\u001B[0;34m,\u001B[0m \u001B[0;34m**\u001B[0m\u001B[0msend_kwargs\u001B[0m\u001B[0;34m)\u001B[0m\u001B[0;34m\u001B[0m\u001B[0;34m\u001B[0m\u001B[0m\n\u001B[0m\u001B[1;32m    543\u001B[0m \u001B[0;34m\u001B[0m\u001B[0m\n\u001B[1;32m    544\u001B[0m         \u001B[0;32mreturn\u001B[0m \u001B[0mresp\u001B[0m\u001B[0;34m\u001B[0m\u001B[0;34m\u001B[0m\u001B[0m\n",
      "\u001B[0;32m~/opt/anaconda3/lib/python3.8/site-packages/requests/sessions.py\u001B[0m in \u001B[0;36msend\u001B[0;34m(self, request, **kwargs)\u001B[0m\n\u001B[1;32m    653\u001B[0m \u001B[0;34m\u001B[0m\u001B[0m\n\u001B[1;32m    654\u001B[0m         \u001B[0;31m# Send the request\u001B[0m\u001B[0;34m\u001B[0m\u001B[0;34m\u001B[0m\u001B[0;34m\u001B[0m\u001B[0m\n\u001B[0;32m--> 655\u001B[0;31m         \u001B[0mr\u001B[0m \u001B[0;34m=\u001B[0m \u001B[0madapter\u001B[0m\u001B[0;34m.\u001B[0m\u001B[0msend\u001B[0m\u001B[0;34m(\u001B[0m\u001B[0mrequest\u001B[0m\u001B[0;34m,\u001B[0m \u001B[0;34m**\u001B[0m\u001B[0mkwargs\u001B[0m\u001B[0;34m)\u001B[0m\u001B[0;34m\u001B[0m\u001B[0;34m\u001B[0m\u001B[0m\n\u001B[0m\u001B[1;32m    656\u001B[0m \u001B[0;34m\u001B[0m\u001B[0m\n\u001B[1;32m    657\u001B[0m         \u001B[0;31m# Total elapsed time of the request (approximately)\u001B[0m\u001B[0;34m\u001B[0m\u001B[0;34m\u001B[0m\u001B[0;34m\u001B[0m\u001B[0m\n",
      "\u001B[0;32m~/opt/anaconda3/lib/python3.8/site-packages/requests/adapters.py\u001B[0m in \u001B[0;36msend\u001B[0;34m(self, request, stream, timeout, verify, cert, proxies)\u001B[0m\n\u001B[1;32m    437\u001B[0m         \u001B[0;32mtry\u001B[0m\u001B[0;34m:\u001B[0m\u001B[0;34m\u001B[0m\u001B[0;34m\u001B[0m\u001B[0m\n\u001B[1;32m    438\u001B[0m             \u001B[0;32mif\u001B[0m \u001B[0;32mnot\u001B[0m \u001B[0mchunked\u001B[0m\u001B[0;34m:\u001B[0m\u001B[0;34m\u001B[0m\u001B[0;34m\u001B[0m\u001B[0m\n\u001B[0;32m--> 439\u001B[0;31m                 resp = conn.urlopen(\n\u001B[0m\u001B[1;32m    440\u001B[0m                     \u001B[0mmethod\u001B[0m\u001B[0;34m=\u001B[0m\u001B[0mrequest\u001B[0m\u001B[0;34m.\u001B[0m\u001B[0mmethod\u001B[0m\u001B[0;34m,\u001B[0m\u001B[0;34m\u001B[0m\u001B[0;34m\u001B[0m\u001B[0m\n\u001B[1;32m    441\u001B[0m                     \u001B[0murl\u001B[0m\u001B[0;34m=\u001B[0m\u001B[0murl\u001B[0m\u001B[0;34m,\u001B[0m\u001B[0;34m\u001B[0m\u001B[0;34m\u001B[0m\u001B[0m\n",
      "\u001B[0;32m~/opt/anaconda3/lib/python3.8/site-packages/urllib3/connectionpool.py\u001B[0m in \u001B[0;36murlopen\u001B[0;34m(self, method, url, body, headers, retries, redirect, assert_same_host, timeout, pool_timeout, release_conn, chunked, body_pos, **response_kw)\u001B[0m\n\u001B[1;32m    697\u001B[0m \u001B[0;34m\u001B[0m\u001B[0m\n\u001B[1;32m    698\u001B[0m             \u001B[0;31m# Make the request on the httplib connection object.\u001B[0m\u001B[0;34m\u001B[0m\u001B[0;34m\u001B[0m\u001B[0;34m\u001B[0m\u001B[0m\n\u001B[0;32m--> 699\u001B[0;31m             httplib_response = self._make_request(\n\u001B[0m\u001B[1;32m    700\u001B[0m                 \u001B[0mconn\u001B[0m\u001B[0;34m,\u001B[0m\u001B[0;34m\u001B[0m\u001B[0;34m\u001B[0m\u001B[0m\n\u001B[1;32m    701\u001B[0m                 \u001B[0mmethod\u001B[0m\u001B[0;34m,\u001B[0m\u001B[0;34m\u001B[0m\u001B[0;34m\u001B[0m\u001B[0m\n",
      "\u001B[0;32m~/opt/anaconda3/lib/python3.8/site-packages/urllib3/connectionpool.py\u001B[0m in \u001B[0;36m_make_request\u001B[0;34m(self, conn, method, url, timeout, chunked, **httplib_request_kw)\u001B[0m\n\u001B[1;32m    443\u001B[0m                     \u001B[0;31m# Python 3 (including for exceptions like SystemExit).\u001B[0m\u001B[0;34m\u001B[0m\u001B[0;34m\u001B[0m\u001B[0;34m\u001B[0m\u001B[0m\n\u001B[1;32m    444\u001B[0m                     \u001B[0;31m# Otherwise it looks like a bug in the code.\u001B[0m\u001B[0;34m\u001B[0m\u001B[0;34m\u001B[0m\u001B[0;34m\u001B[0m\u001B[0m\n\u001B[0;32m--> 445\u001B[0;31m                     \u001B[0msix\u001B[0m\u001B[0;34m.\u001B[0m\u001B[0mraise_from\u001B[0m\u001B[0;34m(\u001B[0m\u001B[0me\u001B[0m\u001B[0;34m,\u001B[0m \u001B[0;32mNone\u001B[0m\u001B[0;34m)\u001B[0m\u001B[0;34m\u001B[0m\u001B[0;34m\u001B[0m\u001B[0m\n\u001B[0m\u001B[1;32m    446\u001B[0m         \u001B[0;32mexcept\u001B[0m \u001B[0;34m(\u001B[0m\u001B[0mSocketTimeout\u001B[0m\u001B[0;34m,\u001B[0m \u001B[0mBaseSSLError\u001B[0m\u001B[0;34m,\u001B[0m \u001B[0mSocketError\u001B[0m\u001B[0;34m)\u001B[0m \u001B[0;32mas\u001B[0m \u001B[0me\u001B[0m\u001B[0;34m:\u001B[0m\u001B[0;34m\u001B[0m\u001B[0;34m\u001B[0m\u001B[0m\n\u001B[1;32m    447\u001B[0m             \u001B[0mself\u001B[0m\u001B[0;34m.\u001B[0m\u001B[0m_raise_timeout\u001B[0m\u001B[0;34m(\u001B[0m\u001B[0merr\u001B[0m\u001B[0;34m=\u001B[0m\u001B[0me\u001B[0m\u001B[0;34m,\u001B[0m \u001B[0murl\u001B[0m\u001B[0;34m=\u001B[0m\u001B[0murl\u001B[0m\u001B[0;34m,\u001B[0m \u001B[0mtimeout_value\u001B[0m\u001B[0;34m=\u001B[0m\u001B[0mread_timeout\u001B[0m\u001B[0;34m)\u001B[0m\u001B[0;34m\u001B[0m\u001B[0;34m\u001B[0m\u001B[0m\n",
      "\u001B[0;32m~/opt/anaconda3/lib/python3.8/site-packages/urllib3/packages/six.py\u001B[0m in \u001B[0;36mraise_from\u001B[0;34m(value, from_value)\u001B[0m\n",
      "\u001B[0;32m~/opt/anaconda3/lib/python3.8/site-packages/urllib3/connectionpool.py\u001B[0m in \u001B[0;36m_make_request\u001B[0;34m(self, conn, method, url, timeout, chunked, **httplib_request_kw)\u001B[0m\n\u001B[1;32m    438\u001B[0m                 \u001B[0;31m# Python 3\u001B[0m\u001B[0;34m\u001B[0m\u001B[0;34m\u001B[0m\u001B[0;34m\u001B[0m\u001B[0m\n\u001B[1;32m    439\u001B[0m                 \u001B[0;32mtry\u001B[0m\u001B[0;34m:\u001B[0m\u001B[0;34m\u001B[0m\u001B[0;34m\u001B[0m\u001B[0m\n\u001B[0;32m--> 440\u001B[0;31m                     \u001B[0mhttplib_response\u001B[0m \u001B[0;34m=\u001B[0m \u001B[0mconn\u001B[0m\u001B[0;34m.\u001B[0m\u001B[0mgetresponse\u001B[0m\u001B[0;34m(\u001B[0m\u001B[0;34m)\u001B[0m\u001B[0;34m\u001B[0m\u001B[0;34m\u001B[0m\u001B[0m\n\u001B[0m\u001B[1;32m    441\u001B[0m                 \u001B[0;32mexcept\u001B[0m \u001B[0mBaseException\u001B[0m \u001B[0;32mas\u001B[0m \u001B[0me\u001B[0m\u001B[0;34m:\u001B[0m\u001B[0;34m\u001B[0m\u001B[0;34m\u001B[0m\u001B[0m\n\u001B[1;32m    442\u001B[0m                     \u001B[0;31m# Remove the TypeError from the exception chain in\u001B[0m\u001B[0;34m\u001B[0m\u001B[0;34m\u001B[0m\u001B[0;34m\u001B[0m\u001B[0m\n",
      "\u001B[0;32m~/opt/anaconda3/lib/python3.8/http/client.py\u001B[0m in \u001B[0;36mgetresponse\u001B[0;34m(self)\u001B[0m\n\u001B[1;32m   1346\u001B[0m         \u001B[0;32mtry\u001B[0m\u001B[0;34m:\u001B[0m\u001B[0;34m\u001B[0m\u001B[0;34m\u001B[0m\u001B[0m\n\u001B[1;32m   1347\u001B[0m             \u001B[0;32mtry\u001B[0m\u001B[0;34m:\u001B[0m\u001B[0;34m\u001B[0m\u001B[0;34m\u001B[0m\u001B[0m\n\u001B[0;32m-> 1348\u001B[0;31m                 \u001B[0mresponse\u001B[0m\u001B[0;34m.\u001B[0m\u001B[0mbegin\u001B[0m\u001B[0;34m(\u001B[0m\u001B[0;34m)\u001B[0m\u001B[0;34m\u001B[0m\u001B[0;34m\u001B[0m\u001B[0m\n\u001B[0m\u001B[1;32m   1349\u001B[0m             \u001B[0;32mexcept\u001B[0m \u001B[0mConnectionError\u001B[0m\u001B[0;34m:\u001B[0m\u001B[0;34m\u001B[0m\u001B[0;34m\u001B[0m\u001B[0m\n\u001B[1;32m   1350\u001B[0m                 \u001B[0mself\u001B[0m\u001B[0;34m.\u001B[0m\u001B[0mclose\u001B[0m\u001B[0;34m(\u001B[0m\u001B[0;34m)\u001B[0m\u001B[0;34m\u001B[0m\u001B[0;34m\u001B[0m\u001B[0m\n",
      "\u001B[0;32m~/opt/anaconda3/lib/python3.8/http/client.py\u001B[0m in \u001B[0;36mbegin\u001B[0;34m(self)\u001B[0m\n\u001B[1;32m    314\u001B[0m         \u001B[0;31m# read until we get a non-100 response\u001B[0m\u001B[0;34m\u001B[0m\u001B[0;34m\u001B[0m\u001B[0;34m\u001B[0m\u001B[0m\n\u001B[1;32m    315\u001B[0m         \u001B[0;32mwhile\u001B[0m \u001B[0;32mTrue\u001B[0m\u001B[0;34m:\u001B[0m\u001B[0;34m\u001B[0m\u001B[0;34m\u001B[0m\u001B[0m\n\u001B[0;32m--> 316\u001B[0;31m             \u001B[0mversion\u001B[0m\u001B[0;34m,\u001B[0m \u001B[0mstatus\u001B[0m\u001B[0;34m,\u001B[0m \u001B[0mreason\u001B[0m \u001B[0;34m=\u001B[0m \u001B[0mself\u001B[0m\u001B[0;34m.\u001B[0m\u001B[0m_read_status\u001B[0m\u001B[0;34m(\u001B[0m\u001B[0;34m)\u001B[0m\u001B[0;34m\u001B[0m\u001B[0;34m\u001B[0m\u001B[0m\n\u001B[0m\u001B[1;32m    317\u001B[0m             \u001B[0;32mif\u001B[0m \u001B[0mstatus\u001B[0m \u001B[0;34m!=\u001B[0m \u001B[0mCONTINUE\u001B[0m\u001B[0;34m:\u001B[0m\u001B[0;34m\u001B[0m\u001B[0;34m\u001B[0m\u001B[0m\n\u001B[1;32m    318\u001B[0m                 \u001B[0;32mbreak\u001B[0m\u001B[0;34m\u001B[0m\u001B[0;34m\u001B[0m\u001B[0m\n",
      "\u001B[0;32m~/opt/anaconda3/lib/python3.8/http/client.py\u001B[0m in \u001B[0;36m_read_status\u001B[0;34m(self)\u001B[0m\n\u001B[1;32m    275\u001B[0m \u001B[0;34m\u001B[0m\u001B[0m\n\u001B[1;32m    276\u001B[0m     \u001B[0;32mdef\u001B[0m \u001B[0m_read_status\u001B[0m\u001B[0;34m(\u001B[0m\u001B[0mself\u001B[0m\u001B[0;34m)\u001B[0m\u001B[0;34m:\u001B[0m\u001B[0;34m\u001B[0m\u001B[0;34m\u001B[0m\u001B[0m\n\u001B[0;32m--> 277\u001B[0;31m         \u001B[0mline\u001B[0m \u001B[0;34m=\u001B[0m \u001B[0mstr\u001B[0m\u001B[0;34m(\u001B[0m\u001B[0mself\u001B[0m\u001B[0;34m.\u001B[0m\u001B[0mfp\u001B[0m\u001B[0;34m.\u001B[0m\u001B[0mreadline\u001B[0m\u001B[0;34m(\u001B[0m\u001B[0m_MAXLINE\u001B[0m \u001B[0;34m+\u001B[0m \u001B[0;36m1\u001B[0m\u001B[0;34m)\u001B[0m\u001B[0;34m,\u001B[0m \u001B[0;34m\"iso-8859-1\"\u001B[0m\u001B[0;34m)\u001B[0m\u001B[0;34m\u001B[0m\u001B[0;34m\u001B[0m\u001B[0m\n\u001B[0m\u001B[1;32m    278\u001B[0m         \u001B[0;32mif\u001B[0m \u001B[0mlen\u001B[0m\u001B[0;34m(\u001B[0m\u001B[0mline\u001B[0m\u001B[0;34m)\u001B[0m \u001B[0;34m>\u001B[0m \u001B[0m_MAXLINE\u001B[0m\u001B[0;34m:\u001B[0m\u001B[0;34m\u001B[0m\u001B[0;34m\u001B[0m\u001B[0m\n\u001B[1;32m    279\u001B[0m             \u001B[0;32mraise\u001B[0m \u001B[0mLineTooLong\u001B[0m\u001B[0;34m(\u001B[0m\u001B[0;34m\"status line\"\u001B[0m\u001B[0;34m)\u001B[0m\u001B[0;34m\u001B[0m\u001B[0;34m\u001B[0m\u001B[0m\n",
      "\u001B[0;32m~/opt/anaconda3/lib/python3.8/socket.py\u001B[0m in \u001B[0;36mreadinto\u001B[0;34m(self, b)\u001B[0m\n\u001B[1;32m    667\u001B[0m         \u001B[0;32mwhile\u001B[0m \u001B[0;32mTrue\u001B[0m\u001B[0;34m:\u001B[0m\u001B[0;34m\u001B[0m\u001B[0;34m\u001B[0m\u001B[0m\n\u001B[1;32m    668\u001B[0m             \u001B[0;32mtry\u001B[0m\u001B[0;34m:\u001B[0m\u001B[0;34m\u001B[0m\u001B[0;34m\u001B[0m\u001B[0m\n\u001B[0;32m--> 669\u001B[0;31m                 \u001B[0;32mreturn\u001B[0m \u001B[0mself\u001B[0m\u001B[0;34m.\u001B[0m\u001B[0m_sock\u001B[0m\u001B[0;34m.\u001B[0m\u001B[0mrecv_into\u001B[0m\u001B[0;34m(\u001B[0m\u001B[0mb\u001B[0m\u001B[0;34m)\u001B[0m\u001B[0;34m\u001B[0m\u001B[0;34m\u001B[0m\u001B[0m\n\u001B[0m\u001B[1;32m    670\u001B[0m             \u001B[0;32mexcept\u001B[0m \u001B[0mtimeout\u001B[0m\u001B[0;34m:\u001B[0m\u001B[0;34m\u001B[0m\u001B[0;34m\u001B[0m\u001B[0m\n\u001B[1;32m    671\u001B[0m                 \u001B[0mself\u001B[0m\u001B[0;34m.\u001B[0m\u001B[0m_timeout_occurred\u001B[0m \u001B[0;34m=\u001B[0m \u001B[0;32mTrue\u001B[0m\u001B[0;34m\u001B[0m\u001B[0;34m\u001B[0m\u001B[0m\n",
      "\u001B[0;31mKeyboardInterrupt\u001B[0m: "
     ]
    }
   ],
   "source": [
    "lang_df['language'] = lang_df['title'].apply(lambda x: detectlanguage.detect(x)[0]['language'])\n",
    "lang_df"
   ],
   "metadata": {
    "collapsed": false,
    "pycharm": {
     "name": "#%%\n"
    }
   }
  },
  {
   "cell_type": "markdown",
   "source": [
    "oops, I forgot my rate limit was 1000 calls per day.  Will have to split this up over a couple of days."
   ],
   "metadata": {
    "collapsed": false,
    "pycharm": {
     "name": "#%% md\n"
    }
   }
  },
  {
   "cell_type": "code",
   "execution_count": null,
   "outputs": [],
   "source": [],
   "metadata": {
    "collapsed": false,
    "pycharm": {
     "name": "#%%\n"
    }
   }
  }
 ],
 "metadata": {
  "kernelspec": {
   "display_name": "Python 3",
   "language": "python",
   "name": "python3"
  },
  "language_info": {
   "codemirror_mode": {
    "name": "ipython",
    "version": 2
   },
   "file_extension": ".py",
   "mimetype": "text/x-python",
   "name": "python",
   "nbconvert_exporter": "python",
   "pygments_lexer": "ipython2",
   "version": "2.7.6"
  }
 },
 "nbformat": 4,
 "nbformat_minor": 0
}